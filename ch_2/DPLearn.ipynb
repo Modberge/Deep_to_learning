{
 "cells": [
  {
   "cell_type": "code",
   "execution_count": 1,
   "metadata": {
    "collapsed": false,
    "pycharm": {
     "name": "#%%\n"
    }
   },
   "outputs": [
    {
     "name": "stdout",
     "output_type": "stream",
     "text": [
      "0.0070171356201171875\n"
     ]
    }
   ],
   "source": [
    "import torch\n",
    "from time import time\n",
    "\n",
    "a = torch.ones(1000)\n",
    "b = torch.ones(1000)\n",
    "\n",
    "start = time()\n",
    "c = torch.zeros(1000)\n",
    "for i in range(1000):\n",
    "    c[i] = a[i] + b[i]\n",
    "print(time() - start)"
   ]
  },
  {
   "cell_type": "code",
   "execution_count": 4,
   "metadata": {
    "collapsed": false,
    "pycharm": {
     "name": "#%%\n"
    }
   },
   "outputs": [
    {
     "name": "stdout",
     "output_type": "stream",
     "text": [
      "0.0009081363677978516\n",
      "GeForce GTX 1080 Ti\n",
      "GeForce GTX 1080 Ti\n"
     ]
    }
   ],
   "source": [
    "start = time()\n",
    "d = a + b\n",
    "print(time()-start)\n",
    "print(torch.cuda.get_device_name(0))\n",
    "print(torch.cuda.get_device_name(1))"
   ]
  },
  {
   "cell_type": "code",
   "execution_count": 3,
   "metadata": {
    "collapsed": false,
    "pycharm": {
     "name": "#%%\n"
    }
   },
   "outputs": [
    {
     "name": "stdout",
     "output_type": "stream",
     "text": [
      "tensor([11., 11., 11.])\n"
     ]
    }
   ],
   "source": [
    "a = torch.ones(3)\n",
    "b = 10\n",
    "print(a + b)"
   ]
  },
  {
   "cell_type": "code",
   "execution_count": 31,
   "metadata": {
    "collapsed": false,
    "pycharm": {
     "name": "#%%\n"
    }
   },
   "outputs": [
    {
     "name": "stdout",
     "output_type": "stream",
     "text": [
      "tensor([-0.4957, -2.6436]) tensor(12.2144)\n"
     ]
    }
   ],
   "source": [
    "%matplotlib inline\n",
    "from IPython import display\n",
    "from matplotlib import pyplot as plt\n",
    "import numpy as np\n",
    "import random\n",
    "import torch\n",
    "num_inputs = 2\n",
    "num_examples = 1000\n",
    "true_w = [2, -3.4]\n",
    "true_b = 4.2\n",
    "features = torch.randn(num_examples, num_inputs,\n",
    "                       dtype=torch.float32)\n",
    "labels = true_w[0] * features[:, 0] + true_w[1] * features[:, 1] + true_b\n",
    "labels += torch.tensor(np.random.normal(0, 0.01, size=labels.size()),\n",
    "                       dtype=torch.float32)\n",
    "\n",
    "print(features[0],labels[0])"
   ]
  },
  {
   "cell_type": "code",
   "execution_count": 32,
   "metadata": {
    "collapsed": false,
    "pycharm": {
     "name": "#%%\n"
    }
   },
   "outputs": [
    {
     "name": "stderr",
     "output_type": "stream",
     "text": [
      "<ipython-input-32-b7ed6b60f7e1>:3: DeprecationWarning: `set_matplotlib_formats` is deprecated since IPython 7.23, directly use `matplotlib_inline.backend_inline.set_matplotlib_formats()`\n",
      "  display.set_matplotlib_formats('svg')\n"
     ]
    },
    {
     "data": {
      "image/svg+xml": "<?xml version=\"1.0\" encoding=\"utf-8\" standalone=\"no\"?>\n<!DOCTYPE svg PUBLIC \"-//W3C//DTD SVG 1.1//EN\"\n  \"http://www.w3.org/Graphics/SVG/1.1/DTD/svg11.dtd\">\n<svg height=\"166.978125pt\" version=\"1.1\" viewBox=\"0 0 237.804688 166.978125\" width=\"237.804688pt\" xmlns=\"http://www.w3.org/2000/svg\" xmlns:xlink=\"http://www.w3.org/1999/xlink\">\n <metadata>\n  <rdf:RDF xmlns:cc=\"http://creativecommons.org/ns#\" xmlns:dc=\"http://purl.org/dc/elements/1.1/\" xmlns:rdf=\"http://www.w3.org/1999/02/22-rdf-syntax-ns#\">\n   <cc:Work>\n    <dc:type rdf:resource=\"http://purl.org/dc/dcmitype/StillImage\"/>\n    <dc:date>2021-10-30T11:46:17.981177</dc:date>\n    <dc:format>image/svg+xml</dc:format>\n    <dc:creator>\n     <cc:Agent>\n      <dc:title>Matplotlib v3.4.3, https://matplotlib.org/</dc:title>\n     </cc:Agent>\n    </dc:creator>\n   </cc:Work>\n  </rdf:RDF>\n </metadata>\n <defs>\n  <style type=\"text/css\">*{stroke-linecap:butt;stroke-linejoin:round;}</style>\n </defs>\n <g id=\"figure_1\">\n  <g id=\"patch_1\">\n   <path d=\"M 0 166.978125 \nL 237.804688 166.978125 \nL 237.804688 0 \nL 0 0 \nz\n\" style=\"fill:none;\"/>\n  </g>\n  <g id=\"axes_1\">\n   <g id=\"patch_2\">\n    <path d=\"M 35.304688 143.1 \nL 230.604688 143.1 \nL 230.604688 7.2 \nL 35.304688 7.2 \nz\n\" style=\"fill:#ffffff;\"/>\n   </g>\n   <g id=\"PathCollection_1\">\n    <defs>\n     <path d=\"M 0 0.5 \nC 0.132602 0.5 0.25979 0.447317 0.353553 0.353553 \nC 0.447317 0.25979 0.5 0.132602 0.5 0 \nC 0.5 -0.132602 0.447317 -0.25979 0.353553 -0.353553 \nC 0.25979 -0.447317 0.132602 -0.5 0 -0.5 \nC -0.132602 -0.5 -0.25979 -0.447317 -0.353553 -0.353553 \nC -0.447317 -0.25979 -0.5 -0.132602 -0.5 0 \nC -0.5 0.132602 -0.447317 0.25979 -0.353553 0.353553 \nC -0.25979 0.447317 -0.132602 0.5 0 0.5 \nz\n\" id=\"m54754fc7bb\" style=\"stroke:#1f77b4;\"/>\n    </defs>\n    <g clip-path=\"url(#pdcc2fc8739)\">\n     <use style=\"fill:#1f77b4;stroke:#1f77b4;\" x=\"61.834717\" xlink:href=\"#m54754fc7bb\" y=\"40.003923\"/>\n     <use style=\"fill:#1f77b4;stroke:#1f77b4;\" x=\"172.745762\" xlink:href=\"#m54754fc7bb\" y=\"95.004747\"/>\n     <use style=\"fill:#1f77b4;stroke:#1f77b4;\" x=\"137.569748\" xlink:href=\"#m54754fc7bb\" y=\"76.972346\"/>\n     <use style=\"fill:#1f77b4;stroke:#1f77b4;\" x=\"103.04843\" xlink:href=\"#m54754fc7bb\" y=\"70.543887\"/>\n     <use style=\"fill:#1f77b4;stroke:#1f77b4;\" x=\"142.15712\" xlink:href=\"#m54754fc7bb\" y=\"73.43676\"/>\n     <use style=\"fill:#1f77b4;stroke:#1f77b4;\" x=\"150.678825\" xlink:href=\"#m54754fc7bb\" y=\"94.13116\"/>\n     <use style=\"fill:#1f77b4;stroke:#1f77b4;\" x=\"144.201234\" xlink:href=\"#m54754fc7bb\" y=\"90.233552\"/>\n     <use style=\"fill:#1f77b4;stroke:#1f77b4;\" x=\"116.966953\" xlink:href=\"#m54754fc7bb\" y=\"60.623236\"/>\n     <use style=\"fill:#1f77b4;stroke:#1f77b4;\" x=\"117.157335\" xlink:href=\"#m54754fc7bb\" y=\"70.062815\"/>\n     <use style=\"fill:#1f77b4;stroke:#1f77b4;\" x=\"88.549013\" xlink:href=\"#m54754fc7bb\" y=\"57.309348\"/>\n     <use style=\"fill:#1f77b4;stroke:#1f77b4;\" x=\"64.461339\" xlink:href=\"#m54754fc7bb\" y=\"34.575501\"/>\n     <use style=\"fill:#1f77b4;stroke:#1f77b4;\" x=\"154.916333\" xlink:href=\"#m54754fc7bb\" y=\"97.95674\"/>\n     <use style=\"fill:#1f77b4;stroke:#1f77b4;\" x=\"117.820846\" xlink:href=\"#m54754fc7bb\" y=\"63.069786\"/>\n     <use style=\"fill:#1f77b4;stroke:#1f77b4;\" x=\"101.903261\" xlink:href=\"#m54754fc7bb\" y=\"57.194511\"/>\n     <use style=\"fill:#1f77b4;stroke:#1f77b4;\" x=\"131.179462\" xlink:href=\"#m54754fc7bb\" y=\"70.355961\"/>\n     <use style=\"fill:#1f77b4;stroke:#1f77b4;\" x=\"69.142654\" xlink:href=\"#m54754fc7bb\" y=\"47.350031\"/>\n     <use style=\"fill:#1f77b4;stroke:#1f77b4;\" x=\"175.427935\" xlink:href=\"#m54754fc7bb\" y=\"91.889034\"/>\n     <use style=\"fill:#1f77b4;stroke:#1f77b4;\" x=\"106.907387\" xlink:href=\"#m54754fc7bb\" y=\"62.229123\"/>\n     <use style=\"fill:#1f77b4;stroke:#1f77b4;\" x=\"139.027474\" xlink:href=\"#m54754fc7bb\" y=\"85.483216\"/>\n     <use style=\"fill:#1f77b4;stroke:#1f77b4;\" x=\"128.314377\" xlink:href=\"#m54754fc7bb\" y=\"80.876166\"/>\n     <use style=\"fill:#1f77b4;stroke:#1f77b4;\" x=\"113.681878\" xlink:href=\"#m54754fc7bb\" y=\"72.84061\"/>\n     <use style=\"fill:#1f77b4;stroke:#1f77b4;\" x=\"56.712085\" xlink:href=\"#m54754fc7bb\" y=\"41.577979\"/>\n     <use style=\"fill:#1f77b4;stroke:#1f77b4;\" x=\"139.413285\" xlink:href=\"#m54754fc7bb\" y=\"65.913348\"/>\n     <use style=\"fill:#1f77b4;stroke:#1f77b4;\" x=\"153.766127\" xlink:href=\"#m54754fc7bb\" y=\"97.785179\"/>\n     <use style=\"fill:#1f77b4;stroke:#1f77b4;\" x=\"186.623554\" xlink:href=\"#m54754fc7bb\" y=\"122.885987\"/>\n     <use style=\"fill:#1f77b4;stroke:#1f77b4;\" x=\"156.354726\" xlink:href=\"#m54754fc7bb\" y=\"90.898991\"/>\n     <use style=\"fill:#1f77b4;stroke:#1f77b4;\" x=\"101.423631\" xlink:href=\"#m54754fc7bb\" y=\"60.044932\"/>\n     <use style=\"fill:#1f77b4;stroke:#1f77b4;\" x=\"155.930814\" xlink:href=\"#m54754fc7bb\" y=\"88.359203\"/>\n     <use style=\"fill:#1f77b4;stroke:#1f77b4;\" x=\"101.623163\" xlink:href=\"#m54754fc7bb\" y=\"68.727573\"/>\n     <use style=\"fill:#1f77b4;stroke:#1f77b4;\" x=\"113.80264\" xlink:href=\"#m54754fc7bb\" y=\"67.755217\"/>\n     <use style=\"fill:#1f77b4;stroke:#1f77b4;\" x=\"136.175823\" xlink:href=\"#m54754fc7bb\" y=\"75.787687\"/>\n     <use style=\"fill:#1f77b4;stroke:#1f77b4;\" x=\"153.457859\" xlink:href=\"#m54754fc7bb\" y=\"81.07084\"/>\n     <use style=\"fill:#1f77b4;stroke:#1f77b4;\" x=\"127.828199\" xlink:href=\"#m54754fc7bb\" y=\"64.774796\"/>\n     <use style=\"fill:#1f77b4;stroke:#1f77b4;\" x=\"117.872259\" xlink:href=\"#m54754fc7bb\" y=\"54.887384\"/>\n     <use style=\"fill:#1f77b4;stroke:#1f77b4;\" x=\"136.094491\" xlink:href=\"#m54754fc7bb\" y=\"87.10262\"/>\n     <use style=\"fill:#1f77b4;stroke:#1f77b4;\" x=\"115.624574\" xlink:href=\"#m54754fc7bb\" y=\"82.707228\"/>\n     <use style=\"fill:#1f77b4;stroke:#1f77b4;\" x=\"78.242457\" xlink:href=\"#m54754fc7bb\" y=\"57.399957\"/>\n     <use style=\"fill:#1f77b4;stroke:#1f77b4;\" x=\"95.934412\" xlink:href=\"#m54754fc7bb\" y=\"55.256681\"/>\n     <use style=\"fill:#1f77b4;stroke:#1f77b4;\" x=\"86.224026\" xlink:href=\"#m54754fc7bb\" y=\"53.750963\"/>\n     <use style=\"fill:#1f77b4;stroke:#1f77b4;\" x=\"167.27272\" xlink:href=\"#m54754fc7bb\" y=\"84.733834\"/>\n     <use style=\"fill:#1f77b4;stroke:#1f77b4;\" x=\"142.191963\" xlink:href=\"#m54754fc7bb\" y=\"100.063793\"/>\n     <use style=\"fill:#1f77b4;stroke:#1f77b4;\" x=\"109.210767\" xlink:href=\"#m54754fc7bb\" y=\"56.852329\"/>\n     <use style=\"fill:#1f77b4;stroke:#1f77b4;\" x=\"104.351364\" xlink:href=\"#m54754fc7bb\" y=\"65.408763\"/>\n     <use style=\"fill:#1f77b4;stroke:#1f77b4;\" x=\"150.25345\" xlink:href=\"#m54754fc7bb\" y=\"88.414542\"/>\n     <use style=\"fill:#1f77b4;stroke:#1f77b4;\" x=\"131.498833\" xlink:href=\"#m54754fc7bb\" y=\"84.909527\"/>\n     <use style=\"fill:#1f77b4;stroke:#1f77b4;\" x=\"144.790768\" xlink:href=\"#m54754fc7bb\" y=\"80.681061\"/>\n     <use style=\"fill:#1f77b4;stroke:#1f77b4;\" x=\"169.263435\" xlink:href=\"#m54754fc7bb\" y=\"104.955193\"/>\n     <use style=\"fill:#1f77b4;stroke:#1f77b4;\" x=\"195.758146\" xlink:href=\"#m54754fc7bb\" y=\"115.948784\"/>\n     <use style=\"fill:#1f77b4;stroke:#1f77b4;\" x=\"120.382569\" xlink:href=\"#m54754fc7bb\" y=\"89.57439\"/>\n     <use style=\"fill:#1f77b4;stroke:#1f77b4;\" x=\"120.676179\" xlink:href=\"#m54754fc7bb\" y=\"66.322801\"/>\n     <use style=\"fill:#1f77b4;stroke:#1f77b4;\" x=\"121.937001\" xlink:href=\"#m54754fc7bb\" y=\"69.871696\"/>\n     <use style=\"fill:#1f77b4;stroke:#1f77b4;\" x=\"67.932119\" xlink:href=\"#m54754fc7bb\" y=\"43.595977\"/>\n     <use style=\"fill:#1f77b4;stroke:#1f77b4;\" x=\"128.037264\" xlink:href=\"#m54754fc7bb\" y=\"87.439314\"/>\n     <use style=\"fill:#1f77b4;stroke:#1f77b4;\" x=\"186.250479\" xlink:href=\"#m54754fc7bb\" y=\"119.944205\"/>\n     <use style=\"fill:#1f77b4;stroke:#1f77b4;\" x=\"164.97762\" xlink:href=\"#m54754fc7bb\" y=\"103.783407\"/>\n     <use style=\"fill:#1f77b4;stroke:#1f77b4;\" x=\"163.838573\" xlink:href=\"#m54754fc7bb\" y=\"104.949253\"/>\n     <use style=\"fill:#1f77b4;stroke:#1f77b4;\" x=\"140.365912\" xlink:href=\"#m54754fc7bb\" y=\"83.265098\"/>\n     <use style=\"fill:#1f77b4;stroke:#1f77b4;\" x=\"118.140052\" xlink:href=\"#m54754fc7bb\" y=\"67.817112\"/>\n     <use style=\"fill:#1f77b4;stroke:#1f77b4;\" x=\"183.88025\" xlink:href=\"#m54754fc7bb\" y=\"130.422584\"/>\n     <use style=\"fill:#1f77b4;stroke:#1f77b4;\" x=\"135.165423\" xlink:href=\"#m54754fc7bb\" y=\"77.46728\"/>\n     <use style=\"fill:#1f77b4;stroke:#1f77b4;\" x=\"123.953703\" xlink:href=\"#m54754fc7bb\" y=\"71.558738\"/>\n     <use style=\"fill:#1f77b4;stroke:#1f77b4;\" x=\"120.326862\" xlink:href=\"#m54754fc7bb\" y=\"71.741607\"/>\n     <use style=\"fill:#1f77b4;stroke:#1f77b4;\" x=\"127.658567\" xlink:href=\"#m54754fc7bb\" y=\"94.807174\"/>\n     <use style=\"fill:#1f77b4;stroke:#1f77b4;\" x=\"172.174327\" xlink:href=\"#m54754fc7bb\" y=\"93.138753\"/>\n     <use style=\"fill:#1f77b4;stroke:#1f77b4;\" x=\"127.50198\" xlink:href=\"#m54754fc7bb\" y=\"61.269137\"/>\n     <use style=\"fill:#1f77b4;stroke:#1f77b4;\" x=\"136.966693\" xlink:href=\"#m54754fc7bb\" y=\"76.08241\"/>\n     <use style=\"fill:#1f77b4;stroke:#1f77b4;\" x=\"179.203759\" xlink:href=\"#m54754fc7bb\" y=\"99.977406\"/>\n     <use style=\"fill:#1f77b4;stroke:#1f77b4;\" x=\"130.173999\" xlink:href=\"#m54754fc7bb\" y=\"67.837524\"/>\n     <use style=\"fill:#1f77b4;stroke:#1f77b4;\" x=\"125.252563\" xlink:href=\"#m54754fc7bb\" y=\"81.636866\"/>\n     <use style=\"fill:#1f77b4;stroke:#1f77b4;\" x=\"131.522584\" xlink:href=\"#m54754fc7bb\" y=\"65.802505\"/>\n     <use style=\"fill:#1f77b4;stroke:#1f77b4;\" x=\"184.630086\" xlink:href=\"#m54754fc7bb\" y=\"117.177761\"/>\n     <use style=\"fill:#1f77b4;stroke:#1f77b4;\" x=\"123.620924\" xlink:href=\"#m54754fc7bb\" y=\"82.594215\"/>\n     <use style=\"fill:#1f77b4;stroke:#1f77b4;\" x=\"101.734676\" xlink:href=\"#m54754fc7bb\" y=\"65.307935\"/>\n     <use style=\"fill:#1f77b4;stroke:#1f77b4;\" x=\"99.835555\" xlink:href=\"#m54754fc7bb\" y=\"56.194979\"/>\n     <use style=\"fill:#1f77b4;stroke:#1f77b4;\" x=\"146.571217\" xlink:href=\"#m54754fc7bb\" y=\"86.268374\"/>\n     <use style=\"fill:#1f77b4;stroke:#1f77b4;\" x=\"177.811886\" xlink:href=\"#m54754fc7bb\" y=\"104.436432\"/>\n     <use style=\"fill:#1f77b4;stroke:#1f77b4;\" x=\"179.040483\" xlink:href=\"#m54754fc7bb\" y=\"100.804064\"/>\n     <use style=\"fill:#1f77b4;stroke:#1f77b4;\" x=\"110.721123\" xlink:href=\"#m54754fc7bb\" y=\"87.432286\"/>\n     <use style=\"fill:#1f77b4;stroke:#1f77b4;\" x=\"157.290419\" xlink:href=\"#m54754fc7bb\" y=\"88.083233\"/>\n     <use style=\"fill:#1f77b4;stroke:#1f77b4;\" x=\"128.765382\" xlink:href=\"#m54754fc7bb\" y=\"67.315569\"/>\n     <use style=\"fill:#1f77b4;stroke:#1f77b4;\" x=\"115.591015\" xlink:href=\"#m54754fc7bb\" y=\"75.034303\"/>\n     <use style=\"fill:#1f77b4;stroke:#1f77b4;\" x=\"112.796605\" xlink:href=\"#m54754fc7bb\" y=\"77.310404\"/>\n     <use style=\"fill:#1f77b4;stroke:#1f77b4;\" x=\"165.75638\" xlink:href=\"#m54754fc7bb\" y=\"102.953655\"/>\n     <use style=\"fill:#1f77b4;stroke:#1f77b4;\" x=\"140.429156\" xlink:href=\"#m54754fc7bb\" y=\"86.721615\"/>\n     <use style=\"fill:#1f77b4;stroke:#1f77b4;\" x=\"131.91743\" xlink:href=\"#m54754fc7bb\" y=\"71.030696\"/>\n     <use style=\"fill:#1f77b4;stroke:#1f77b4;\" x=\"115.501341\" xlink:href=\"#m54754fc7bb\" y=\"69.481106\"/>\n     <use style=\"fill:#1f77b4;stroke:#1f77b4;\" x=\"160.68766\" xlink:href=\"#m54754fc7bb\" y=\"89.563068\"/>\n     <use style=\"fill:#1f77b4;stroke:#1f77b4;\" x=\"112.527293\" xlink:href=\"#m54754fc7bb\" y=\"79.685175\"/>\n     <use style=\"fill:#1f77b4;stroke:#1f77b4;\" x=\"146.180141\" xlink:href=\"#m54754fc7bb\" y=\"88.494427\"/>\n     <use style=\"fill:#1f77b4;stroke:#1f77b4;\" x=\"162.690793\" xlink:href=\"#m54754fc7bb\" y=\"93.592173\"/>\n     <use style=\"fill:#1f77b4;stroke:#1f77b4;\" x=\"126.274529\" xlink:href=\"#m54754fc7bb\" y=\"74.679649\"/>\n     <use style=\"fill:#1f77b4;stroke:#1f77b4;\" x=\"113.594315\" xlink:href=\"#m54754fc7bb\" y=\"74.008564\"/>\n     <use style=\"fill:#1f77b4;stroke:#1f77b4;\" x=\"145.630584\" xlink:href=\"#m54754fc7bb\" y=\"74.313331\"/>\n     <use style=\"fill:#1f77b4;stroke:#1f77b4;\" x=\"147.660387\" xlink:href=\"#m54754fc7bb\" y=\"81.042098\"/>\n     <use style=\"fill:#1f77b4;stroke:#1f77b4;\" x=\"161.679809\" xlink:href=\"#m54754fc7bb\" y=\"72.188291\"/>\n     <use style=\"fill:#1f77b4;stroke:#1f77b4;\" x=\"127.397844\" xlink:href=\"#m54754fc7bb\" y=\"72.102435\"/>\n     <use style=\"fill:#1f77b4;stroke:#1f77b4;\" x=\"119.507275\" xlink:href=\"#m54754fc7bb\" y=\"73.463621\"/>\n     <use style=\"fill:#1f77b4;stroke:#1f77b4;\" x=\"145.310787\" xlink:href=\"#m54754fc7bb\" y=\"72.904225\"/>\n     <use style=\"fill:#1f77b4;stroke:#1f77b4;\" x=\"162.129675\" xlink:href=\"#m54754fc7bb\" y=\"103.266183\"/>\n     <use style=\"fill:#1f77b4;stroke:#1f77b4;\" x=\"128.37261\" xlink:href=\"#m54754fc7bb\" y=\"89.60982\"/>\n     <use style=\"fill:#1f77b4;stroke:#1f77b4;\" x=\"184.387335\" xlink:href=\"#m54754fc7bb\" y=\"95.395077\"/>\n     <use style=\"fill:#1f77b4;stroke:#1f77b4;\" x=\"116.102018\" xlink:href=\"#m54754fc7bb\" y=\"76.099749\"/>\n     <use style=\"fill:#1f77b4;stroke:#1f77b4;\" x=\"79.469803\" xlink:href=\"#m54754fc7bb\" y=\"36.048051\"/>\n     <use style=\"fill:#1f77b4;stroke:#1f77b4;\" x=\"119.410273\" xlink:href=\"#m54754fc7bb\" y=\"78.93464\"/>\n     <use style=\"fill:#1f77b4;stroke:#1f77b4;\" x=\"166.296705\" xlink:href=\"#m54754fc7bb\" y=\"99.958504\"/>\n     <use style=\"fill:#1f77b4;stroke:#1f77b4;\" x=\"138.360508\" xlink:href=\"#m54754fc7bb\" y=\"56.852443\"/>\n     <use style=\"fill:#1f77b4;stroke:#1f77b4;\" x=\"110.669601\" xlink:href=\"#m54754fc7bb\" y=\"51.045095\"/>\n     <use style=\"fill:#1f77b4;stroke:#1f77b4;\" x=\"140.347227\" xlink:href=\"#m54754fc7bb\" y=\"78.071192\"/>\n     <use style=\"fill:#1f77b4;stroke:#1f77b4;\" x=\"156.127237\" xlink:href=\"#m54754fc7bb\" y=\"76.754904\"/>\n     <use style=\"fill:#1f77b4;stroke:#1f77b4;\" x=\"113.176168\" xlink:href=\"#m54754fc7bb\" y=\"63.439372\"/>\n     <use style=\"fill:#1f77b4;stroke:#1f77b4;\" x=\"161.185174\" xlink:href=\"#m54754fc7bb\" y=\"93.69468\"/>\n     <use style=\"fill:#1f77b4;stroke:#1f77b4;\" x=\"159.101143\" xlink:href=\"#m54754fc7bb\" y=\"86.539187\"/>\n     <use style=\"fill:#1f77b4;stroke:#1f77b4;\" x=\"130.006265\" xlink:href=\"#m54754fc7bb\" y=\"83.76442\"/>\n     <use style=\"fill:#1f77b4;stroke:#1f77b4;\" x=\"136.343386\" xlink:href=\"#m54754fc7bb\" y=\"74.690189\"/>\n     <use style=\"fill:#1f77b4;stroke:#1f77b4;\" x=\"137.933916\" xlink:href=\"#m54754fc7bb\" y=\"78.603261\"/>\n     <use style=\"fill:#1f77b4;stroke:#1f77b4;\" x=\"143.706665\" xlink:href=\"#m54754fc7bb\" y=\"108.954467\"/>\n     <use style=\"fill:#1f77b4;stroke:#1f77b4;\" x=\"153.980462\" xlink:href=\"#m54754fc7bb\" y=\"118.845194\"/>\n     <use style=\"fill:#1f77b4;stroke:#1f77b4;\" x=\"139.053014\" xlink:href=\"#m54754fc7bb\" y=\"85.979546\"/>\n     <use style=\"fill:#1f77b4;stroke:#1f77b4;\" x=\"124.120181\" xlink:href=\"#m54754fc7bb\" y=\"79.76217\"/>\n     <use style=\"fill:#1f77b4;stroke:#1f77b4;\" x=\"110.491728\" xlink:href=\"#m54754fc7bb\" y=\"65.401298\"/>\n     <use style=\"fill:#1f77b4;stroke:#1f77b4;\" x=\"136.495461\" xlink:href=\"#m54754fc7bb\" y=\"83.998993\"/>\n     <use style=\"fill:#1f77b4;stroke:#1f77b4;\" x=\"81.331165\" xlink:href=\"#m54754fc7bb\" y=\"53.40671\"/>\n     <use style=\"fill:#1f77b4;stroke:#1f77b4;\" x=\"116.296641\" xlink:href=\"#m54754fc7bb\" y=\"62.2713\"/>\n     <use style=\"fill:#1f77b4;stroke:#1f77b4;\" x=\"122.259724\" xlink:href=\"#m54754fc7bb\" y=\"70.909435\"/>\n     <use style=\"fill:#1f77b4;stroke:#1f77b4;\" x=\"143.642631\" xlink:href=\"#m54754fc7bb\" y=\"94.01411\"/>\n     <use style=\"fill:#1f77b4;stroke:#1f77b4;\" x=\"154.076001\" xlink:href=\"#m54754fc7bb\" y=\"86.400528\"/>\n     <use style=\"fill:#1f77b4;stroke:#1f77b4;\" x=\"111.05066\" xlink:href=\"#m54754fc7bb\" y=\"78.302934\"/>\n     <use style=\"fill:#1f77b4;stroke:#1f77b4;\" x=\"121.672818\" xlink:href=\"#m54754fc7bb\" y=\"62.960344\"/>\n     <use style=\"fill:#1f77b4;stroke:#1f77b4;\" x=\"99.842266\" xlink:href=\"#m54754fc7bb\" y=\"68.947002\"/>\n     <use style=\"fill:#1f77b4;stroke:#1f77b4;\" x=\"150.047544\" xlink:href=\"#m54754fc7bb\" y=\"94.264304\"/>\n     <use style=\"fill:#1f77b4;stroke:#1f77b4;\" x=\"109.675305\" xlink:href=\"#m54754fc7bb\" y=\"77.228251\"/>\n     <use style=\"fill:#1f77b4;stroke:#1f77b4;\" x=\"149.163766\" xlink:href=\"#m54754fc7bb\" y=\"81.931278\"/>\n     <use style=\"fill:#1f77b4;stroke:#1f77b4;\" x=\"166.718752\" xlink:href=\"#m54754fc7bb\" y=\"94.571587\"/>\n     <use style=\"fill:#1f77b4;stroke:#1f77b4;\" x=\"144.578835\" xlink:href=\"#m54754fc7bb\" y=\"97.219341\"/>\n     <use style=\"fill:#1f77b4;stroke:#1f77b4;\" x=\"85.152653\" xlink:href=\"#m54754fc7bb\" y=\"55.133667\"/>\n     <use style=\"fill:#1f77b4;stroke:#1f77b4;\" x=\"108.472155\" xlink:href=\"#m54754fc7bb\" y=\"65.858219\"/>\n     <use style=\"fill:#1f77b4;stroke:#1f77b4;\" x=\"144.112535\" xlink:href=\"#m54754fc7bb\" y=\"70.683895\"/>\n     <use style=\"fill:#1f77b4;stroke:#1f77b4;\" x=\"105.262163\" xlink:href=\"#m54754fc7bb\" y=\"61.602559\"/>\n     <use style=\"fill:#1f77b4;stroke:#1f77b4;\" x=\"123.339538\" xlink:href=\"#m54754fc7bb\" y=\"75.510157\"/>\n     <use style=\"fill:#1f77b4;stroke:#1f77b4;\" x=\"107.917566\" xlink:href=\"#m54754fc7bb\" y=\"53.098556\"/>\n     <use style=\"fill:#1f77b4;stroke:#1f77b4;\" x=\"137.218301\" xlink:href=\"#m54754fc7bb\" y=\"80.931647\"/>\n     <use style=\"fill:#1f77b4;stroke:#1f77b4;\" x=\"112.759236\" xlink:href=\"#m54754fc7bb\" y=\"65.506801\"/>\n     <use style=\"fill:#1f77b4;stroke:#1f77b4;\" x=\"148.376487\" xlink:href=\"#m54754fc7bb\" y=\"85.604463\"/>\n     <use style=\"fill:#1f77b4;stroke:#1f77b4;\" x=\"142.559139\" xlink:href=\"#m54754fc7bb\" y=\"83.4973\"/>\n     <use style=\"fill:#1f77b4;stroke:#1f77b4;\" x=\"153.405496\" xlink:href=\"#m54754fc7bb\" y=\"103.947867\"/>\n     <use style=\"fill:#1f77b4;stroke:#1f77b4;\" x=\"131.866571\" xlink:href=\"#m54754fc7bb\" y=\"98.041776\"/>\n     <use style=\"fill:#1f77b4;stroke:#1f77b4;\" x=\"110.287302\" xlink:href=\"#m54754fc7bb\" y=\"74.732435\"/>\n     <use style=\"fill:#1f77b4;stroke:#1f77b4;\" x=\"115.250088\" xlink:href=\"#m54754fc7bb\" y=\"66.650875\"/>\n     <use style=\"fill:#1f77b4;stroke:#1f77b4;\" x=\"133.82576\" xlink:href=\"#m54754fc7bb\" y=\"70.54197\"/>\n     <use style=\"fill:#1f77b4;stroke:#1f77b4;\" x=\"161.656529\" xlink:href=\"#m54754fc7bb\" y=\"91.881513\"/>\n     <use style=\"fill:#1f77b4;stroke:#1f77b4;\" x=\"95.644649\" xlink:href=\"#m54754fc7bb\" y=\"50.941352\"/>\n     <use style=\"fill:#1f77b4;stroke:#1f77b4;\" x=\"114.206188\" xlink:href=\"#m54754fc7bb\" y=\"69.516325\"/>\n     <use style=\"fill:#1f77b4;stroke:#1f77b4;\" x=\"111.375469\" xlink:href=\"#m54754fc7bb\" y=\"71.373243\"/>\n     <use style=\"fill:#1f77b4;stroke:#1f77b4;\" x=\"130.636054\" xlink:href=\"#m54754fc7bb\" y=\"79.548597\"/>\n     <use style=\"fill:#1f77b4;stroke:#1f77b4;\" x=\"160.272699\" xlink:href=\"#m54754fc7bb\" y=\"84.651937\"/>\n     <use style=\"fill:#1f77b4;stroke:#1f77b4;\" x=\"133.764\" xlink:href=\"#m54754fc7bb\" y=\"77.203505\"/>\n     <use style=\"fill:#1f77b4;stroke:#1f77b4;\" x=\"132.977998\" xlink:href=\"#m54754fc7bb\" y=\"67.510017\"/>\n     <use style=\"fill:#1f77b4;stroke:#1f77b4;\" x=\"126.430472\" xlink:href=\"#m54754fc7bb\" y=\"79.306031\"/>\n     <use style=\"fill:#1f77b4;stroke:#1f77b4;\" x=\"149.789499\" xlink:href=\"#m54754fc7bb\" y=\"83.041292\"/>\n     <use style=\"fill:#1f77b4;stroke:#1f77b4;\" x=\"160.760994\" xlink:href=\"#m54754fc7bb\" y=\"99.56412\"/>\n     <use style=\"fill:#1f77b4;stroke:#1f77b4;\" x=\"114.466152\" xlink:href=\"#m54754fc7bb\" y=\"68.57384\"/>\n     <use style=\"fill:#1f77b4;stroke:#1f77b4;\" x=\"129.406382\" xlink:href=\"#m54754fc7bb\" y=\"54.259706\"/>\n     <use style=\"fill:#1f77b4;stroke:#1f77b4;\" x=\"119.319576\" xlink:href=\"#m54754fc7bb\" y=\"68.72736\"/>\n     <use style=\"fill:#1f77b4;stroke:#1f77b4;\" x=\"95.685302\" xlink:href=\"#m54754fc7bb\" y=\"46.02921\"/>\n     <use style=\"fill:#1f77b4;stroke:#1f77b4;\" x=\"111.96017\" xlink:href=\"#m54754fc7bb\" y=\"57.944642\"/>\n     <use style=\"fill:#1f77b4;stroke:#1f77b4;\" x=\"73.243979\" xlink:href=\"#m54754fc7bb\" y=\"35.287783\"/>\n     <use style=\"fill:#1f77b4;stroke:#1f77b4;\" x=\"137.409372\" xlink:href=\"#m54754fc7bb\" y=\"74.580644\"/>\n     <use style=\"fill:#1f77b4;stroke:#1f77b4;\" x=\"124.991268\" xlink:href=\"#m54754fc7bb\" y=\"71.674257\"/>\n     <use style=\"fill:#1f77b4;stroke:#1f77b4;\" x=\"111.990383\" xlink:href=\"#m54754fc7bb\" y=\"61.519386\"/>\n     <use style=\"fill:#1f77b4;stroke:#1f77b4;\" x=\"145.275449\" xlink:href=\"#m54754fc7bb\" y=\"76.282248\"/>\n     <use style=\"fill:#1f77b4;stroke:#1f77b4;\" x=\"105.285379\" xlink:href=\"#m54754fc7bb\" y=\"52.593752\"/>\n     <use style=\"fill:#1f77b4;stroke:#1f77b4;\" x=\"148.688198\" xlink:href=\"#m54754fc7bb\" y=\"85.799384\"/>\n     <use style=\"fill:#1f77b4;stroke:#1f77b4;\" x=\"146.768981\" xlink:href=\"#m54754fc7bb\" y=\"93.678244\"/>\n     <use style=\"fill:#1f77b4;stroke:#1f77b4;\" x=\"123.886802\" xlink:href=\"#m54754fc7bb\" y=\"67.902053\"/>\n     <use style=\"fill:#1f77b4;stroke:#1f77b4;\" x=\"143.042631\" xlink:href=\"#m54754fc7bb\" y=\"71.993009\"/>\n     <use style=\"fill:#1f77b4;stroke:#1f77b4;\" x=\"134.808778\" xlink:href=\"#m54754fc7bb\" y=\"75.038609\"/>\n     <use style=\"fill:#1f77b4;stroke:#1f77b4;\" x=\"107.639338\" xlink:href=\"#m54754fc7bb\" y=\"66.299678\"/>\n     <use style=\"fill:#1f77b4;stroke:#1f77b4;\" x=\"134.44557\" xlink:href=\"#m54754fc7bb\" y=\"59.810583\"/>\n     <use style=\"fill:#1f77b4;stroke:#1f77b4;\" x=\"110.533475\" xlink:href=\"#m54754fc7bb\" y=\"63.975397\"/>\n     <use style=\"fill:#1f77b4;stroke:#1f77b4;\" x=\"152.536986\" xlink:href=\"#m54754fc7bb\" y=\"86.871913\"/>\n     <use style=\"fill:#1f77b4;stroke:#1f77b4;\" x=\"169.528996\" xlink:href=\"#m54754fc7bb\" y=\"99.941232\"/>\n     <use style=\"fill:#1f77b4;stroke:#1f77b4;\" x=\"110.745731\" xlink:href=\"#m54754fc7bb\" y=\"66.442196\"/>\n     <use style=\"fill:#1f77b4;stroke:#1f77b4;\" x=\"141.621383\" xlink:href=\"#m54754fc7bb\" y=\"87.031739\"/>\n     <use style=\"fill:#1f77b4;stroke:#1f77b4;\" x=\"135.96742\" xlink:href=\"#m54754fc7bb\" y=\"73.964858\"/>\n     <use style=\"fill:#1f77b4;stroke:#1f77b4;\" x=\"121.936533\" xlink:href=\"#m54754fc7bb\" y=\"78.867384\"/>\n     <use style=\"fill:#1f77b4;stroke:#1f77b4;\" x=\"109.402143\" xlink:href=\"#m54754fc7bb\" y=\"60.304899\"/>\n     <use style=\"fill:#1f77b4;stroke:#1f77b4;\" x=\"151.843101\" xlink:href=\"#m54754fc7bb\" y=\"91.20091\"/>\n     <use style=\"fill:#1f77b4;stroke:#1f77b4;\" x=\"138.279742\" xlink:href=\"#m54754fc7bb\" y=\"90.181668\"/>\n     <use style=\"fill:#1f77b4;stroke:#1f77b4;\" x=\"154.122259\" xlink:href=\"#m54754fc7bb\" y=\"80.070949\"/>\n     <use style=\"fill:#1f77b4;stroke:#1f77b4;\" x=\"118.69692\" xlink:href=\"#m54754fc7bb\" y=\"72.175324\"/>\n     <use style=\"fill:#1f77b4;stroke:#1f77b4;\" x=\"131.023706\" xlink:href=\"#m54754fc7bb\" y=\"74.040991\"/>\n     <use style=\"fill:#1f77b4;stroke:#1f77b4;\" x=\"121.556487\" xlink:href=\"#m54754fc7bb\" y=\"70.577246\"/>\n     <use style=\"fill:#1f77b4;stroke:#1f77b4;\" x=\"139.534428\" xlink:href=\"#m54754fc7bb\" y=\"86.101437\"/>\n     <use style=\"fill:#1f77b4;stroke:#1f77b4;\" x=\"126.795585\" xlink:href=\"#m54754fc7bb\" y=\"86.209858\"/>\n     <use style=\"fill:#1f77b4;stroke:#1f77b4;\" x=\"121.764245\" xlink:href=\"#m54754fc7bb\" y=\"71.671004\"/>\n     <use style=\"fill:#1f77b4;stroke:#1f77b4;\" x=\"132.975085\" xlink:href=\"#m54754fc7bb\" y=\"80.403879\"/>\n     <use style=\"fill:#1f77b4;stroke:#1f77b4;\" x=\"155.986233\" xlink:href=\"#m54754fc7bb\" y=\"91.59855\"/>\n     <use style=\"fill:#1f77b4;stroke:#1f77b4;\" x=\"110.011007\" xlink:href=\"#m54754fc7bb\" y=\"78.533904\"/>\n     <use style=\"fill:#1f77b4;stroke:#1f77b4;\" x=\"151.973853\" xlink:href=\"#m54754fc7bb\" y=\"96.217517\"/>\n     <use style=\"fill:#1f77b4;stroke:#1f77b4;\" x=\"174.399347\" xlink:href=\"#m54754fc7bb\" y=\"98.210333\"/>\n     <use style=\"fill:#1f77b4;stroke:#1f77b4;\" x=\"176.083492\" xlink:href=\"#m54754fc7bb\" y=\"93.501822\"/>\n     <use style=\"fill:#1f77b4;stroke:#1f77b4;\" x=\"160.127586\" xlink:href=\"#m54754fc7bb\" y=\"87.085787\"/>\n     <use style=\"fill:#1f77b4;stroke:#1f77b4;\" x=\"157.858328\" xlink:href=\"#m54754fc7bb\" y=\"94.691514\"/>\n     <use style=\"fill:#1f77b4;stroke:#1f77b4;\" x=\"129.084464\" xlink:href=\"#m54754fc7bb\" y=\"63.463521\"/>\n     <use style=\"fill:#1f77b4;stroke:#1f77b4;\" x=\"115.544029\" xlink:href=\"#m54754fc7bb\" y=\"62.256786\"/>\n     <use style=\"fill:#1f77b4;stroke:#1f77b4;\" x=\"105.986372\" xlink:href=\"#m54754fc7bb\" y=\"51.966332\"/>\n     <use style=\"fill:#1f77b4;stroke:#1f77b4;\" x=\"122.055597\" xlink:href=\"#m54754fc7bb\" y=\"65.543281\"/>\n     <use style=\"fill:#1f77b4;stroke:#1f77b4;\" x=\"131.14645\" xlink:href=\"#m54754fc7bb\" y=\"69.191905\"/>\n     <use style=\"fill:#1f77b4;stroke:#1f77b4;\" x=\"145.244356\" xlink:href=\"#m54754fc7bb\" y=\"88.645182\"/>\n     <use style=\"fill:#1f77b4;stroke:#1f77b4;\" x=\"99.112826\" xlink:href=\"#m54754fc7bb\" y=\"55.794917\"/>\n     <use style=\"fill:#1f77b4;stroke:#1f77b4;\" x=\"115.534026\" xlink:href=\"#m54754fc7bb\" y=\"61.061393\"/>\n     <use style=\"fill:#1f77b4;stroke:#1f77b4;\" x=\"172.09457\" xlink:href=\"#m54754fc7bb\" y=\"102.334267\"/>\n     <use style=\"fill:#1f77b4;stroke:#1f77b4;\" x=\"106.464753\" xlink:href=\"#m54754fc7bb\" y=\"54.218804\"/>\n     <use style=\"fill:#1f77b4;stroke:#1f77b4;\" x=\"121.612353\" xlink:href=\"#m54754fc7bb\" y=\"47.586443\"/>\n     <use style=\"fill:#1f77b4;stroke:#1f77b4;\" x=\"132.952885\" xlink:href=\"#m54754fc7bb\" y=\"74.819327\"/>\n     <use style=\"fill:#1f77b4;stroke:#1f77b4;\" x=\"161.502127\" xlink:href=\"#m54754fc7bb\" y=\"86.515058\"/>\n     <use style=\"fill:#1f77b4;stroke:#1f77b4;\" x=\"86.27472\" xlink:href=\"#m54754fc7bb\" y=\"45.159689\"/>\n     <use style=\"fill:#1f77b4;stroke:#1f77b4;\" x=\"95.238538\" xlink:href=\"#m54754fc7bb\" y=\"51.757978\"/>\n     <use style=\"fill:#1f77b4;stroke:#1f77b4;\" x=\"103.813091\" xlink:href=\"#m54754fc7bb\" y=\"69.614321\"/>\n     <use style=\"fill:#1f77b4;stroke:#1f77b4;\" x=\"182.455285\" xlink:href=\"#m54754fc7bb\" y=\"110.684216\"/>\n     <use style=\"fill:#1f77b4;stroke:#1f77b4;\" x=\"102.008214\" xlink:href=\"#m54754fc7bb\" y=\"54.420096\"/>\n     <use style=\"fill:#1f77b4;stroke:#1f77b4;\" x=\"109.720574\" xlink:href=\"#m54754fc7bb\" y=\"61.809475\"/>\n     <use style=\"fill:#1f77b4;stroke:#1f77b4;\" x=\"126.21947\" xlink:href=\"#m54754fc7bb\" y=\"66.119711\"/>\n     <use style=\"fill:#1f77b4;stroke:#1f77b4;\" x=\"114.668457\" xlink:href=\"#m54754fc7bb\" y=\"82.05865\"/>\n     <use style=\"fill:#1f77b4;stroke:#1f77b4;\" x=\"135.05701\" xlink:href=\"#m54754fc7bb\" y=\"64.62409\"/>\n     <use style=\"fill:#1f77b4;stroke:#1f77b4;\" x=\"95.139988\" xlink:href=\"#m54754fc7bb\" y=\"64.141246\"/>\n     <use style=\"fill:#1f77b4;stroke:#1f77b4;\" x=\"89.509833\" xlink:href=\"#m54754fc7bb\" y=\"40.266682\"/>\n     <use style=\"fill:#1f77b4;stroke:#1f77b4;\" x=\"157.037178\" xlink:href=\"#m54754fc7bb\" y=\"78.934961\"/>\n     <use style=\"fill:#1f77b4;stroke:#1f77b4;\" x=\"100.539441\" xlink:href=\"#m54754fc7bb\" y=\"54.036406\"/>\n     <use style=\"fill:#1f77b4;stroke:#1f77b4;\" x=\"120.717624\" xlink:href=\"#m54754fc7bb\" y=\"67.024743\"/>\n     <use style=\"fill:#1f77b4;stroke:#1f77b4;\" x=\"104.592876\" xlink:href=\"#m54754fc7bb\" y=\"59.893574\"/>\n     <use style=\"fill:#1f77b4;stroke:#1f77b4;\" x=\"130.028231\" xlink:href=\"#m54754fc7bb\" y=\"83.251544\"/>\n     <use style=\"fill:#1f77b4;stroke:#1f77b4;\" x=\"160.470222\" xlink:href=\"#m54754fc7bb\" y=\"100.55534\"/>\n     <use style=\"fill:#1f77b4;stroke:#1f77b4;\" x=\"136.07495\" xlink:href=\"#m54754fc7bb\" y=\"79.528038\"/>\n     <use style=\"fill:#1f77b4;stroke:#1f77b4;\" x=\"114.354788\" xlink:href=\"#m54754fc7bb\" y=\"57.090522\"/>\n     <use style=\"fill:#1f77b4;stroke:#1f77b4;\" x=\"108.768536\" xlink:href=\"#m54754fc7bb\" y=\"60.185879\"/>\n     <use style=\"fill:#1f77b4;stroke:#1f77b4;\" x=\"112.16786\" xlink:href=\"#m54754fc7bb\" y=\"75.296382\"/>\n     <use style=\"fill:#1f77b4;stroke:#1f77b4;\" x=\"132.647668\" xlink:href=\"#m54754fc7bb\" y=\"91.067685\"/>\n     <use style=\"fill:#1f77b4;stroke:#1f77b4;\" x=\"193.908581\" xlink:href=\"#m54754fc7bb\" y=\"106.842052\"/>\n     <use style=\"fill:#1f77b4;stroke:#1f77b4;\" x=\"95.321305\" xlink:href=\"#m54754fc7bb\" y=\"50.64839\"/>\n     <use style=\"fill:#1f77b4;stroke:#1f77b4;\" x=\"108.589576\" xlink:href=\"#m54754fc7bb\" y=\"58.167236\"/>\n     <use style=\"fill:#1f77b4;stroke:#1f77b4;\" x=\"135.732031\" xlink:href=\"#m54754fc7bb\" y=\"77.721143\"/>\n     <use style=\"fill:#1f77b4;stroke:#1f77b4;\" x=\"92.302905\" xlink:href=\"#m54754fc7bb\" y=\"48.805837\"/>\n     <use style=\"fill:#1f77b4;stroke:#1f77b4;\" x=\"119.180192\" xlink:href=\"#m54754fc7bb\" y=\"62.618704\"/>\n     <use style=\"fill:#1f77b4;stroke:#1f77b4;\" x=\"145.249033\" xlink:href=\"#m54754fc7bb\" y=\"89.006593\"/>\n     <use style=\"fill:#1f77b4;stroke:#1f77b4;\" x=\"114.698674\" xlink:href=\"#m54754fc7bb\" y=\"68.835496\"/>\n     <use style=\"fill:#1f77b4;stroke:#1f77b4;\" x=\"119.98887\" xlink:href=\"#m54754fc7bb\" y=\"67.121331\"/>\n     <use style=\"fill:#1f77b4;stroke:#1f77b4;\" x=\"97.810989\" xlink:href=\"#m54754fc7bb\" y=\"75.652833\"/>\n     <use style=\"fill:#1f77b4;stroke:#1f77b4;\" x=\"144.167\" xlink:href=\"#m54754fc7bb\" y=\"97.129689\"/>\n     <use style=\"fill:#1f77b4;stroke:#1f77b4;\" x=\"115.357874\" xlink:href=\"#m54754fc7bb\" y=\"72.796358\"/>\n     <use style=\"fill:#1f77b4;stroke:#1f77b4;\" x=\"118.314898\" xlink:href=\"#m54754fc7bb\" y=\"63.239223\"/>\n     <use style=\"fill:#1f77b4;stroke:#1f77b4;\" x=\"78.1372\" xlink:href=\"#m54754fc7bb\" y=\"42.83981\"/>\n     <use style=\"fill:#1f77b4;stroke:#1f77b4;\" x=\"147.216049\" xlink:href=\"#m54754fc7bb\" y=\"84.646318\"/>\n     <use style=\"fill:#1f77b4;stroke:#1f77b4;\" x=\"155.62953\" xlink:href=\"#m54754fc7bb\" y=\"101.125456\"/>\n     <use style=\"fill:#1f77b4;stroke:#1f77b4;\" x=\"109.57723\" xlink:href=\"#m54754fc7bb\" y=\"64.356593\"/>\n     <use style=\"fill:#1f77b4;stroke:#1f77b4;\" x=\"92.250333\" xlink:href=\"#m54754fc7bb\" y=\"53.473753\"/>\n     <use style=\"fill:#1f77b4;stroke:#1f77b4;\" x=\"104.227035\" xlink:href=\"#m54754fc7bb\" y=\"42.382256\"/>\n     <use style=\"fill:#1f77b4;stroke:#1f77b4;\" x=\"137.26806\" xlink:href=\"#m54754fc7bb\" y=\"83.625081\"/>\n     <use style=\"fill:#1f77b4;stroke:#1f77b4;\" x=\"148.896673\" xlink:href=\"#m54754fc7bb\" y=\"104.104046\"/>\n     <use style=\"fill:#1f77b4;stroke:#1f77b4;\" x=\"132.406402\" xlink:href=\"#m54754fc7bb\" y=\"80.930604\"/>\n     <use style=\"fill:#1f77b4;stroke:#1f77b4;\" x=\"113.625438\" xlink:href=\"#m54754fc7bb\" y=\"64.401485\"/>\n     <use style=\"fill:#1f77b4;stroke:#1f77b4;\" x=\"153.968133\" xlink:href=\"#m54754fc7bb\" y=\"94.33888\"/>\n     <use style=\"fill:#1f77b4;stroke:#1f77b4;\" x=\"114.844129\" xlink:href=\"#m54754fc7bb\" y=\"67.691365\"/>\n     <use style=\"fill:#1f77b4;stroke:#1f77b4;\" x=\"123.719628\" xlink:href=\"#m54754fc7bb\" y=\"62.171737\"/>\n     <use style=\"fill:#1f77b4;stroke:#1f77b4;\" x=\"138.894635\" xlink:href=\"#m54754fc7bb\" y=\"86.616032\"/>\n     <use style=\"fill:#1f77b4;stroke:#1f77b4;\" x=\"132.817789\" xlink:href=\"#m54754fc7bb\" y=\"94.703464\"/>\n     <use style=\"fill:#1f77b4;stroke:#1f77b4;\" x=\"118.617317\" xlink:href=\"#m54754fc7bb\" y=\"81.867981\"/>\n     <use style=\"fill:#1f77b4;stroke:#1f77b4;\" x=\"86.600413\" xlink:href=\"#m54754fc7bb\" y=\"62.662399\"/>\n     <use style=\"fill:#1f77b4;stroke:#1f77b4;\" x=\"170.981487\" xlink:href=\"#m54754fc7bb\" y=\"106.690627\"/>\n     <use style=\"fill:#1f77b4;stroke:#1f77b4;\" x=\"165.63461\" xlink:href=\"#m54754fc7bb\" y=\"91.903264\"/>\n     <use style=\"fill:#1f77b4;stroke:#1f77b4;\" x=\"195.284267\" xlink:href=\"#m54754fc7bb\" y=\"112.270944\"/>\n     <use style=\"fill:#1f77b4;stroke:#1f77b4;\" x=\"149.069555\" xlink:href=\"#m54754fc7bb\" y=\"78.361679\"/>\n     <use style=\"fill:#1f77b4;stroke:#1f77b4;\" x=\"100.433203\" xlink:href=\"#m54754fc7bb\" y=\"62.21623\"/>\n     <use style=\"fill:#1f77b4;stroke:#1f77b4;\" x=\"78.979282\" xlink:href=\"#m54754fc7bb\" y=\"40.661304\"/>\n     <use style=\"fill:#1f77b4;stroke:#1f77b4;\" x=\"130.035312\" xlink:href=\"#m54754fc7bb\" y=\"86.474658\"/>\n     <use style=\"fill:#1f77b4;stroke:#1f77b4;\" x=\"149.383593\" xlink:href=\"#m54754fc7bb\" y=\"82.258724\"/>\n     <use style=\"fill:#1f77b4;stroke:#1f77b4;\" x=\"126.789861\" xlink:href=\"#m54754fc7bb\" y=\"87.130544\"/>\n     <use style=\"fill:#1f77b4;stroke:#1f77b4;\" x=\"129.678681\" xlink:href=\"#m54754fc7bb\" y=\"71.861713\"/>\n     <use style=\"fill:#1f77b4;stroke:#1f77b4;\" x=\"89.11831\" xlink:href=\"#m54754fc7bb\" y=\"42.46771\"/>\n     <use style=\"fill:#1f77b4;stroke:#1f77b4;\" x=\"145.189073\" xlink:href=\"#m54754fc7bb\" y=\"98.090063\"/>\n     <use style=\"fill:#1f77b4;stroke:#1f77b4;\" x=\"167.505414\" xlink:href=\"#m54754fc7bb\" y=\"116.121707\"/>\n     <use style=\"fill:#1f77b4;stroke:#1f77b4;\" x=\"173.140675\" xlink:href=\"#m54754fc7bb\" y=\"112.994786\"/>\n     <use style=\"fill:#1f77b4;stroke:#1f77b4;\" x=\"112.823195\" xlink:href=\"#m54754fc7bb\" y=\"71.434436\"/>\n     <use style=\"fill:#1f77b4;stroke:#1f77b4;\" x=\"143.076431\" xlink:href=\"#m54754fc7bb\" y=\"83.30238\"/>\n     <use style=\"fill:#1f77b4;stroke:#1f77b4;\" x=\"129.345884\" xlink:href=\"#m54754fc7bb\" y=\"84.690561\"/>\n     <use style=\"fill:#1f77b4;stroke:#1f77b4;\" x=\"112.247363\" xlink:href=\"#m54754fc7bb\" y=\"60.913211\"/>\n     <use style=\"fill:#1f77b4;stroke:#1f77b4;\" x=\"97.32323\" xlink:href=\"#m54754fc7bb\" y=\"61.038116\"/>\n     <use style=\"fill:#1f77b4;stroke:#1f77b4;\" x=\"120.30499\" xlink:href=\"#m54754fc7bb\" y=\"71.879817\"/>\n     <use style=\"fill:#1f77b4;stroke:#1f77b4;\" x=\"145.427704\" xlink:href=\"#m54754fc7bb\" y=\"95.757078\"/>\n     <use style=\"fill:#1f77b4;stroke:#1f77b4;\" x=\"111.186121\" xlink:href=\"#m54754fc7bb\" y=\"61.53416\"/>\n     <use style=\"fill:#1f77b4;stroke:#1f77b4;\" x=\"139.910681\" xlink:href=\"#m54754fc7bb\" y=\"80.459014\"/>\n     <use style=\"fill:#1f77b4;stroke:#1f77b4;\" x=\"120.67701\" xlink:href=\"#m54754fc7bb\" y=\"65.198061\"/>\n     <use style=\"fill:#1f77b4;stroke:#1f77b4;\" x=\"103.249323\" xlink:href=\"#m54754fc7bb\" y=\"73.549064\"/>\n     <use style=\"fill:#1f77b4;stroke:#1f77b4;\" x=\"149.975753\" xlink:href=\"#m54754fc7bb\" y=\"100.882017\"/>\n     <use style=\"fill:#1f77b4;stroke:#1f77b4;\" x=\"150.2919\" xlink:href=\"#m54754fc7bb\" y=\"81.872868\"/>\n     <use style=\"fill:#1f77b4;stroke:#1f77b4;\" x=\"135.60761\" xlink:href=\"#m54754fc7bb\" y=\"79.499942\"/>\n     <use style=\"fill:#1f77b4;stroke:#1f77b4;\" x=\"188.907318\" xlink:href=\"#m54754fc7bb\" y=\"114.845895\"/>\n     <use style=\"fill:#1f77b4;stroke:#1f77b4;\" x=\"117.858615\" xlink:href=\"#m54754fc7bb\" y=\"57.781848\"/>\n     <use style=\"fill:#1f77b4;stroke:#1f77b4;\" x=\"111.263746\" xlink:href=\"#m54754fc7bb\" y=\"51.803162\"/>\n     <use style=\"fill:#1f77b4;stroke:#1f77b4;\" x=\"179.240689\" xlink:href=\"#m54754fc7bb\" y=\"95.384787\"/>\n     <use style=\"fill:#1f77b4;stroke:#1f77b4;\" x=\"116.203957\" xlink:href=\"#m54754fc7bb\" y=\"66.970211\"/>\n     <use style=\"fill:#1f77b4;stroke:#1f77b4;\" x=\"124.194851\" xlink:href=\"#m54754fc7bb\" y=\"87.249078\"/>\n     <use style=\"fill:#1f77b4;stroke:#1f77b4;\" x=\"160.897318\" xlink:href=\"#m54754fc7bb\" y=\"93.619104\"/>\n     <use style=\"fill:#1f77b4;stroke:#1f77b4;\" x=\"143.726668\" xlink:href=\"#m54754fc7bb\" y=\"78.95666\"/>\n     <use style=\"fill:#1f77b4;stroke:#1f77b4;\" x=\"170.125288\" xlink:href=\"#m54754fc7bb\" y=\"102.732166\"/>\n     <use style=\"fill:#1f77b4;stroke:#1f77b4;\" x=\"131.922578\" xlink:href=\"#m54754fc7bb\" y=\"77.162506\"/>\n     <use style=\"fill:#1f77b4;stroke:#1f77b4;\" x=\"121.058569\" xlink:href=\"#m54754fc7bb\" y=\"58.667824\"/>\n     <use style=\"fill:#1f77b4;stroke:#1f77b4;\" x=\"108.456175\" xlink:href=\"#m54754fc7bb\" y=\"54.29162\"/>\n     <use style=\"fill:#1f77b4;stroke:#1f77b4;\" x=\"104.35842\" xlink:href=\"#m54754fc7bb\" y=\"56.895556\"/>\n     <use style=\"fill:#1f77b4;stroke:#1f77b4;\" x=\"104.547284\" xlink:href=\"#m54754fc7bb\" y=\"71.688839\"/>\n     <use style=\"fill:#1f77b4;stroke:#1f77b4;\" x=\"171.476847\" xlink:href=\"#m54754fc7bb\" y=\"94.663242\"/>\n     <use style=\"fill:#1f77b4;stroke:#1f77b4;\" x=\"124.015255\" xlink:href=\"#m54754fc7bb\" y=\"82.665541\"/>\n     <use style=\"fill:#1f77b4;stroke:#1f77b4;\" x=\"153.788882\" xlink:href=\"#m54754fc7bb\" y=\"98.089299\"/>\n     <use style=\"fill:#1f77b4;stroke:#1f77b4;\" x=\"132.814981\" xlink:href=\"#m54754fc7bb\" y=\"74.109331\"/>\n     <use style=\"fill:#1f77b4;stroke:#1f77b4;\" x=\"154.533536\" xlink:href=\"#m54754fc7bb\" y=\"77.415228\"/>\n     <use style=\"fill:#1f77b4;stroke:#1f77b4;\" x=\"182.422782\" xlink:href=\"#m54754fc7bb\" y=\"103.24737\"/>\n     <use style=\"fill:#1f77b4;stroke:#1f77b4;\" x=\"86.769004\" xlink:href=\"#m54754fc7bb\" y=\"55.330949\"/>\n     <use style=\"fill:#1f77b4;stroke:#1f77b4;\" x=\"90.739161\" xlink:href=\"#m54754fc7bb\" y=\"61.40992\"/>\n     <use style=\"fill:#1f77b4;stroke:#1f77b4;\" x=\"118.611804\" xlink:href=\"#m54754fc7bb\" y=\"62.258769\"/>\n     <use style=\"fill:#1f77b4;stroke:#1f77b4;\" x=\"161.607102\" xlink:href=\"#m54754fc7bb\" y=\"85.246276\"/>\n     <use style=\"fill:#1f77b4;stroke:#1f77b4;\" x=\"101.658196\" xlink:href=\"#m54754fc7bb\" y=\"59.595699\"/>\n     <use style=\"fill:#1f77b4;stroke:#1f77b4;\" x=\"110.153223\" xlink:href=\"#m54754fc7bb\" y=\"64.439019\"/>\n     <use style=\"fill:#1f77b4;stroke:#1f77b4;\" x=\"160.545296\" xlink:href=\"#m54754fc7bb\" y=\"97.058403\"/>\n     <use style=\"fill:#1f77b4;stroke:#1f77b4;\" x=\"131.945731\" xlink:href=\"#m54754fc7bb\" y=\"84.131415\"/>\n     <use style=\"fill:#1f77b4;stroke:#1f77b4;\" x=\"137.337193\" xlink:href=\"#m54754fc7bb\" y=\"71.162831\"/>\n     <use style=\"fill:#1f77b4;stroke:#1f77b4;\" x=\"140.015736\" xlink:href=\"#m54754fc7bb\" y=\"67.98488\"/>\n     <use style=\"fill:#1f77b4;stroke:#1f77b4;\" x=\"123.59758\" xlink:href=\"#m54754fc7bb\" y=\"78.708225\"/>\n     <use style=\"fill:#1f77b4;stroke:#1f77b4;\" x=\"73.424427\" xlink:href=\"#m54754fc7bb\" y=\"50.901103\"/>\n     <use style=\"fill:#1f77b4;stroke:#1f77b4;\" x=\"132.868029\" xlink:href=\"#m54754fc7bb\" y=\"76.168852\"/>\n     <use style=\"fill:#1f77b4;stroke:#1f77b4;\" x=\"148.879517\" xlink:href=\"#m54754fc7bb\" y=\"84.406302\"/>\n     <use style=\"fill:#1f77b4;stroke:#1f77b4;\" x=\"138.704366\" xlink:href=\"#m54754fc7bb\" y=\"77.347733\"/>\n     <use style=\"fill:#1f77b4;stroke:#1f77b4;\" x=\"144.992886\" xlink:href=\"#m54754fc7bb\" y=\"91.082756\"/>\n     <use style=\"fill:#1f77b4;stroke:#1f77b4;\" x=\"126.858837\" xlink:href=\"#m54754fc7bb\" y=\"76.460296\"/>\n     <use style=\"fill:#1f77b4;stroke:#1f77b4;\" x=\"131.142931\" xlink:href=\"#m54754fc7bb\" y=\"78.611141\"/>\n     <use style=\"fill:#1f77b4;stroke:#1f77b4;\" x=\"113.814324\" xlink:href=\"#m54754fc7bb\" y=\"70.492875\"/>\n     <use style=\"fill:#1f77b4;stroke:#1f77b4;\" x=\"104.459218\" xlink:href=\"#m54754fc7bb\" y=\"61.705466\"/>\n     <use style=\"fill:#1f77b4;stroke:#1f77b4;\" x=\"146.05395\" xlink:href=\"#m54754fc7bb\" y=\"93.92784\"/>\n     <use style=\"fill:#1f77b4;stroke:#1f77b4;\" x=\"125.025258\" xlink:href=\"#m54754fc7bb\" y=\"70.698525\"/>\n     <use style=\"fill:#1f77b4;stroke:#1f77b4;\" x=\"103.818676\" xlink:href=\"#m54754fc7bb\" y=\"58.072968\"/>\n     <use style=\"fill:#1f77b4;stroke:#1f77b4;\" x=\"109.894646\" xlink:href=\"#m54754fc7bb\" y=\"52.445698\"/>\n     <use style=\"fill:#1f77b4;stroke:#1f77b4;\" x=\"116.296175\" xlink:href=\"#m54754fc7bb\" y=\"42.623963\"/>\n     <use style=\"fill:#1f77b4;stroke:#1f77b4;\" x=\"121.703232\" xlink:href=\"#m54754fc7bb\" y=\"56.141877\"/>\n     <use style=\"fill:#1f77b4;stroke:#1f77b4;\" x=\"130.591693\" xlink:href=\"#m54754fc7bb\" y=\"69.497802\"/>\n     <use style=\"fill:#1f77b4;stroke:#1f77b4;\" x=\"110.323751\" xlink:href=\"#m54754fc7bb\" y=\"64.37856\"/>\n     <use style=\"fill:#1f77b4;stroke:#1f77b4;\" x=\"162.583077\" xlink:href=\"#m54754fc7bb\" y=\"112.657525\"/>\n     <use style=\"fill:#1f77b4;stroke:#1f77b4;\" x=\"107.887681\" xlink:href=\"#m54754fc7bb\" y=\"57.97159\"/>\n     <use style=\"fill:#1f77b4;stroke:#1f77b4;\" x=\"104.984145\" xlink:href=\"#m54754fc7bb\" y=\"53.155676\"/>\n     <use style=\"fill:#1f77b4;stroke:#1f77b4;\" x=\"129.584053\" xlink:href=\"#m54754fc7bb\" y=\"67.60337\"/>\n     <use style=\"fill:#1f77b4;stroke:#1f77b4;\" x=\"113.274395\" xlink:href=\"#m54754fc7bb\" y=\"76.842624\"/>\n     <use style=\"fill:#1f77b4;stroke:#1f77b4;\" x=\"119.051577\" xlink:href=\"#m54754fc7bb\" y=\"64.900699\"/>\n     <use style=\"fill:#1f77b4;stroke:#1f77b4;\" x=\"121.322355\" xlink:href=\"#m54754fc7bb\" y=\"71.346652\"/>\n     <use style=\"fill:#1f77b4;stroke:#1f77b4;\" x=\"59.974584\" xlink:href=\"#m54754fc7bb\" y=\"31.915392\"/>\n     <use style=\"fill:#1f77b4;stroke:#1f77b4;\" x=\"116.834543\" xlink:href=\"#m54754fc7bb\" y=\"67.714597\"/>\n     <use style=\"fill:#1f77b4;stroke:#1f77b4;\" x=\"112.351219\" xlink:href=\"#m54754fc7bb\" y=\"70.52598\"/>\n     <use style=\"fill:#1f77b4;stroke:#1f77b4;\" x=\"179.578044\" xlink:href=\"#m54754fc7bb\" y=\"101.130717\"/>\n     <use style=\"fill:#1f77b4;stroke:#1f77b4;\" x=\"161.277684\" xlink:href=\"#m54754fc7bb\" y=\"106.853282\"/>\n     <use style=\"fill:#1f77b4;stroke:#1f77b4;\" x=\"60.503591\" xlink:href=\"#m54754fc7bb\" y=\"39.09575\"/>\n     <use style=\"fill:#1f77b4;stroke:#1f77b4;\" x=\"120.608222\" xlink:href=\"#m54754fc7bb\" y=\"66.350947\"/>\n     <use style=\"fill:#1f77b4;stroke:#1f77b4;\" x=\"140.915695\" xlink:href=\"#m54754fc7bb\" y=\"64.188481\"/>\n     <use style=\"fill:#1f77b4;stroke:#1f77b4;\" x=\"118.564803\" xlink:href=\"#m54754fc7bb\" y=\"74.999966\"/>\n     <use style=\"fill:#1f77b4;stroke:#1f77b4;\" x=\"129.190537\" xlink:href=\"#m54754fc7bb\" y=\"69.06176\"/>\n     <use style=\"fill:#1f77b4;stroke:#1f77b4;\" x=\"103.076216\" xlink:href=\"#m54754fc7bb\" y=\"55.163023\"/>\n     <use style=\"fill:#1f77b4;stroke:#1f77b4;\" x=\"162.984569\" xlink:href=\"#m54754fc7bb\" y=\"97.085423\"/>\n     <use style=\"fill:#1f77b4;stroke:#1f77b4;\" x=\"127.31593\" xlink:href=\"#m54754fc7bb\" y=\"86.566988\"/>\n     <use style=\"fill:#1f77b4;stroke:#1f77b4;\" x=\"140.703696\" xlink:href=\"#m54754fc7bb\" y=\"84.392928\"/>\n     <use style=\"fill:#1f77b4;stroke:#1f77b4;\" x=\"144.509539\" xlink:href=\"#m54754fc7bb\" y=\"75.149454\"/>\n     <use style=\"fill:#1f77b4;stroke:#1f77b4;\" x=\"151.765084\" xlink:href=\"#m54754fc7bb\" y=\"89.155975\"/>\n     <use style=\"fill:#1f77b4;stroke:#1f77b4;\" x=\"125.552171\" xlink:href=\"#m54754fc7bb\" y=\"65.254438\"/>\n     <use style=\"fill:#1f77b4;stroke:#1f77b4;\" x=\"107.375964\" xlink:href=\"#m54754fc7bb\" y=\"67.266977\"/>\n     <use style=\"fill:#1f77b4;stroke:#1f77b4;\" x=\"118.286492\" xlink:href=\"#m54754fc7bb\" y=\"58.449863\"/>\n     <use style=\"fill:#1f77b4;stroke:#1f77b4;\" x=\"62.282274\" xlink:href=\"#m54754fc7bb\" y=\"31.474266\"/>\n     <use style=\"fill:#1f77b4;stroke:#1f77b4;\" x=\"151.027185\" xlink:href=\"#m54754fc7bb\" y=\"101.976571\"/>\n     <use style=\"fill:#1f77b4;stroke:#1f77b4;\" x=\"109.053016\" xlink:href=\"#m54754fc7bb\" y=\"61.321305\"/>\n     <use style=\"fill:#1f77b4;stroke:#1f77b4;\" x=\"176.889207\" xlink:href=\"#m54754fc7bb\" y=\"105.531133\"/>\n     <use style=\"fill:#1f77b4;stroke:#1f77b4;\" x=\"103.220636\" xlink:href=\"#m54754fc7bb\" y=\"60.254942\"/>\n     <use style=\"fill:#1f77b4;stroke:#1f77b4;\" x=\"158.748686\" xlink:href=\"#m54754fc7bb\" y=\"101.181348\"/>\n     <use style=\"fill:#1f77b4;stroke:#1f77b4;\" x=\"117.097323\" xlink:href=\"#m54754fc7bb\" y=\"75.02061\"/>\n     <use style=\"fill:#1f77b4;stroke:#1f77b4;\" x=\"166.295177\" xlink:href=\"#m54754fc7bb\" y=\"103.084705\"/>\n     <use style=\"fill:#1f77b4;stroke:#1f77b4;\" x=\"134.545167\" xlink:href=\"#m54754fc7bb\" y=\"63.62227\"/>\n     <use style=\"fill:#1f77b4;stroke:#1f77b4;\" x=\"142.040803\" xlink:href=\"#m54754fc7bb\" y=\"90.510964\"/>\n     <use style=\"fill:#1f77b4;stroke:#1f77b4;\" x=\"142.553455\" xlink:href=\"#m54754fc7bb\" y=\"77.102107\"/>\n     <use style=\"fill:#1f77b4;stroke:#1f77b4;\" x=\"89.650164\" xlink:href=\"#m54754fc7bb\" y=\"66.666025\"/>\n     <use style=\"fill:#1f77b4;stroke:#1f77b4;\" x=\"141.344714\" xlink:href=\"#m54754fc7bb\" y=\"75.495939\"/>\n     <use style=\"fill:#1f77b4;stroke:#1f77b4;\" x=\"139.308671\" xlink:href=\"#m54754fc7bb\" y=\"77.591671\"/>\n     <use style=\"fill:#1f77b4;stroke:#1f77b4;\" x=\"125.023288\" xlink:href=\"#m54754fc7bb\" y=\"61.521123\"/>\n     <use style=\"fill:#1f77b4;stroke:#1f77b4;\" x=\"111.398094\" xlink:href=\"#m54754fc7bb\" y=\"57.687945\"/>\n     <use style=\"fill:#1f77b4;stroke:#1f77b4;\" x=\"116.745151\" xlink:href=\"#m54754fc7bb\" y=\"54.858002\"/>\n     <use style=\"fill:#1f77b4;stroke:#1f77b4;\" x=\"164.45216\" xlink:href=\"#m54754fc7bb\" y=\"99.350096\"/>\n     <use style=\"fill:#1f77b4;stroke:#1f77b4;\" x=\"109.161887\" xlink:href=\"#m54754fc7bb\" y=\"58.128645\"/>\n     <use style=\"fill:#1f77b4;stroke:#1f77b4;\" x=\"139.74962\" xlink:href=\"#m54754fc7bb\" y=\"89.879881\"/>\n     <use style=\"fill:#1f77b4;stroke:#1f77b4;\" x=\"177.648487\" xlink:href=\"#m54754fc7bb\" y=\"111.158776\"/>\n     <use style=\"fill:#1f77b4;stroke:#1f77b4;\" x=\"128.697679\" xlink:href=\"#m54754fc7bb\" y=\"85.922855\"/>\n     <use style=\"fill:#1f77b4;stroke:#1f77b4;\" x=\"140.400325\" xlink:href=\"#m54754fc7bb\" y=\"94.444778\"/>\n     <use style=\"fill:#1f77b4;stroke:#1f77b4;\" x=\"105.195603\" xlink:href=\"#m54754fc7bb\" y=\"68.240397\"/>\n     <use style=\"fill:#1f77b4;stroke:#1f77b4;\" x=\"127.339194\" xlink:href=\"#m54754fc7bb\" y=\"80.87934\"/>\n     <use style=\"fill:#1f77b4;stroke:#1f77b4;\" x=\"126.452106\" xlink:href=\"#m54754fc7bb\" y=\"96.14629\"/>\n     <use style=\"fill:#1f77b4;stroke:#1f77b4;\" x=\"117.601028\" xlink:href=\"#m54754fc7bb\" y=\"57.17127\"/>\n     <use style=\"fill:#1f77b4;stroke:#1f77b4;\" x=\"107.36142\" xlink:href=\"#m54754fc7bb\" y=\"75.540671\"/>\n     <use style=\"fill:#1f77b4;stroke:#1f77b4;\" x=\"141.38628\" xlink:href=\"#m54754fc7bb\" y=\"77.640226\"/>\n     <use style=\"fill:#1f77b4;stroke:#1f77b4;\" x=\"105.694472\" xlink:href=\"#m54754fc7bb\" y=\"63.360643\"/>\n     <use style=\"fill:#1f77b4;stroke:#1f77b4;\" x=\"135.376277\" xlink:href=\"#m54754fc7bb\" y=\"75.923635\"/>\n     <use style=\"fill:#1f77b4;stroke:#1f77b4;\" x=\"110.140603\" xlink:href=\"#m54754fc7bb\" y=\"76.381817\"/>\n     <use style=\"fill:#1f77b4;stroke:#1f77b4;\" x=\"146.874078\" xlink:href=\"#m54754fc7bb\" y=\"82.339266\"/>\n     <use style=\"fill:#1f77b4;stroke:#1f77b4;\" x=\"127.127564\" xlink:href=\"#m54754fc7bb\" y=\"69.108723\"/>\n     <use style=\"fill:#1f77b4;stroke:#1f77b4;\" x=\"46.379345\" xlink:href=\"#m54754fc7bb\" y=\"13.377273\"/>\n     <use style=\"fill:#1f77b4;stroke:#1f77b4;\" x=\"129.773938\" xlink:href=\"#m54754fc7bb\" y=\"73.348255\"/>\n     <use style=\"fill:#1f77b4;stroke:#1f77b4;\" x=\"138.276983\" xlink:href=\"#m54754fc7bb\" y=\"77.983685\"/>\n     <use style=\"fill:#1f77b4;stroke:#1f77b4;\" x=\"114.247385\" xlink:href=\"#m54754fc7bb\" y=\"73.285024\"/>\n     <use style=\"fill:#1f77b4;stroke:#1f77b4;\" x=\"120.573793\" xlink:href=\"#m54754fc7bb\" y=\"71.577447\"/>\n     <use style=\"fill:#1f77b4;stroke:#1f77b4;\" x=\"92.511622\" xlink:href=\"#m54754fc7bb\" y=\"57.655044\"/>\n     <use style=\"fill:#1f77b4;stroke:#1f77b4;\" x=\"137.157056\" xlink:href=\"#m54754fc7bb\" y=\"99.193577\"/>\n     <use style=\"fill:#1f77b4;stroke:#1f77b4;\" x=\"105.610275\" xlink:href=\"#m54754fc7bb\" y=\"51.789339\"/>\n     <use style=\"fill:#1f77b4;stroke:#1f77b4;\" x=\"151.802312\" xlink:href=\"#m54754fc7bb\" y=\"85.43452\"/>\n     <use style=\"fill:#1f77b4;stroke:#1f77b4;\" x=\"165.301921\" xlink:href=\"#m54754fc7bb\" y=\"80.504413\"/>\n     <use style=\"fill:#1f77b4;stroke:#1f77b4;\" x=\"164.081048\" xlink:href=\"#m54754fc7bb\" y=\"104.848942\"/>\n     <use style=\"fill:#1f77b4;stroke:#1f77b4;\" x=\"155.959817\" xlink:href=\"#m54754fc7bb\" y=\"80.720933\"/>\n     <use style=\"fill:#1f77b4;stroke:#1f77b4;\" x=\"156.644231\" xlink:href=\"#m54754fc7bb\" y=\"93.779663\"/>\n     <use style=\"fill:#1f77b4;stroke:#1f77b4;\" x=\"144.605404\" xlink:href=\"#m54754fc7bb\" y=\"80.193022\"/>\n     <use style=\"fill:#1f77b4;stroke:#1f77b4;\" x=\"145.776162\" xlink:href=\"#m54754fc7bb\" y=\"78.21376\"/>\n     <use style=\"fill:#1f77b4;stroke:#1f77b4;\" x=\"160.125077\" xlink:href=\"#m54754fc7bb\" y=\"83.784187\"/>\n     <use style=\"fill:#1f77b4;stroke:#1f77b4;\" x=\"122.136034\" xlink:href=\"#m54754fc7bb\" y=\"69.012369\"/>\n     <use style=\"fill:#1f77b4;stroke:#1f77b4;\" x=\"119.345242\" xlink:href=\"#m54754fc7bb\" y=\"86.586706\"/>\n     <use style=\"fill:#1f77b4;stroke:#1f77b4;\" x=\"135.508317\" xlink:href=\"#m54754fc7bb\" y=\"100.442701\"/>\n     <use style=\"fill:#1f77b4;stroke:#1f77b4;\" x=\"85.07553\" xlink:href=\"#m54754fc7bb\" y=\"41.080136\"/>\n     <use style=\"fill:#1f77b4;stroke:#1f77b4;\" x=\"107.642114\" xlink:href=\"#m54754fc7bb\" y=\"87.610667\"/>\n     <use style=\"fill:#1f77b4;stroke:#1f77b4;\" x=\"109.760314\" xlink:href=\"#m54754fc7bb\" y=\"53.182835\"/>\n     <use style=\"fill:#1f77b4;stroke:#1f77b4;\" x=\"159.823361\" xlink:href=\"#m54754fc7bb\" y=\"96.201676\"/>\n     <use style=\"fill:#1f77b4;stroke:#1f77b4;\" x=\"90.487442\" xlink:href=\"#m54754fc7bb\" y=\"52.110377\"/>\n     <use style=\"fill:#1f77b4;stroke:#1f77b4;\" x=\"142.51552\" xlink:href=\"#m54754fc7bb\" y=\"73.416191\"/>\n     <use style=\"fill:#1f77b4;stroke:#1f77b4;\" x=\"145.893945\" xlink:href=\"#m54754fc7bb\" y=\"86.445673\"/>\n     <use style=\"fill:#1f77b4;stroke:#1f77b4;\" x=\"130.281376\" xlink:href=\"#m54754fc7bb\" y=\"81.874927\"/>\n     <use style=\"fill:#1f77b4;stroke:#1f77b4;\" x=\"131.052031\" xlink:href=\"#m54754fc7bb\" y=\"74.924449\"/>\n     <use style=\"fill:#1f77b4;stroke:#1f77b4;\" x=\"136.570072\" xlink:href=\"#m54754fc7bb\" y=\"75.961225\"/>\n     <use style=\"fill:#1f77b4;stroke:#1f77b4;\" x=\"120.592969\" xlink:href=\"#m54754fc7bb\" y=\"85.380918\"/>\n     <use style=\"fill:#1f77b4;stroke:#1f77b4;\" x=\"172.90985\" xlink:href=\"#m54754fc7bb\" y=\"109.054031\"/>\n     <use style=\"fill:#1f77b4;stroke:#1f77b4;\" x=\"110.113307\" xlink:href=\"#m54754fc7bb\" y=\"75.695248\"/>\n     <use style=\"fill:#1f77b4;stroke:#1f77b4;\" x=\"131.083572\" xlink:href=\"#m54754fc7bb\" y=\"74.056856\"/>\n     <use style=\"fill:#1f77b4;stroke:#1f77b4;\" x=\"95.34901\" xlink:href=\"#m54754fc7bb\" y=\"58.104483\"/>\n     <use style=\"fill:#1f77b4;stroke:#1f77b4;\" x=\"141.138513\" xlink:href=\"#m54754fc7bb\" y=\"90.195428\"/>\n     <use style=\"fill:#1f77b4;stroke:#1f77b4;\" x=\"146.718706\" xlink:href=\"#m54754fc7bb\" y=\"73.409459\"/>\n     <use style=\"fill:#1f77b4;stroke:#1f77b4;\" x=\"147.54688\" xlink:href=\"#m54754fc7bb\" y=\"83.038608\"/>\n     <use style=\"fill:#1f77b4;stroke:#1f77b4;\" x=\"144.811992\" xlink:href=\"#m54754fc7bb\" y=\"69.281753\"/>\n     <use style=\"fill:#1f77b4;stroke:#1f77b4;\" x=\"179.664769\" xlink:href=\"#m54754fc7bb\" y=\"106.356575\"/>\n     <use style=\"fill:#1f77b4;stroke:#1f77b4;\" x=\"167.791056\" xlink:href=\"#m54754fc7bb\" y=\"114.320128\"/>\n     <use style=\"fill:#1f77b4;stroke:#1f77b4;\" x=\"123.377288\" xlink:href=\"#m54754fc7bb\" y=\"79.380508\"/>\n     <use style=\"fill:#1f77b4;stroke:#1f77b4;\" x=\"132.54812\" xlink:href=\"#m54754fc7bb\" y=\"87.170486\"/>\n     <use style=\"fill:#1f77b4;stroke:#1f77b4;\" x=\"201.837605\" xlink:href=\"#m54754fc7bb\" y=\"127.659774\"/>\n     <use style=\"fill:#1f77b4;stroke:#1f77b4;\" x=\"121.374649\" xlink:href=\"#m54754fc7bb\" y=\"55.276128\"/>\n     <use style=\"fill:#1f77b4;stroke:#1f77b4;\" x=\"122.193696\" xlink:href=\"#m54754fc7bb\" y=\"77.36779\"/>\n     <use style=\"fill:#1f77b4;stroke:#1f77b4;\" x=\"169.229399\" xlink:href=\"#m54754fc7bb\" y=\"99.981212\"/>\n     <use style=\"fill:#1f77b4;stroke:#1f77b4;\" x=\"111.295082\" xlink:href=\"#m54754fc7bb\" y=\"66.704186\"/>\n     <use style=\"fill:#1f77b4;stroke:#1f77b4;\" x=\"177.723728\" xlink:href=\"#m54754fc7bb\" y=\"90.653146\"/>\n     <use style=\"fill:#1f77b4;stroke:#1f77b4;\" x=\"199.986353\" xlink:href=\"#m54754fc7bb\" y=\"114.586117\"/>\n     <use style=\"fill:#1f77b4;stroke:#1f77b4;\" x=\"162.379556\" xlink:href=\"#m54754fc7bb\" y=\"85.536603\"/>\n     <use style=\"fill:#1f77b4;stroke:#1f77b4;\" x=\"79.977543\" xlink:href=\"#m54754fc7bb\" y=\"39.11975\"/>\n     <use style=\"fill:#1f77b4;stroke:#1f77b4;\" x=\"157.753087\" xlink:href=\"#m54754fc7bb\" y=\"87.71349\"/>\n     <use style=\"fill:#1f77b4;stroke:#1f77b4;\" x=\"127.794406\" xlink:href=\"#m54754fc7bb\" y=\"77.713387\"/>\n     <use style=\"fill:#1f77b4;stroke:#1f77b4;\" x=\"91.76666\" xlink:href=\"#m54754fc7bb\" y=\"47.826795\"/>\n     <use style=\"fill:#1f77b4;stroke:#1f77b4;\" x=\"123.12412\" xlink:href=\"#m54754fc7bb\" y=\"82.048222\"/>\n     <use style=\"fill:#1f77b4;stroke:#1f77b4;\" x=\"144.94107\" xlink:href=\"#m54754fc7bb\" y=\"63.377216\"/>\n     <use style=\"fill:#1f77b4;stroke:#1f77b4;\" x=\"194.215822\" xlink:href=\"#m54754fc7bb\" y=\"111.349516\"/>\n     <use style=\"fill:#1f77b4;stroke:#1f77b4;\" x=\"139.214205\" xlink:href=\"#m54754fc7bb\" y=\"86.312095\"/>\n     <use style=\"fill:#1f77b4;stroke:#1f77b4;\" x=\"162.523484\" xlink:href=\"#m54754fc7bb\" y=\"104.672929\"/>\n     <use style=\"fill:#1f77b4;stroke:#1f77b4;\" x=\"122.961489\" xlink:href=\"#m54754fc7bb\" y=\"81.540218\"/>\n     <use style=\"fill:#1f77b4;stroke:#1f77b4;\" x=\"120.980107\" xlink:href=\"#m54754fc7bb\" y=\"59.595045\"/>\n     <use style=\"fill:#1f77b4;stroke:#1f77b4;\" x=\"155.329749\" xlink:href=\"#m54754fc7bb\" y=\"87.976406\"/>\n     <use style=\"fill:#1f77b4;stroke:#1f77b4;\" x=\"108.84669\" xlink:href=\"#m54754fc7bb\" y=\"78.499559\"/>\n     <use style=\"fill:#1f77b4;stroke:#1f77b4;\" x=\"92.996048\" xlink:href=\"#m54754fc7bb\" y=\"61.160402\"/>\n     <use style=\"fill:#1f77b4;stroke:#1f77b4;\" x=\"157.43251\" xlink:href=\"#m54754fc7bb\" y=\"103.396133\"/>\n     <use style=\"fill:#1f77b4;stroke:#1f77b4;\" x=\"101.707347\" xlink:href=\"#m54754fc7bb\" y=\"55.1251\"/>\n     <use style=\"fill:#1f77b4;stroke:#1f77b4;\" x=\"118.794025\" xlink:href=\"#m54754fc7bb\" y=\"73.021981\"/>\n     <use style=\"fill:#1f77b4;stroke:#1f77b4;\" x=\"140.328854\" xlink:href=\"#m54754fc7bb\" y=\"75.490993\"/>\n     <use style=\"fill:#1f77b4;stroke:#1f77b4;\" x=\"150.595945\" xlink:href=\"#m54754fc7bb\" y=\"77.07676\"/>\n     <use style=\"fill:#1f77b4;stroke:#1f77b4;\" x=\"110.866239\" xlink:href=\"#m54754fc7bb\" y=\"77.418433\"/>\n     <use style=\"fill:#1f77b4;stroke:#1f77b4;\" x=\"150.987807\" xlink:href=\"#m54754fc7bb\" y=\"87.779726\"/>\n     <use style=\"fill:#1f77b4;stroke:#1f77b4;\" x=\"133.825146\" xlink:href=\"#m54754fc7bb\" y=\"80.719193\"/>\n     <use style=\"fill:#1f77b4;stroke:#1f77b4;\" x=\"129.226866\" xlink:href=\"#m54754fc7bb\" y=\"71.784464\"/>\n     <use style=\"fill:#1f77b4;stroke:#1f77b4;\" x=\"140.136984\" xlink:href=\"#m54754fc7bb\" y=\"78.770235\"/>\n     <use style=\"fill:#1f77b4;stroke:#1f77b4;\" x=\"165.397059\" xlink:href=\"#m54754fc7bb\" y=\"91.477941\"/>\n     <use style=\"fill:#1f77b4;stroke:#1f77b4;\" x=\"141.218965\" xlink:href=\"#m54754fc7bb\" y=\"72.364451\"/>\n     <use style=\"fill:#1f77b4;stroke:#1f77b4;\" x=\"95.522048\" xlink:href=\"#m54754fc7bb\" y=\"36.901552\"/>\n     <use style=\"fill:#1f77b4;stroke:#1f77b4;\" x=\"107.671824\" xlink:href=\"#m54754fc7bb\" y=\"50.9932\"/>\n     <use style=\"fill:#1f77b4;stroke:#1f77b4;\" x=\"97.22756\" xlink:href=\"#m54754fc7bb\" y=\"50.483105\"/>\n     <use style=\"fill:#1f77b4;stroke:#1f77b4;\" x=\"106.229563\" xlink:href=\"#m54754fc7bb\" y=\"41.427473\"/>\n     <use style=\"fill:#1f77b4;stroke:#1f77b4;\" x=\"132.874551\" xlink:href=\"#m54754fc7bb\" y=\"73.606792\"/>\n     <use style=\"fill:#1f77b4;stroke:#1f77b4;\" x=\"112.287081\" xlink:href=\"#m54754fc7bb\" y=\"55.197499\"/>\n     <use style=\"fill:#1f77b4;stroke:#1f77b4;\" x=\"152.373535\" xlink:href=\"#m54754fc7bb\" y=\"88.280846\"/>\n     <use style=\"fill:#1f77b4;stroke:#1f77b4;\" x=\"110.214645\" xlink:href=\"#m54754fc7bb\" y=\"82.004839\"/>\n     <use style=\"fill:#1f77b4;stroke:#1f77b4;\" x=\"143.946723\" xlink:href=\"#m54754fc7bb\" y=\"77.049033\"/>\n     <use style=\"fill:#1f77b4;stroke:#1f77b4;\" x=\"142.505888\" xlink:href=\"#m54754fc7bb\" y=\"92.038603\"/>\n     <use style=\"fill:#1f77b4;stroke:#1f77b4;\" x=\"121.650805\" xlink:href=\"#m54754fc7bb\" y=\"79.486155\"/>\n     <use style=\"fill:#1f77b4;stroke:#1f77b4;\" x=\"147.931622\" xlink:href=\"#m54754fc7bb\" y=\"72.262994\"/>\n     <use style=\"fill:#1f77b4;stroke:#1f77b4;\" x=\"86.449604\" xlink:href=\"#m54754fc7bb\" y=\"62.042632\"/>\n     <use style=\"fill:#1f77b4;stroke:#1f77b4;\" x=\"116.12921\" xlink:href=\"#m54754fc7bb\" y=\"72.352519\"/>\n     <use style=\"fill:#1f77b4;stroke:#1f77b4;\" x=\"139.228856\" xlink:href=\"#m54754fc7bb\" y=\"94.325274\"/>\n     <use style=\"fill:#1f77b4;stroke:#1f77b4;\" x=\"130.70437\" xlink:href=\"#m54754fc7bb\" y=\"77.459133\"/>\n     <use style=\"fill:#1f77b4;stroke:#1f77b4;\" x=\"111.678071\" xlink:href=\"#m54754fc7bb\" y=\"65.683733\"/>\n     <use style=\"fill:#1f77b4;stroke:#1f77b4;\" x=\"138.841554\" xlink:href=\"#m54754fc7bb\" y=\"73.248537\"/>\n     <use style=\"fill:#1f77b4;stroke:#1f77b4;\" x=\"166.508639\" xlink:href=\"#m54754fc7bb\" y=\"76.586368\"/>\n     <use style=\"fill:#1f77b4;stroke:#1f77b4;\" x=\"113.092004\" xlink:href=\"#m54754fc7bb\" y=\"65.659289\"/>\n     <use style=\"fill:#1f77b4;stroke:#1f77b4;\" x=\"137.431024\" xlink:href=\"#m54754fc7bb\" y=\"74.842745\"/>\n     <use style=\"fill:#1f77b4;stroke:#1f77b4;\" x=\"97.28947\" xlink:href=\"#m54754fc7bb\" y=\"61.104078\"/>\n     <use style=\"fill:#1f77b4;stroke:#1f77b4;\" x=\"123.119668\" xlink:href=\"#m54754fc7bb\" y=\"81.922635\"/>\n     <use style=\"fill:#1f77b4;stroke:#1f77b4;\" x=\"124.431343\" xlink:href=\"#m54754fc7bb\" y=\"62.42215\"/>\n     <use style=\"fill:#1f77b4;stroke:#1f77b4;\" x=\"117.35926\" xlink:href=\"#m54754fc7bb\" y=\"56.919648\"/>\n     <use style=\"fill:#1f77b4;stroke:#1f77b4;\" x=\"148.600959\" xlink:href=\"#m54754fc7bb\" y=\"72.509169\"/>\n     <use style=\"fill:#1f77b4;stroke:#1f77b4;\" x=\"87.404745\" xlink:href=\"#m54754fc7bb\" y=\"33.500209\"/>\n     <use style=\"fill:#1f77b4;stroke:#1f77b4;\" x=\"127.250379\" xlink:href=\"#m54754fc7bb\" y=\"91.773483\"/>\n     <use style=\"fill:#1f77b4;stroke:#1f77b4;\" x=\"81.565672\" xlink:href=\"#m54754fc7bb\" y=\"29.416392\"/>\n     <use style=\"fill:#1f77b4;stroke:#1f77b4;\" x=\"177.245481\" xlink:href=\"#m54754fc7bb\" y=\"112.002692\"/>\n     <use style=\"fill:#1f77b4;stroke:#1f77b4;\" x=\"123.096502\" xlink:href=\"#m54754fc7bb\" y=\"88.818672\"/>\n     <use style=\"fill:#1f77b4;stroke:#1f77b4;\" x=\"147.373485\" xlink:href=\"#m54754fc7bb\" y=\"84.250896\"/>\n     <use style=\"fill:#1f77b4;stroke:#1f77b4;\" x=\"117.451656\" xlink:href=\"#m54754fc7bb\" y=\"64.510032\"/>\n     <use style=\"fill:#1f77b4;stroke:#1f77b4;\" x=\"111.871616\" xlink:href=\"#m54754fc7bb\" y=\"67.478678\"/>\n     <use style=\"fill:#1f77b4;stroke:#1f77b4;\" x=\"112.790399\" xlink:href=\"#m54754fc7bb\" y=\"48.135142\"/>\n     <use style=\"fill:#1f77b4;stroke:#1f77b4;\" x=\"145.168398\" xlink:href=\"#m54754fc7bb\" y=\"81.053275\"/>\n     <use style=\"fill:#1f77b4;stroke:#1f77b4;\" x=\"114.125128\" xlink:href=\"#m54754fc7bb\" y=\"58.319707\"/>\n     <use style=\"fill:#1f77b4;stroke:#1f77b4;\" x=\"138.317731\" xlink:href=\"#m54754fc7bb\" y=\"73.512652\"/>\n     <use style=\"fill:#1f77b4;stroke:#1f77b4;\" x=\"153.514019\" xlink:href=\"#m54754fc7bb\" y=\"98.530557\"/>\n     <use style=\"fill:#1f77b4;stroke:#1f77b4;\" x=\"95.844759\" xlink:href=\"#m54754fc7bb\" y=\"55.420799\"/>\n     <use style=\"fill:#1f77b4;stroke:#1f77b4;\" x=\"156.660108\" xlink:href=\"#m54754fc7bb\" y=\"96.161061\"/>\n     <use style=\"fill:#1f77b4;stroke:#1f77b4;\" x=\"100.806325\" xlink:href=\"#m54754fc7bb\" y=\"58.333205\"/>\n     <use style=\"fill:#1f77b4;stroke:#1f77b4;\" x=\"166.066181\" xlink:href=\"#m54754fc7bb\" y=\"104.64596\"/>\n     <use style=\"fill:#1f77b4;stroke:#1f77b4;\" x=\"143.200148\" xlink:href=\"#m54754fc7bb\" y=\"91.94709\"/>\n     <use style=\"fill:#1f77b4;stroke:#1f77b4;\" x=\"171.50485\" xlink:href=\"#m54754fc7bb\" y=\"108.995054\"/>\n     <use style=\"fill:#1f77b4;stroke:#1f77b4;\" x=\"156.835482\" xlink:href=\"#m54754fc7bb\" y=\"85.931271\"/>\n     <use style=\"fill:#1f77b4;stroke:#1f77b4;\" x=\"135.246938\" xlink:href=\"#m54754fc7bb\" y=\"87.230393\"/>\n     <use style=\"fill:#1f77b4;stroke:#1f77b4;\" x=\"151.151078\" xlink:href=\"#m54754fc7bb\" y=\"90.240743\"/>\n     <use style=\"fill:#1f77b4;stroke:#1f77b4;\" x=\"87.954489\" xlink:href=\"#m54754fc7bb\" y=\"44.756868\"/>\n     <use style=\"fill:#1f77b4;stroke:#1f77b4;\" x=\"148.025217\" xlink:href=\"#m54754fc7bb\" y=\"92.107802\"/>\n     <use style=\"fill:#1f77b4;stroke:#1f77b4;\" x=\"121.125603\" xlink:href=\"#m54754fc7bb\" y=\"72.050419\"/>\n     <use style=\"fill:#1f77b4;stroke:#1f77b4;\" x=\"93.794162\" xlink:href=\"#m54754fc7bb\" y=\"73.297943\"/>\n     <use style=\"fill:#1f77b4;stroke:#1f77b4;\" x=\"136.291708\" xlink:href=\"#m54754fc7bb\" y=\"82.19656\"/>\n     <use style=\"fill:#1f77b4;stroke:#1f77b4;\" x=\"147.854736\" xlink:href=\"#m54754fc7bb\" y=\"93.194479\"/>\n     <use style=\"fill:#1f77b4;stroke:#1f77b4;\" x=\"159.591209\" xlink:href=\"#m54754fc7bb\" y=\"108.995713\"/>\n     <use style=\"fill:#1f77b4;stroke:#1f77b4;\" x=\"158.363719\" xlink:href=\"#m54754fc7bb\" y=\"90.318824\"/>\n     <use style=\"fill:#1f77b4;stroke:#1f77b4;\" x=\"76.726211\" xlink:href=\"#m54754fc7bb\" y=\"51.205002\"/>\n     <use style=\"fill:#1f77b4;stroke:#1f77b4;\" x=\"114.385955\" xlink:href=\"#m54754fc7bb\" y=\"76.836228\"/>\n     <use style=\"fill:#1f77b4;stroke:#1f77b4;\" x=\"201.82155\" xlink:href=\"#m54754fc7bb\" y=\"118.01312\"/>\n     <use style=\"fill:#1f77b4;stroke:#1f77b4;\" x=\"94.701365\" xlink:href=\"#m54754fc7bb\" y=\"53.774441\"/>\n     <use style=\"fill:#1f77b4;stroke:#1f77b4;\" x=\"149.039847\" xlink:href=\"#m54754fc7bb\" y=\"90.389359\"/>\n     <use style=\"fill:#1f77b4;stroke:#1f77b4;\" x=\"150.505582\" xlink:href=\"#m54754fc7bb\" y=\"83.313345\"/>\n     <use style=\"fill:#1f77b4;stroke:#1f77b4;\" x=\"158.211359\" xlink:href=\"#m54754fc7bb\" y=\"99.632675\"/>\n     <use style=\"fill:#1f77b4;stroke:#1f77b4;\" x=\"123.914753\" xlink:href=\"#m54754fc7bb\" y=\"84.363499\"/>\n     <use style=\"fill:#1f77b4;stroke:#1f77b4;\" x=\"84.090904\" xlink:href=\"#m54754fc7bb\" y=\"43.903995\"/>\n     <use style=\"fill:#1f77b4;stroke:#1f77b4;\" x=\"140.046784\" xlink:href=\"#m54754fc7bb\" y=\"89.778701\"/>\n     <use style=\"fill:#1f77b4;stroke:#1f77b4;\" x=\"142.975489\" xlink:href=\"#m54754fc7bb\" y=\"76.569317\"/>\n     <use style=\"fill:#1f77b4;stroke:#1f77b4;\" x=\"131.265169\" xlink:href=\"#m54754fc7bb\" y=\"69.155416\"/>\n     <use style=\"fill:#1f77b4;stroke:#1f77b4;\" x=\"146.173383\" xlink:href=\"#m54754fc7bb\" y=\"66.034697\"/>\n     <use style=\"fill:#1f77b4;stroke:#1f77b4;\" x=\"221.727415\" xlink:href=\"#m54754fc7bb\" y=\"135.056249\"/>\n     <use style=\"fill:#1f77b4;stroke:#1f77b4;\" x=\"107.640281\" xlink:href=\"#m54754fc7bb\" y=\"57.442522\"/>\n     <use style=\"fill:#1f77b4;stroke:#1f77b4;\" x=\"103.458777\" xlink:href=\"#m54754fc7bb\" y=\"71.612028\"/>\n     <use style=\"fill:#1f77b4;stroke:#1f77b4;\" x=\"182.632365\" xlink:href=\"#m54754fc7bb\" y=\"116.651792\"/>\n     <use style=\"fill:#1f77b4;stroke:#1f77b4;\" x=\"109.981444\" xlink:href=\"#m54754fc7bb\" y=\"74.303123\"/>\n     <use style=\"fill:#1f77b4;stroke:#1f77b4;\" x=\"150.822864\" xlink:href=\"#m54754fc7bb\" y=\"101.803799\"/>\n     <use style=\"fill:#1f77b4;stroke:#1f77b4;\" x=\"146.178864\" xlink:href=\"#m54754fc7bb\" y=\"81.168582\"/>\n     <use style=\"fill:#1f77b4;stroke:#1f77b4;\" x=\"136.196478\" xlink:href=\"#m54754fc7bb\" y=\"92.729137\"/>\n     <use style=\"fill:#1f77b4;stroke:#1f77b4;\" x=\"79.354038\" xlink:href=\"#m54754fc7bb\" y=\"32.75325\"/>\n     <use style=\"fill:#1f77b4;stroke:#1f77b4;\" x=\"116.149398\" xlink:href=\"#m54754fc7bb\" y=\"78.584702\"/>\n     <use style=\"fill:#1f77b4;stroke:#1f77b4;\" x=\"75.761136\" xlink:href=\"#m54754fc7bb\" y=\"55.846782\"/>\n     <use style=\"fill:#1f77b4;stroke:#1f77b4;\" x=\"118.837787\" xlink:href=\"#m54754fc7bb\" y=\"72.543026\"/>\n     <use style=\"fill:#1f77b4;stroke:#1f77b4;\" x=\"116.933879\" xlink:href=\"#m54754fc7bb\" y=\"66.598065\"/>\n     <use style=\"fill:#1f77b4;stroke:#1f77b4;\" x=\"123.488659\" xlink:href=\"#m54754fc7bb\" y=\"75.818436\"/>\n     <use style=\"fill:#1f77b4;stroke:#1f77b4;\" x=\"126.608428\" xlink:href=\"#m54754fc7bb\" y=\"54.482199\"/>\n     <use style=\"fill:#1f77b4;stroke:#1f77b4;\" x=\"142.591694\" xlink:href=\"#m54754fc7bb\" y=\"86.978205\"/>\n     <use style=\"fill:#1f77b4;stroke:#1f77b4;\" x=\"112.063155\" xlink:href=\"#m54754fc7bb\" y=\"70.938337\"/>\n     <use style=\"fill:#1f77b4;stroke:#1f77b4;\" x=\"94.39275\" xlink:href=\"#m54754fc7bb\" y=\"63.123818\"/>\n     <use style=\"fill:#1f77b4;stroke:#1f77b4;\" x=\"161.424252\" xlink:href=\"#m54754fc7bb\" y=\"92.561544\"/>\n     <use style=\"fill:#1f77b4;stroke:#1f77b4;\" x=\"94.009803\" xlink:href=\"#m54754fc7bb\" y=\"70.463874\"/>\n     <use style=\"fill:#1f77b4;stroke:#1f77b4;\" x=\"120.192841\" xlink:href=\"#m54754fc7bb\" y=\"84.517236\"/>\n     <use style=\"fill:#1f77b4;stroke:#1f77b4;\" x=\"133.074135\" xlink:href=\"#m54754fc7bb\" y=\"55.359191\"/>\n     <use style=\"fill:#1f77b4;stroke:#1f77b4;\" x=\"171.003194\" xlink:href=\"#m54754fc7bb\" y=\"116.488665\"/>\n     <use style=\"fill:#1f77b4;stroke:#1f77b4;\" x=\"101.112378\" xlink:href=\"#m54754fc7bb\" y=\"60.605595\"/>\n     <use style=\"fill:#1f77b4;stroke:#1f77b4;\" x=\"133.578558\" xlink:href=\"#m54754fc7bb\" y=\"76.090888\"/>\n     <use style=\"fill:#1f77b4;stroke:#1f77b4;\" x=\"169.162816\" xlink:href=\"#m54754fc7bb\" y=\"99.827347\"/>\n     <use style=\"fill:#1f77b4;stroke:#1f77b4;\" x=\"64.926752\" xlink:href=\"#m54754fc7bb\" y=\"40.878923\"/>\n     <use style=\"fill:#1f77b4;stroke:#1f77b4;\" x=\"90.182364\" xlink:href=\"#m54754fc7bb\" y=\"68.580416\"/>\n     <use style=\"fill:#1f77b4;stroke:#1f77b4;\" x=\"175.774983\" xlink:href=\"#m54754fc7bb\" y=\"117.776574\"/>\n     <use style=\"fill:#1f77b4;stroke:#1f77b4;\" x=\"162.928366\" xlink:href=\"#m54754fc7bb\" y=\"102.468561\"/>\n     <use style=\"fill:#1f77b4;stroke:#1f77b4;\" x=\"138.144579\" xlink:href=\"#m54754fc7bb\" y=\"76.849968\"/>\n     <use style=\"fill:#1f77b4;stroke:#1f77b4;\" x=\"152.822244\" xlink:href=\"#m54754fc7bb\" y=\"95.979121\"/>\n     <use style=\"fill:#1f77b4;stroke:#1f77b4;\" x=\"138.726635\" xlink:href=\"#m54754fc7bb\" y=\"90.098715\"/>\n     <use style=\"fill:#1f77b4;stroke:#1f77b4;\" x=\"104.803701\" xlink:href=\"#m54754fc7bb\" y=\"45.422685\"/>\n     <use style=\"fill:#1f77b4;stroke:#1f77b4;\" x=\"142.436725\" xlink:href=\"#m54754fc7bb\" y=\"82.441855\"/>\n     <use style=\"fill:#1f77b4;stroke:#1f77b4;\" x=\"145.751325\" xlink:href=\"#m54754fc7bb\" y=\"70.372243\"/>\n     <use style=\"fill:#1f77b4;stroke:#1f77b4;\" x=\"152.536924\" xlink:href=\"#m54754fc7bb\" y=\"93.751023\"/>\n     <use style=\"fill:#1f77b4;stroke:#1f77b4;\" x=\"90.06356\" xlink:href=\"#m54754fc7bb\" y=\"54.918219\"/>\n     <use style=\"fill:#1f77b4;stroke:#1f77b4;\" x=\"132.578756\" xlink:href=\"#m54754fc7bb\" y=\"88.96462\"/>\n     <use style=\"fill:#1f77b4;stroke:#1f77b4;\" x=\"136.626208\" xlink:href=\"#m54754fc7bb\" y=\"76.871693\"/>\n     <use style=\"fill:#1f77b4;stroke:#1f77b4;\" x=\"112.721325\" xlink:href=\"#m54754fc7bb\" y=\"76.179996\"/>\n     <use style=\"fill:#1f77b4;stroke:#1f77b4;\" x=\"169.46659\" xlink:href=\"#m54754fc7bb\" y=\"86.289445\"/>\n     <use style=\"fill:#1f77b4;stroke:#1f77b4;\" x=\"112.434698\" xlink:href=\"#m54754fc7bb\" y=\"52.995962\"/>\n     <use style=\"fill:#1f77b4;stroke:#1f77b4;\" x=\"191.411831\" xlink:href=\"#m54754fc7bb\" y=\"108.833584\"/>\n     <use style=\"fill:#1f77b4;stroke:#1f77b4;\" x=\"159.537947\" xlink:href=\"#m54754fc7bb\" y=\"93.62591\"/>\n     <use style=\"fill:#1f77b4;stroke:#1f77b4;\" x=\"123.236406\" xlink:href=\"#m54754fc7bb\" y=\"75.686659\"/>\n     <use style=\"fill:#1f77b4;stroke:#1f77b4;\" x=\"141.05578\" xlink:href=\"#m54754fc7bb\" y=\"76.773727\"/>\n     <use style=\"fill:#1f77b4;stroke:#1f77b4;\" x=\"81.686959\" xlink:href=\"#m54754fc7bb\" y=\"37.936446\"/>\n     <use style=\"fill:#1f77b4;stroke:#1f77b4;\" x=\"94.357936\" xlink:href=\"#m54754fc7bb\" y=\"61.501167\"/>\n     <use style=\"fill:#1f77b4;stroke:#1f77b4;\" x=\"137.157653\" xlink:href=\"#m54754fc7bb\" y=\"62.561439\"/>\n     <use style=\"fill:#1f77b4;stroke:#1f77b4;\" x=\"124.756018\" xlink:href=\"#m54754fc7bb\" y=\"78.026919\"/>\n     <use style=\"fill:#1f77b4;stroke:#1f77b4;\" x=\"140.898838\" xlink:href=\"#m54754fc7bb\" y=\"82.301308\"/>\n     <use style=\"fill:#1f77b4;stroke:#1f77b4;\" x=\"158.119138\" xlink:href=\"#m54754fc7bb\" y=\"74.172178\"/>\n     <use style=\"fill:#1f77b4;stroke:#1f77b4;\" x=\"160.921934\" xlink:href=\"#m54754fc7bb\" y=\"94.153745\"/>\n     <use style=\"fill:#1f77b4;stroke:#1f77b4;\" x=\"105.017407\" xlink:href=\"#m54754fc7bb\" y=\"55.539747\"/>\n     <use style=\"fill:#1f77b4;stroke:#1f77b4;\" x=\"141.083939\" xlink:href=\"#m54754fc7bb\" y=\"88.191237\"/>\n     <use style=\"fill:#1f77b4;stroke:#1f77b4;\" x=\"162.235151\" xlink:href=\"#m54754fc7bb\" y=\"104.950162\"/>\n     <use style=\"fill:#1f77b4;stroke:#1f77b4;\" x=\"56.443627\" xlink:href=\"#m54754fc7bb\" y=\"36.335425\"/>\n     <use style=\"fill:#1f77b4;stroke:#1f77b4;\" x=\"186.439732\" xlink:href=\"#m54754fc7bb\" y=\"98.827341\"/>\n     <use style=\"fill:#1f77b4;stroke:#1f77b4;\" x=\"138.867159\" xlink:href=\"#m54754fc7bb\" y=\"87.074664\"/>\n     <use style=\"fill:#1f77b4;stroke:#1f77b4;\" x=\"122.602079\" xlink:href=\"#m54754fc7bb\" y=\"80.180482\"/>\n     <use style=\"fill:#1f77b4;stroke:#1f77b4;\" x=\"137.973298\" xlink:href=\"#m54754fc7bb\" y=\"67.117721\"/>\n     <use style=\"fill:#1f77b4;stroke:#1f77b4;\" x=\"117.109732\" xlink:href=\"#m54754fc7bb\" y=\"66.243944\"/>\n     <use style=\"fill:#1f77b4;stroke:#1f77b4;\" x=\"130.083194\" xlink:href=\"#m54754fc7bb\" y=\"63.74362\"/>\n     <use style=\"fill:#1f77b4;stroke:#1f77b4;\" x=\"131.192972\" xlink:href=\"#m54754fc7bb\" y=\"85.133799\"/>\n     <use style=\"fill:#1f77b4;stroke:#1f77b4;\" x=\"131.494315\" xlink:href=\"#m54754fc7bb\" y=\"79.583128\"/>\n     <use style=\"fill:#1f77b4;stroke:#1f77b4;\" x=\"96.587541\" xlink:href=\"#m54754fc7bb\" y=\"47.549857\"/>\n     <use style=\"fill:#1f77b4;stroke:#1f77b4;\" x=\"113.679633\" xlink:href=\"#m54754fc7bb\" y=\"38.34128\"/>\n     <use style=\"fill:#1f77b4;stroke:#1f77b4;\" x=\"126.256788\" xlink:href=\"#m54754fc7bb\" y=\"74.875627\"/>\n     <use style=\"fill:#1f77b4;stroke:#1f77b4;\" x=\"168.501584\" xlink:href=\"#m54754fc7bb\" y=\"106.949062\"/>\n     <use style=\"fill:#1f77b4;stroke:#1f77b4;\" x=\"155.018736\" xlink:href=\"#m54754fc7bb\" y=\"102.396113\"/>\n     <use style=\"fill:#1f77b4;stroke:#1f77b4;\" x=\"125.444844\" xlink:href=\"#m54754fc7bb\" y=\"64.798344\"/>\n     <use style=\"fill:#1f77b4;stroke:#1f77b4;\" x=\"121.522205\" xlink:href=\"#m54754fc7bb\" y=\"59.024575\"/>\n     <use style=\"fill:#1f77b4;stroke:#1f77b4;\" x=\"137.92195\" xlink:href=\"#m54754fc7bb\" y=\"73.766622\"/>\n     <use style=\"fill:#1f77b4;stroke:#1f77b4;\" x=\"105.879169\" xlink:href=\"#m54754fc7bb\" y=\"60.381029\"/>\n     <use style=\"fill:#1f77b4;stroke:#1f77b4;\" x=\"179.085849\" xlink:href=\"#m54754fc7bb\" y=\"98.480903\"/>\n     <use style=\"fill:#1f77b4;stroke:#1f77b4;\" x=\"97.012267\" xlink:href=\"#m54754fc7bb\" y=\"40.71427\"/>\n     <use style=\"fill:#1f77b4;stroke:#1f77b4;\" x=\"117.335837\" xlink:href=\"#m54754fc7bb\" y=\"89.147536\"/>\n     <use style=\"fill:#1f77b4;stroke:#1f77b4;\" x=\"116.920268\" xlink:href=\"#m54754fc7bb\" y=\"77.169648\"/>\n     <use style=\"fill:#1f77b4;stroke:#1f77b4;\" x=\"182.350015\" xlink:href=\"#m54754fc7bb\" y=\"110.299181\"/>\n     <use style=\"fill:#1f77b4;stroke:#1f77b4;\" x=\"113.428979\" xlink:href=\"#m54754fc7bb\" y=\"70.220524\"/>\n     <use style=\"fill:#1f77b4;stroke:#1f77b4;\" x=\"130.256152\" xlink:href=\"#m54754fc7bb\" y=\"75.012797\"/>\n     <use style=\"fill:#1f77b4;stroke:#1f77b4;\" x=\"184.541981\" xlink:href=\"#m54754fc7bb\" y=\"104.28155\"/>\n     <use style=\"fill:#1f77b4;stroke:#1f77b4;\" x=\"106.787476\" xlink:href=\"#m54754fc7bb\" y=\"86.818328\"/>\n     <use style=\"fill:#1f77b4;stroke:#1f77b4;\" x=\"106.431143\" xlink:href=\"#m54754fc7bb\" y=\"63.257538\"/>\n     <use style=\"fill:#1f77b4;stroke:#1f77b4;\" x=\"115.335008\" xlink:href=\"#m54754fc7bb\" y=\"73.01478\"/>\n     <use style=\"fill:#1f77b4;stroke:#1f77b4;\" x=\"145.72258\" xlink:href=\"#m54754fc7bb\" y=\"103.173255\"/>\n     <use style=\"fill:#1f77b4;stroke:#1f77b4;\" x=\"147.437962\" xlink:href=\"#m54754fc7bb\" y=\"92.411177\"/>\n     <use style=\"fill:#1f77b4;stroke:#1f77b4;\" x=\"113.324531\" xlink:href=\"#m54754fc7bb\" y=\"66.31619\"/>\n     <use style=\"fill:#1f77b4;stroke:#1f77b4;\" x=\"135.368254\" xlink:href=\"#m54754fc7bb\" y=\"56.328591\"/>\n     <use style=\"fill:#1f77b4;stroke:#1f77b4;\" x=\"110.548133\" xlink:href=\"#m54754fc7bb\" y=\"68.489608\"/>\n     <use style=\"fill:#1f77b4;stroke:#1f77b4;\" x=\"118.373492\" xlink:href=\"#m54754fc7bb\" y=\"61.667861\"/>\n     <use style=\"fill:#1f77b4;stroke:#1f77b4;\" x=\"159.241377\" xlink:href=\"#m54754fc7bb\" y=\"95.348089\"/>\n     <use style=\"fill:#1f77b4;stroke:#1f77b4;\" x=\"129.407868\" xlink:href=\"#m54754fc7bb\" y=\"67.310134\"/>\n     <use style=\"fill:#1f77b4;stroke:#1f77b4;\" x=\"133.083862\" xlink:href=\"#m54754fc7bb\" y=\"85.412129\"/>\n     <use style=\"fill:#1f77b4;stroke:#1f77b4;\" x=\"118.427516\" xlink:href=\"#m54754fc7bb\" y=\"77.385637\"/>\n     <use style=\"fill:#1f77b4;stroke:#1f77b4;\" x=\"172.012662\" xlink:href=\"#m54754fc7bb\" y=\"93.463591\"/>\n     <use style=\"fill:#1f77b4;stroke:#1f77b4;\" x=\"101.011724\" xlink:href=\"#m54754fc7bb\" y=\"73.392629\"/>\n     <use style=\"fill:#1f77b4;stroke:#1f77b4;\" x=\"194.213897\" xlink:href=\"#m54754fc7bb\" y=\"100.968347\"/>\n     <use style=\"fill:#1f77b4;stroke:#1f77b4;\" x=\"108.627229\" xlink:href=\"#m54754fc7bb\" y=\"54.339344\"/>\n     <use style=\"fill:#1f77b4;stroke:#1f77b4;\" x=\"98.710949\" xlink:href=\"#m54754fc7bb\" y=\"71.315168\"/>\n     <use style=\"fill:#1f77b4;stroke:#1f77b4;\" x=\"138.559572\" xlink:href=\"#m54754fc7bb\" y=\"81.254435\"/>\n     <use style=\"fill:#1f77b4;stroke:#1f77b4;\" x=\"112.380723\" xlink:href=\"#m54754fc7bb\" y=\"71.295031\"/>\n     <use style=\"fill:#1f77b4;stroke:#1f77b4;\" x=\"86.06408\" xlink:href=\"#m54754fc7bb\" y=\"72.636192\"/>\n     <use style=\"fill:#1f77b4;stroke:#1f77b4;\" x=\"83.647426\" xlink:href=\"#m54754fc7bb\" y=\"50.733594\"/>\n     <use style=\"fill:#1f77b4;stroke:#1f77b4;\" x=\"104.075173\" xlink:href=\"#m54754fc7bb\" y=\"62.383331\"/>\n     <use style=\"fill:#1f77b4;stroke:#1f77b4;\" x=\"98.652353\" xlink:href=\"#m54754fc7bb\" y=\"66.017793\"/>\n     <use style=\"fill:#1f77b4;stroke:#1f77b4;\" x=\"176.758265\" xlink:href=\"#m54754fc7bb\" y=\"119.221411\"/>\n     <use style=\"fill:#1f77b4;stroke:#1f77b4;\" x=\"153.575505\" xlink:href=\"#m54754fc7bb\" y=\"94.356297\"/>\n     <use style=\"fill:#1f77b4;stroke:#1f77b4;\" x=\"107.034742\" xlink:href=\"#m54754fc7bb\" y=\"57.273627\"/>\n     <use style=\"fill:#1f77b4;stroke:#1f77b4;\" x=\"117.35992\" xlink:href=\"#m54754fc7bb\" y=\"73.776924\"/>\n     <use style=\"fill:#1f77b4;stroke:#1f77b4;\" x=\"159.890627\" xlink:href=\"#m54754fc7bb\" y=\"82.866914\"/>\n     <use style=\"fill:#1f77b4;stroke:#1f77b4;\" x=\"136.015831\" xlink:href=\"#m54754fc7bb\" y=\"78.727588\"/>\n     <use style=\"fill:#1f77b4;stroke:#1f77b4;\" x=\"97.489144\" xlink:href=\"#m54754fc7bb\" y=\"50.097564\"/>\n     <use style=\"fill:#1f77b4;stroke:#1f77b4;\" x=\"161.546399\" xlink:href=\"#m54754fc7bb\" y=\"87.713779\"/>\n     <use style=\"fill:#1f77b4;stroke:#1f77b4;\" x=\"81.455971\" xlink:href=\"#m54754fc7bb\" y=\"52.832349\"/>\n     <use style=\"fill:#1f77b4;stroke:#1f77b4;\" x=\"141.205777\" xlink:href=\"#m54754fc7bb\" y=\"83.840735\"/>\n     <use style=\"fill:#1f77b4;stroke:#1f77b4;\" x=\"125.495069\" xlink:href=\"#m54754fc7bb\" y=\"77.627963\"/>\n     <use style=\"fill:#1f77b4;stroke:#1f77b4;\" x=\"163.578146\" xlink:href=\"#m54754fc7bb\" y=\"98.85392\"/>\n     <use style=\"fill:#1f77b4;stroke:#1f77b4;\" x=\"94.834224\" xlink:href=\"#m54754fc7bb\" y=\"58.580585\"/>\n     <use style=\"fill:#1f77b4;stroke:#1f77b4;\" x=\"105.765582\" xlink:href=\"#m54754fc7bb\" y=\"51.569465\"/>\n     <use style=\"fill:#1f77b4;stroke:#1f77b4;\" x=\"124.753092\" xlink:href=\"#m54754fc7bb\" y=\"75.035281\"/>\n     <use style=\"fill:#1f77b4;stroke:#1f77b4;\" x=\"111.756147\" xlink:href=\"#m54754fc7bb\" y=\"72.025504\"/>\n     <use style=\"fill:#1f77b4;stroke:#1f77b4;\" x=\"98.576669\" xlink:href=\"#m54754fc7bb\" y=\"69.607807\"/>\n     <use style=\"fill:#1f77b4;stroke:#1f77b4;\" x=\"117.953844\" xlink:href=\"#m54754fc7bb\" y=\"72.658447\"/>\n     <use style=\"fill:#1f77b4;stroke:#1f77b4;\" x=\"115.536263\" xlink:href=\"#m54754fc7bb\" y=\"74.401354\"/>\n     <use style=\"fill:#1f77b4;stroke:#1f77b4;\" x=\"139.918502\" xlink:href=\"#m54754fc7bb\" y=\"97.402869\"/>\n     <use style=\"fill:#1f77b4;stroke:#1f77b4;\" x=\"114.158202\" xlink:href=\"#m54754fc7bb\" y=\"63.57538\"/>\n     <use style=\"fill:#1f77b4;stroke:#1f77b4;\" x=\"129.732569\" xlink:href=\"#m54754fc7bb\" y=\"81.377288\"/>\n     <use style=\"fill:#1f77b4;stroke:#1f77b4;\" x=\"153.239398\" xlink:href=\"#m54754fc7bb\" y=\"103.331052\"/>\n     <use style=\"fill:#1f77b4;stroke:#1f77b4;\" x=\"112.374914\" xlink:href=\"#m54754fc7bb\" y=\"61.808141\"/>\n     <use style=\"fill:#1f77b4;stroke:#1f77b4;\" x=\"156.075692\" xlink:href=\"#m54754fc7bb\" y=\"111.375731\"/>\n     <use style=\"fill:#1f77b4;stroke:#1f77b4;\" x=\"140.671977\" xlink:href=\"#m54754fc7bb\" y=\"84.826948\"/>\n     <use style=\"fill:#1f77b4;stroke:#1f77b4;\" x=\"161.317057\" xlink:href=\"#m54754fc7bb\" y=\"104.314521\"/>\n     <use style=\"fill:#1f77b4;stroke:#1f77b4;\" x=\"105.1987\" xlink:href=\"#m54754fc7bb\" y=\"55.386306\"/>\n     <use style=\"fill:#1f77b4;stroke:#1f77b4;\" x=\"177.919564\" xlink:href=\"#m54754fc7bb\" y=\"113.709274\"/>\n     <use style=\"fill:#1f77b4;stroke:#1f77b4;\" x=\"143.99666\" xlink:href=\"#m54754fc7bb\" y=\"91.670019\"/>\n     <use style=\"fill:#1f77b4;stroke:#1f77b4;\" x=\"95.059953\" xlink:href=\"#m54754fc7bb\" y=\"47.272235\"/>\n     <use style=\"fill:#1f77b4;stroke:#1f77b4;\" x=\"90.036049\" xlink:href=\"#m54754fc7bb\" y=\"45.792364\"/>\n     <use style=\"fill:#1f77b4;stroke:#1f77b4;\" x=\"157.467535\" xlink:href=\"#m54754fc7bb\" y=\"96.68979\"/>\n     <use style=\"fill:#1f77b4;stroke:#1f77b4;\" x=\"168.750967\" xlink:href=\"#m54754fc7bb\" y=\"112.378464\"/>\n     <use style=\"fill:#1f77b4;stroke:#1f77b4;\" x=\"135.931293\" xlink:href=\"#m54754fc7bb\" y=\"81.404593\"/>\n     <use style=\"fill:#1f77b4;stroke:#1f77b4;\" x=\"165.799441\" xlink:href=\"#m54754fc7bb\" y=\"84.724953\"/>\n     <use style=\"fill:#1f77b4;stroke:#1f77b4;\" x=\"85.05352\" xlink:href=\"#m54754fc7bb\" y=\"50.549819\"/>\n     <use style=\"fill:#1f77b4;stroke:#1f77b4;\" x=\"151.133104\" xlink:href=\"#m54754fc7bb\" y=\"89.592282\"/>\n     <use style=\"fill:#1f77b4;stroke:#1f77b4;\" x=\"82.971267\" xlink:href=\"#m54754fc7bb\" y=\"51.697888\"/>\n     <use style=\"fill:#1f77b4;stroke:#1f77b4;\" x=\"141.296197\" xlink:href=\"#m54754fc7bb\" y=\"99.6632\"/>\n     <use style=\"fill:#1f77b4;stroke:#1f77b4;\" x=\"110.392792\" xlink:href=\"#m54754fc7bb\" y=\"76.0969\"/>\n     <use style=\"fill:#1f77b4;stroke:#1f77b4;\" x=\"157.509751\" xlink:href=\"#m54754fc7bb\" y=\"102.789721\"/>\n     <use style=\"fill:#1f77b4;stroke:#1f77b4;\" x=\"148.213188\" xlink:href=\"#m54754fc7bb\" y=\"78.181573\"/>\n     <use style=\"fill:#1f77b4;stroke:#1f77b4;\" x=\"163.418501\" xlink:href=\"#m54754fc7bb\" y=\"99.888584\"/>\n     <use style=\"fill:#1f77b4;stroke:#1f77b4;\" x=\"107.009025\" xlink:href=\"#m54754fc7bb\" y=\"72.624342\"/>\n     <use style=\"fill:#1f77b4;stroke:#1f77b4;\" x=\"166.327558\" xlink:href=\"#m54754fc7bb\" y=\"97.127325\"/>\n     <use style=\"fill:#1f77b4;stroke:#1f77b4;\" x=\"137.270856\" xlink:href=\"#m54754fc7bb\" y=\"97.543805\"/>\n     <use style=\"fill:#1f77b4;stroke:#1f77b4;\" x=\"139.525183\" xlink:href=\"#m54754fc7bb\" y=\"73.91225\"/>\n     <use style=\"fill:#1f77b4;stroke:#1f77b4;\" x=\"102.952288\" xlink:href=\"#m54754fc7bb\" y=\"63.385097\"/>\n     <use style=\"fill:#1f77b4;stroke:#1f77b4;\" x=\"125.089939\" xlink:href=\"#m54754fc7bb\" y=\"69.66514\"/>\n     <use style=\"fill:#1f77b4;stroke:#1f77b4;\" x=\"132.340888\" xlink:href=\"#m54754fc7bb\" y=\"68.91511\"/>\n     <use style=\"fill:#1f77b4;stroke:#1f77b4;\" x=\"112.255064\" xlink:href=\"#m54754fc7bb\" y=\"75.85278\"/>\n     <use style=\"fill:#1f77b4;stroke:#1f77b4;\" x=\"102.961348\" xlink:href=\"#m54754fc7bb\" y=\"66.035473\"/>\n     <use style=\"fill:#1f77b4;stroke:#1f77b4;\" x=\"133.001507\" xlink:href=\"#m54754fc7bb\" y=\"80.251994\"/>\n     <use style=\"fill:#1f77b4;stroke:#1f77b4;\" x=\"109.596566\" xlink:href=\"#m54754fc7bb\" y=\"63.837723\"/>\n     <use style=\"fill:#1f77b4;stroke:#1f77b4;\" x=\"118.463378\" xlink:href=\"#m54754fc7bb\" y=\"49.055041\"/>\n     <use style=\"fill:#1f77b4;stroke:#1f77b4;\" x=\"93.076779\" xlink:href=\"#m54754fc7bb\" y=\"34.897394\"/>\n     <use style=\"fill:#1f77b4;stroke:#1f77b4;\" x=\"153.953169\" xlink:href=\"#m54754fc7bb\" y=\"87.244674\"/>\n     <use style=\"fill:#1f77b4;stroke:#1f77b4;\" x=\"136.925246\" xlink:href=\"#m54754fc7bb\" y=\"84.522103\"/>\n     <use style=\"fill:#1f77b4;stroke:#1f77b4;\" x=\"113.191329\" xlink:href=\"#m54754fc7bb\" y=\"64.115667\"/>\n     <use style=\"fill:#1f77b4;stroke:#1f77b4;\" x=\"147.528677\" xlink:href=\"#m54754fc7bb\" y=\"97.285319\"/>\n     <use style=\"fill:#1f77b4;stroke:#1f77b4;\" x=\"147.430409\" xlink:href=\"#m54754fc7bb\" y=\"100.677269\"/>\n     <use style=\"fill:#1f77b4;stroke:#1f77b4;\" x=\"136.884\" xlink:href=\"#m54754fc7bb\" y=\"84.814642\"/>\n     <use style=\"fill:#1f77b4;stroke:#1f77b4;\" x=\"146.136909\" xlink:href=\"#m54754fc7bb\" y=\"85.481356\"/>\n     <use style=\"fill:#1f77b4;stroke:#1f77b4;\" x=\"123.398856\" xlink:href=\"#m54754fc7bb\" y=\"58.341176\"/>\n     <use style=\"fill:#1f77b4;stroke:#1f77b4;\" x=\"159.457128\" xlink:href=\"#m54754fc7bb\" y=\"89.700345\"/>\n     <use style=\"fill:#1f77b4;stroke:#1f77b4;\" x=\"155.107077\" xlink:href=\"#m54754fc7bb\" y=\"89.985457\"/>\n     <use style=\"fill:#1f77b4;stroke:#1f77b4;\" x=\"143.272955\" xlink:href=\"#m54754fc7bb\" y=\"70.893857\"/>\n     <use style=\"fill:#1f77b4;stroke:#1f77b4;\" x=\"112.169603\" xlink:href=\"#m54754fc7bb\" y=\"54.128331\"/>\n     <use style=\"fill:#1f77b4;stroke:#1f77b4;\" x=\"99.382692\" xlink:href=\"#m54754fc7bb\" y=\"38.722044\"/>\n     <use style=\"fill:#1f77b4;stroke:#1f77b4;\" x=\"180.843287\" xlink:href=\"#m54754fc7bb\" y=\"96.603424\"/>\n     <use style=\"fill:#1f77b4;stroke:#1f77b4;\" x=\"181.86338\" xlink:href=\"#m54754fc7bb\" y=\"107.570967\"/>\n     <use style=\"fill:#1f77b4;stroke:#1f77b4;\" x=\"160.828289\" xlink:href=\"#m54754fc7bb\" y=\"102.855328\"/>\n     <use style=\"fill:#1f77b4;stroke:#1f77b4;\" x=\"137.690044\" xlink:href=\"#m54754fc7bb\" y=\"89.713127\"/>\n     <use style=\"fill:#1f77b4;stroke:#1f77b4;\" x=\"128.931365\" xlink:href=\"#m54754fc7bb\" y=\"74.8362\"/>\n     <use style=\"fill:#1f77b4;stroke:#1f77b4;\" x=\"127.999783\" xlink:href=\"#m54754fc7bb\" y=\"95.213279\"/>\n     <use style=\"fill:#1f77b4;stroke:#1f77b4;\" x=\"162.48141\" xlink:href=\"#m54754fc7bb\" y=\"96.60243\"/>\n     <use style=\"fill:#1f77b4;stroke:#1f77b4;\" x=\"124.881566\" xlink:href=\"#m54754fc7bb\" y=\"83.734143\"/>\n     <use style=\"fill:#1f77b4;stroke:#1f77b4;\" x=\"90.6926\" xlink:href=\"#m54754fc7bb\" y=\"40.545958\"/>\n     <use style=\"fill:#1f77b4;stroke:#1f77b4;\" x=\"152.000793\" xlink:href=\"#m54754fc7bb\" y=\"107.216396\"/>\n     <use style=\"fill:#1f77b4;stroke:#1f77b4;\" x=\"172.624985\" xlink:href=\"#m54754fc7bb\" y=\"106.753789\"/>\n     <use style=\"fill:#1f77b4;stroke:#1f77b4;\" x=\"118.7585\" xlink:href=\"#m54754fc7bb\" y=\"56.821599\"/>\n     <use style=\"fill:#1f77b4;stroke:#1f77b4;\" x=\"84.988681\" xlink:href=\"#m54754fc7bb\" y=\"50.413434\"/>\n     <use style=\"fill:#1f77b4;stroke:#1f77b4;\" x=\"162.921025\" xlink:href=\"#m54754fc7bb\" y=\"92.264889\"/>\n     <use style=\"fill:#1f77b4;stroke:#1f77b4;\" x=\"128.898248\" xlink:href=\"#m54754fc7bb\" y=\"59.509268\"/>\n     <use style=\"fill:#1f77b4;stroke:#1f77b4;\" x=\"117.851472\" xlink:href=\"#m54754fc7bb\" y=\"74.051339\"/>\n     <use style=\"fill:#1f77b4;stroke:#1f77b4;\" x=\"92.251327\" xlink:href=\"#m54754fc7bb\" y=\"42.749649\"/>\n     <use style=\"fill:#1f77b4;stroke:#1f77b4;\" x=\"131.072314\" xlink:href=\"#m54754fc7bb\" y=\"80.303665\"/>\n     <use style=\"fill:#1f77b4;stroke:#1f77b4;\" x=\"131.538847\" xlink:href=\"#m54754fc7bb\" y=\"79.211686\"/>\n     <use style=\"fill:#1f77b4;stroke:#1f77b4;\" x=\"124.046168\" xlink:href=\"#m54754fc7bb\" y=\"82.404527\"/>\n     <use style=\"fill:#1f77b4;stroke:#1f77b4;\" x=\"148.761035\" xlink:href=\"#m54754fc7bb\" y=\"82.434664\"/>\n     <use style=\"fill:#1f77b4;stroke:#1f77b4;\" x=\"119.365941\" xlink:href=\"#m54754fc7bb\" y=\"67.392531\"/>\n     <use style=\"fill:#1f77b4;stroke:#1f77b4;\" x=\"106.960966\" xlink:href=\"#m54754fc7bb\" y=\"47.357085\"/>\n     <use style=\"fill:#1f77b4;stroke:#1f77b4;\" x=\"44.18196\" xlink:href=\"#m54754fc7bb\" y=\"20.291769\"/>\n     <use style=\"fill:#1f77b4;stroke:#1f77b4;\" x=\"137.911432\" xlink:href=\"#m54754fc7bb\" y=\"75.050993\"/>\n     <use style=\"fill:#1f77b4;stroke:#1f77b4;\" x=\"82.707613\" xlink:href=\"#m54754fc7bb\" y=\"40.25887\"/>\n     <use style=\"fill:#1f77b4;stroke:#1f77b4;\" x=\"191.436962\" xlink:href=\"#m54754fc7bb\" y=\"105.068388\"/>\n     <use style=\"fill:#1f77b4;stroke:#1f77b4;\" x=\"144.796929\" xlink:href=\"#m54754fc7bb\" y=\"93.78877\"/>\n     <use style=\"fill:#1f77b4;stroke:#1f77b4;\" x=\"122.405586\" xlink:href=\"#m54754fc7bb\" y=\"78.812927\"/>\n     <use style=\"fill:#1f77b4;stroke:#1f77b4;\" x=\"108.184326\" xlink:href=\"#m54754fc7bb\" y=\"57.021904\"/>\n     <use style=\"fill:#1f77b4;stroke:#1f77b4;\" x=\"133.296754\" xlink:href=\"#m54754fc7bb\" y=\"78.685097\"/>\n     <use style=\"fill:#1f77b4;stroke:#1f77b4;\" x=\"90.069857\" xlink:href=\"#m54754fc7bb\" y=\"56.247186\"/>\n     <use style=\"fill:#1f77b4;stroke:#1f77b4;\" x=\"121.389067\" xlink:href=\"#m54754fc7bb\" y=\"68.618816\"/>\n     <use style=\"fill:#1f77b4;stroke:#1f77b4;\" x=\"90.059142\" xlink:href=\"#m54754fc7bb\" y=\"78.633532\"/>\n     <use style=\"fill:#1f77b4;stroke:#1f77b4;\" x=\"109.609514\" xlink:href=\"#m54754fc7bb\" y=\"65.46104\"/>\n     <use style=\"fill:#1f77b4;stroke:#1f77b4;\" x=\"105.565974\" xlink:href=\"#m54754fc7bb\" y=\"70.902848\"/>\n     <use style=\"fill:#1f77b4;stroke:#1f77b4;\" x=\"169.043689\" xlink:href=\"#m54754fc7bb\" y=\"92.36632\"/>\n     <use style=\"fill:#1f77b4;stroke:#1f77b4;\" x=\"132.712866\" xlink:href=\"#m54754fc7bb\" y=\"77.264841\"/>\n     <use style=\"fill:#1f77b4;stroke:#1f77b4;\" x=\"130.014308\" xlink:href=\"#m54754fc7bb\" y=\"82.780036\"/>\n     <use style=\"fill:#1f77b4;stroke:#1f77b4;\" x=\"108.287253\" xlink:href=\"#m54754fc7bb\" y=\"49.773082\"/>\n     <use style=\"fill:#1f77b4;stroke:#1f77b4;\" x=\"148.790132\" xlink:href=\"#m54754fc7bb\" y=\"86.846178\"/>\n     <use style=\"fill:#1f77b4;stroke:#1f77b4;\" x=\"161.493331\" xlink:href=\"#m54754fc7bb\" y=\"99.815166\"/>\n     <use style=\"fill:#1f77b4;stroke:#1f77b4;\" x=\"165.249054\" xlink:href=\"#m54754fc7bb\" y=\"100.836473\"/>\n     <use style=\"fill:#1f77b4;stroke:#1f77b4;\" x=\"144.102764\" xlink:href=\"#m54754fc7bb\" y=\"94.82451\"/>\n     <use style=\"fill:#1f77b4;stroke:#1f77b4;\" x=\"129.31984\" xlink:href=\"#m54754fc7bb\" y=\"58.893801\"/>\n     <use style=\"fill:#1f77b4;stroke:#1f77b4;\" x=\"130.118473\" xlink:href=\"#m54754fc7bb\" y=\"75.407892\"/>\n     <use style=\"fill:#1f77b4;stroke:#1f77b4;\" x=\"136.445952\" xlink:href=\"#m54754fc7bb\" y=\"87.813302\"/>\n     <use style=\"fill:#1f77b4;stroke:#1f77b4;\" x=\"120.83699\" xlink:href=\"#m54754fc7bb\" y=\"77.390722\"/>\n     <use style=\"fill:#1f77b4;stroke:#1f77b4;\" x=\"147.974798\" xlink:href=\"#m54754fc7bb\" y=\"85.113274\"/>\n     <use style=\"fill:#1f77b4;stroke:#1f77b4;\" x=\"170.473089\" xlink:href=\"#m54754fc7bb\" y=\"95.450733\"/>\n     <use style=\"fill:#1f77b4;stroke:#1f77b4;\" x=\"167.203252\" xlink:href=\"#m54754fc7bb\" y=\"89.006523\"/>\n     <use style=\"fill:#1f77b4;stroke:#1f77b4;\" x=\"123.790536\" xlink:href=\"#m54754fc7bb\" y=\"70.339673\"/>\n     <use style=\"fill:#1f77b4;stroke:#1f77b4;\" x=\"166.349248\" xlink:href=\"#m54754fc7bb\" y=\"104.193473\"/>\n     <use style=\"fill:#1f77b4;stroke:#1f77b4;\" x=\"134.361176\" xlink:href=\"#m54754fc7bb\" y=\"73.945153\"/>\n     <use style=\"fill:#1f77b4;stroke:#1f77b4;\" x=\"143.132089\" xlink:href=\"#m54754fc7bb\" y=\"81.565681\"/>\n     <use style=\"fill:#1f77b4;stroke:#1f77b4;\" x=\"150.749735\" xlink:href=\"#m54754fc7bb\" y=\"83.265479\"/>\n     <use style=\"fill:#1f77b4;stroke:#1f77b4;\" x=\"158.527174\" xlink:href=\"#m54754fc7bb\" y=\"96.920102\"/>\n     <use style=\"fill:#1f77b4;stroke:#1f77b4;\" x=\"115.013832\" xlink:href=\"#m54754fc7bb\" y=\"72.811014\"/>\n     <use style=\"fill:#1f77b4;stroke:#1f77b4;\" x=\"136.367822\" xlink:href=\"#m54754fc7bb\" y=\"70.166571\"/>\n     <use style=\"fill:#1f77b4;stroke:#1f77b4;\" x=\"165.876623\" xlink:href=\"#m54754fc7bb\" y=\"101.153633\"/>\n     <use style=\"fill:#1f77b4;stroke:#1f77b4;\" x=\"127.279149\" xlink:href=\"#m54754fc7bb\" y=\"76.568547\"/>\n     <use style=\"fill:#1f77b4;stroke:#1f77b4;\" x=\"97.093042\" xlink:href=\"#m54754fc7bb\" y=\"58.120574\"/>\n     <use style=\"fill:#1f77b4;stroke:#1f77b4;\" x=\"81.930007\" xlink:href=\"#m54754fc7bb\" y=\"46.238591\"/>\n     <use style=\"fill:#1f77b4;stroke:#1f77b4;\" x=\"153.319954\" xlink:href=\"#m54754fc7bb\" y=\"89.091928\"/>\n     <use style=\"fill:#1f77b4;stroke:#1f77b4;\" x=\"151.847518\" xlink:href=\"#m54754fc7bb\" y=\"102.530763\"/>\n     <use style=\"fill:#1f77b4;stroke:#1f77b4;\" x=\"104.033069\" xlink:href=\"#m54754fc7bb\" y=\"64.885937\"/>\n     <use style=\"fill:#1f77b4;stroke:#1f77b4;\" x=\"146.364739\" xlink:href=\"#m54754fc7bb\" y=\"94.536659\"/>\n     <use style=\"fill:#1f77b4;stroke:#1f77b4;\" x=\"96.056464\" xlink:href=\"#m54754fc7bb\" y=\"66.88235\"/>\n     <use style=\"fill:#1f77b4;stroke:#1f77b4;\" x=\"150.233514\" xlink:href=\"#m54754fc7bb\" y=\"89.863525\"/>\n     <use style=\"fill:#1f77b4;stroke:#1f77b4;\" x=\"131.688139\" xlink:href=\"#m54754fc7bb\" y=\"88.342882\"/>\n     <use style=\"fill:#1f77b4;stroke:#1f77b4;\" x=\"120.005526\" xlink:href=\"#m54754fc7bb\" y=\"72.750986\"/>\n     <use style=\"fill:#1f77b4;stroke:#1f77b4;\" x=\"84.127348\" xlink:href=\"#m54754fc7bb\" y=\"46.022477\"/>\n     <use style=\"fill:#1f77b4;stroke:#1f77b4;\" x=\"184.766952\" xlink:href=\"#m54754fc7bb\" y=\"103.085945\"/>\n     <use style=\"fill:#1f77b4;stroke:#1f77b4;\" x=\"149.806733\" xlink:href=\"#m54754fc7bb\" y=\"79.042555\"/>\n     <use style=\"fill:#1f77b4;stroke:#1f77b4;\" x=\"146.514768\" xlink:href=\"#m54754fc7bb\" y=\"71.158586\"/>\n     <use style=\"fill:#1f77b4;stroke:#1f77b4;\" x=\"115.985097\" xlink:href=\"#m54754fc7bb\" y=\"45.721201\"/>\n     <use style=\"fill:#1f77b4;stroke:#1f77b4;\" x=\"85.553574\" xlink:href=\"#m54754fc7bb\" y=\"48.847524\"/>\n     <use style=\"fill:#1f77b4;stroke:#1f77b4;\" x=\"100.579\" xlink:href=\"#m54754fc7bb\" y=\"56.0201\"/>\n     <use style=\"fill:#1f77b4;stroke:#1f77b4;\" x=\"149.22461\" xlink:href=\"#m54754fc7bb\" y=\"95.87809\"/>\n     <use style=\"fill:#1f77b4;stroke:#1f77b4;\" x=\"178.460333\" xlink:href=\"#m54754fc7bb\" y=\"111.271195\"/>\n     <use style=\"fill:#1f77b4;stroke:#1f77b4;\" x=\"132.513505\" xlink:href=\"#m54754fc7bb\" y=\"89.079963\"/>\n     <use style=\"fill:#1f77b4;stroke:#1f77b4;\" x=\"148.474803\" xlink:href=\"#m54754fc7bb\" y=\"81.584528\"/>\n     <use style=\"fill:#1f77b4;stroke:#1f77b4;\" x=\"123.872272\" xlink:href=\"#m54754fc7bb\" y=\"70.094193\"/>\n     <use style=\"fill:#1f77b4;stroke:#1f77b4;\" x=\"124.668621\" xlink:href=\"#m54754fc7bb\" y=\"87.55327\"/>\n     <use style=\"fill:#1f77b4;stroke:#1f77b4;\" x=\"125.985728\" xlink:href=\"#m54754fc7bb\" y=\"66.288843\"/>\n     <use style=\"fill:#1f77b4;stroke:#1f77b4;\" x=\"163.851706\" xlink:href=\"#m54754fc7bb\" y=\"99.676712\"/>\n     <use style=\"fill:#1f77b4;stroke:#1f77b4;\" x=\"161.624148\" xlink:href=\"#m54754fc7bb\" y=\"90.625045\"/>\n     <use style=\"fill:#1f77b4;stroke:#1f77b4;\" x=\"83.985157\" xlink:href=\"#m54754fc7bb\" y=\"46.614214\"/>\n     <use style=\"fill:#1f77b4;stroke:#1f77b4;\" x=\"80.036816\" xlink:href=\"#m54754fc7bb\" y=\"54.434357\"/>\n     <use style=\"fill:#1f77b4;stroke:#1f77b4;\" x=\"148.196532\" xlink:href=\"#m54754fc7bb\" y=\"89.204743\"/>\n     <use style=\"fill:#1f77b4;stroke:#1f77b4;\" x=\"111.386457\" xlink:href=\"#m54754fc7bb\" y=\"62.422157\"/>\n     <use style=\"fill:#1f77b4;stroke:#1f77b4;\" x=\"126.580984\" xlink:href=\"#m54754fc7bb\" y=\"74.527505\"/>\n     <use style=\"fill:#1f77b4;stroke:#1f77b4;\" x=\"99.649159\" xlink:href=\"#m54754fc7bb\" y=\"28.743206\"/>\n     <use style=\"fill:#1f77b4;stroke:#1f77b4;\" x=\"158.090504\" xlink:href=\"#m54754fc7bb\" y=\"79.195846\"/>\n     <use style=\"fill:#1f77b4;stroke:#1f77b4;\" x=\"127.778415\" xlink:href=\"#m54754fc7bb\" y=\"82.841495\"/>\n     <use style=\"fill:#1f77b4;stroke:#1f77b4;\" x=\"135.586287\" xlink:href=\"#m54754fc7bb\" y=\"78.069572\"/>\n     <use style=\"fill:#1f77b4;stroke:#1f77b4;\" x=\"154.516523\" xlink:href=\"#m54754fc7bb\" y=\"83.235341\"/>\n     <use style=\"fill:#1f77b4;stroke:#1f77b4;\" x=\"143.631068\" xlink:href=\"#m54754fc7bb\" y=\"79.126266\"/>\n     <use style=\"fill:#1f77b4;stroke:#1f77b4;\" x=\"129.051154\" xlink:href=\"#m54754fc7bb\" y=\"77.125453\"/>\n     <use style=\"fill:#1f77b4;stroke:#1f77b4;\" x=\"110.72526\" xlink:href=\"#m54754fc7bb\" y=\"103.017775\"/>\n     <use style=\"fill:#1f77b4;stroke:#1f77b4;\" x=\"136.565034\" xlink:href=\"#m54754fc7bb\" y=\"73.899127\"/>\n     <use style=\"fill:#1f77b4;stroke:#1f77b4;\" x=\"153.187565\" xlink:href=\"#m54754fc7bb\" y=\"77.031602\"/>\n     <use style=\"fill:#1f77b4;stroke:#1f77b4;\" x=\"77.636553\" xlink:href=\"#m54754fc7bb\" y=\"47.390437\"/>\n     <use style=\"fill:#1f77b4;stroke:#1f77b4;\" x=\"104.007593\" xlink:href=\"#m54754fc7bb\" y=\"52.579973\"/>\n     <use style=\"fill:#1f77b4;stroke:#1f77b4;\" x=\"75.726931\" xlink:href=\"#m54754fc7bb\" y=\"45.063996\"/>\n     <use style=\"fill:#1f77b4;stroke:#1f77b4;\" x=\"130.56078\" xlink:href=\"#m54754fc7bb\" y=\"82.073154\"/>\n     <use style=\"fill:#1f77b4;stroke:#1f77b4;\" x=\"156.913824\" xlink:href=\"#m54754fc7bb\" y=\"83.102238\"/>\n     <use style=\"fill:#1f77b4;stroke:#1f77b4;\" x=\"120.468673\" xlink:href=\"#m54754fc7bb\" y=\"63.177881\"/>\n     <use style=\"fill:#1f77b4;stroke:#1f77b4;\" x=\"120.291571\" xlink:href=\"#m54754fc7bb\" y=\"72.132478\"/>\n     <use style=\"fill:#1f77b4;stroke:#1f77b4;\" x=\"123.484763\" xlink:href=\"#m54754fc7bb\" y=\"66.504385\"/>\n     <use style=\"fill:#1f77b4;stroke:#1f77b4;\" x=\"105.017721\" xlink:href=\"#m54754fc7bb\" y=\"44.512709\"/>\n     <use style=\"fill:#1f77b4;stroke:#1f77b4;\" x=\"173.645015\" xlink:href=\"#m54754fc7bb\" y=\"101.145509\"/>\n     <use style=\"fill:#1f77b4;stroke:#1f77b4;\" x=\"181.481831\" xlink:href=\"#m54754fc7bb\" y=\"98.553118\"/>\n     <use style=\"fill:#1f77b4;stroke:#1f77b4;\" x=\"114.727586\" xlink:href=\"#m54754fc7bb\" y=\"70.235921\"/>\n     <use style=\"fill:#1f77b4;stroke:#1f77b4;\" x=\"156.119752\" xlink:href=\"#m54754fc7bb\" y=\"80.063759\"/>\n     <use style=\"fill:#1f77b4;stroke:#1f77b4;\" x=\"132.719192\" xlink:href=\"#m54754fc7bb\" y=\"109.027372\"/>\n     <use style=\"fill:#1f77b4;stroke:#1f77b4;\" x=\"128.08279\" xlink:href=\"#m54754fc7bb\" y=\"72.108096\"/>\n     <use style=\"fill:#1f77b4;stroke:#1f77b4;\" x=\"136.861466\" xlink:href=\"#m54754fc7bb\" y=\"89.222307\"/>\n     <use style=\"fill:#1f77b4;stroke:#1f77b4;\" x=\"118.091047\" xlink:href=\"#m54754fc7bb\" y=\"74.960335\"/>\n     <use style=\"fill:#1f77b4;stroke:#1f77b4;\" x=\"129.930062\" xlink:href=\"#m54754fc7bb\" y=\"75.863187\"/>\n     <use style=\"fill:#1f77b4;stroke:#1f77b4;\" x=\"156.132291\" xlink:href=\"#m54754fc7bb\" y=\"93.330939\"/>\n     <use style=\"fill:#1f77b4;stroke:#1f77b4;\" x=\"128.470965\" xlink:href=\"#m54754fc7bb\" y=\"80.485751\"/>\n     <use style=\"fill:#1f77b4;stroke:#1f77b4;\" x=\"141.877927\" xlink:href=\"#m54754fc7bb\" y=\"73.807364\"/>\n     <use style=\"fill:#1f77b4;stroke:#1f77b4;\" x=\"138.996562\" xlink:href=\"#m54754fc7bb\" y=\"90.82353\"/>\n     <use style=\"fill:#1f77b4;stroke:#1f77b4;\" x=\"105.706304\" xlink:href=\"#m54754fc7bb\" y=\"64.858035\"/>\n     <use style=\"fill:#1f77b4;stroke:#1f77b4;\" x=\"158.736654\" xlink:href=\"#m54754fc7bb\" y=\"89.826908\"/>\n     <use style=\"fill:#1f77b4;stroke:#1f77b4;\" x=\"160.017788\" xlink:href=\"#m54754fc7bb\" y=\"95.63022\"/>\n     <use style=\"fill:#1f77b4;stroke:#1f77b4;\" x=\"162.35937\" xlink:href=\"#m54754fc7bb\" y=\"94.179512\"/>\n     <use style=\"fill:#1f77b4;stroke:#1f77b4;\" x=\"84.269323\" xlink:href=\"#m54754fc7bb\" y=\"43.431675\"/>\n     <use style=\"fill:#1f77b4;stroke:#1f77b4;\" x=\"162.118084\" xlink:href=\"#m54754fc7bb\" y=\"121.091392\"/>\n     <use style=\"fill:#1f77b4;stroke:#1f77b4;\" x=\"166.177779\" xlink:href=\"#m54754fc7bb\" y=\"89.238512\"/>\n     <use style=\"fill:#1f77b4;stroke:#1f77b4;\" x=\"155.213259\" xlink:href=\"#m54754fc7bb\" y=\"91.637687\"/>\n     <use style=\"fill:#1f77b4;stroke:#1f77b4;\" x=\"89.198687\" xlink:href=\"#m54754fc7bb\" y=\"66.529796\"/>\n     <use style=\"fill:#1f77b4;stroke:#1f77b4;\" x=\"136.014332\" xlink:href=\"#m54754fc7bb\" y=\"75.93358\"/>\n     <use style=\"fill:#1f77b4;stroke:#1f77b4;\" x=\"168.925566\" xlink:href=\"#m54754fc7bb\" y=\"106.511283\"/>\n     <use style=\"fill:#1f77b4;stroke:#1f77b4;\" x=\"138.29509\" xlink:href=\"#m54754fc7bb\" y=\"76.451222\"/>\n     <use style=\"fill:#1f77b4;stroke:#1f77b4;\" x=\"109.59097\" xlink:href=\"#m54754fc7bb\" y=\"58.915371\"/>\n     <use style=\"fill:#1f77b4;stroke:#1f77b4;\" x=\"159.633866\" xlink:href=\"#m54754fc7bb\" y=\"90.162266\"/>\n     <use style=\"fill:#1f77b4;stroke:#1f77b4;\" x=\"145.65881\" xlink:href=\"#m54754fc7bb\" y=\"71.124078\"/>\n     <use style=\"fill:#1f77b4;stroke:#1f77b4;\" x=\"144.078927\" xlink:href=\"#m54754fc7bb\" y=\"62.564876\"/>\n     <use style=\"fill:#1f77b4;stroke:#1f77b4;\" x=\"169.423748\" xlink:href=\"#m54754fc7bb\" y=\"98.291477\"/>\n     <use style=\"fill:#1f77b4;stroke:#1f77b4;\" x=\"148.875292\" xlink:href=\"#m54754fc7bb\" y=\"80.651562\"/>\n     <use style=\"fill:#1f77b4;stroke:#1f77b4;\" x=\"119.358894\" xlink:href=\"#m54754fc7bb\" y=\"75.247417\"/>\n     <use style=\"fill:#1f77b4;stroke:#1f77b4;\" x=\"163.471506\" xlink:href=\"#m54754fc7bb\" y=\"93.261298\"/>\n     <use style=\"fill:#1f77b4;stroke:#1f77b4;\" x=\"108.006595\" xlink:href=\"#m54754fc7bb\" y=\"63.876175\"/>\n     <use style=\"fill:#1f77b4;stroke:#1f77b4;\" x=\"153.310331\" xlink:href=\"#m54754fc7bb\" y=\"89.972632\"/>\n     <use style=\"fill:#1f77b4;stroke:#1f77b4;\" x=\"144.104932\" xlink:href=\"#m54754fc7bb\" y=\"74.257687\"/>\n     <use style=\"fill:#1f77b4;stroke:#1f77b4;\" x=\"209.172692\" xlink:href=\"#m54754fc7bb\" y=\"136.922727\"/>\n     <use style=\"fill:#1f77b4;stroke:#1f77b4;\" x=\"114.782952\" xlink:href=\"#m54754fc7bb\" y=\"77.693822\"/>\n     <use style=\"fill:#1f77b4;stroke:#1f77b4;\" x=\"106.662009\" xlink:href=\"#m54754fc7bb\" y=\"42.744972\"/>\n     <use style=\"fill:#1f77b4;stroke:#1f77b4;\" x=\"147.615898\" xlink:href=\"#m54754fc7bb\" y=\"76.072812\"/>\n     <use style=\"fill:#1f77b4;stroke:#1f77b4;\" x=\"125.053439\" xlink:href=\"#m54754fc7bb\" y=\"77.318285\"/>\n     <use style=\"fill:#1f77b4;stroke:#1f77b4;\" x=\"95.414561\" xlink:href=\"#m54754fc7bb\" y=\"71.788258\"/>\n     <use style=\"fill:#1f77b4;stroke:#1f77b4;\" x=\"176.734301\" xlink:href=\"#m54754fc7bb\" y=\"101.588367\"/>\n     <use style=\"fill:#1f77b4;stroke:#1f77b4;\" x=\"126.287062\" xlink:href=\"#m54754fc7bb\" y=\"74.019625\"/>\n     <use style=\"fill:#1f77b4;stroke:#1f77b4;\" x=\"126.898919\" xlink:href=\"#m54754fc7bb\" y=\"67.577991\"/>\n     <use style=\"fill:#1f77b4;stroke:#1f77b4;\" x=\"98.341809\" xlink:href=\"#m54754fc7bb\" y=\"55.122433\"/>\n     <use style=\"fill:#1f77b4;stroke:#1f77b4;\" x=\"163.950099\" xlink:href=\"#m54754fc7bb\" y=\"89.218159\"/>\n     <use style=\"fill:#1f77b4;stroke:#1f77b4;\" x=\"145.273717\" xlink:href=\"#m54754fc7bb\" y=\"84.974417\"/>\n     <use style=\"fill:#1f77b4;stroke:#1f77b4;\" x=\"158.984333\" xlink:href=\"#m54754fc7bb\" y=\"93.880081\"/>\n     <use style=\"fill:#1f77b4;stroke:#1f77b4;\" x=\"151.925111\" xlink:href=\"#m54754fc7bb\" y=\"79.578235\"/>\n     <use style=\"fill:#1f77b4;stroke:#1f77b4;\" x=\"174.003287\" xlink:href=\"#m54754fc7bb\" y=\"107.697181\"/>\n     <use style=\"fill:#1f77b4;stroke:#1f77b4;\" x=\"142.669566\" xlink:href=\"#m54754fc7bb\" y=\"77.535404\"/>\n     <use style=\"fill:#1f77b4;stroke:#1f77b4;\" x=\"146.711611\" xlink:href=\"#m54754fc7bb\" y=\"94.737818\"/>\n     <use style=\"fill:#1f77b4;stroke:#1f77b4;\" x=\"156.468559\" xlink:href=\"#m54754fc7bb\" y=\"81.157891\"/>\n     <use style=\"fill:#1f77b4;stroke:#1f77b4;\" x=\"165.225125\" xlink:href=\"#m54754fc7bb\" y=\"102.894231\"/>\n     <use style=\"fill:#1f77b4;stroke:#1f77b4;\" x=\"118.569865\" xlink:href=\"#m54754fc7bb\" y=\"70.570914\"/>\n     <use style=\"fill:#1f77b4;stroke:#1f77b4;\" x=\"140.261546\" xlink:href=\"#m54754fc7bb\" y=\"86.457409\"/>\n     <use style=\"fill:#1f77b4;stroke:#1f77b4;\" x=\"120.14145\" xlink:href=\"#m54754fc7bb\" y=\"57.761638\"/>\n     <use style=\"fill:#1f77b4;stroke:#1f77b4;\" x=\"159.229687\" xlink:href=\"#m54754fc7bb\" y=\"78.368411\"/>\n     <use style=\"fill:#1f77b4;stroke:#1f77b4;\" x=\"125.364396\" xlink:href=\"#m54754fc7bb\" y=\"81.056838\"/>\n     <use style=\"fill:#1f77b4;stroke:#1f77b4;\" x=\"103.238856\" xlink:href=\"#m54754fc7bb\" y=\"47.39732\"/>\n     <use style=\"fill:#1f77b4;stroke:#1f77b4;\" x=\"127.03754\" xlink:href=\"#m54754fc7bb\" y=\"71.356711\"/>\n     <use style=\"fill:#1f77b4;stroke:#1f77b4;\" x=\"65.805554\" xlink:href=\"#m54754fc7bb\" y=\"52.599235\"/>\n     <use style=\"fill:#1f77b4;stroke:#1f77b4;\" x=\"124.595299\" xlink:href=\"#m54754fc7bb\" y=\"81.633219\"/>\n     <use style=\"fill:#1f77b4;stroke:#1f77b4;\" x=\"125.602796\" xlink:href=\"#m54754fc7bb\" y=\"60.021537\"/>\n     <use style=\"fill:#1f77b4;stroke:#1f77b4;\" x=\"127.565617\" xlink:href=\"#m54754fc7bb\" y=\"77.210943\"/>\n     <use style=\"fill:#1f77b4;stroke:#1f77b4;\" x=\"92.365016\" xlink:href=\"#m54754fc7bb\" y=\"52.232272\"/>\n     <use style=\"fill:#1f77b4;stroke:#1f77b4;\" x=\"166.683988\" xlink:href=\"#m54754fc7bb\" y=\"103.934734\"/>\n     <use style=\"fill:#1f77b4;stroke:#1f77b4;\" x=\"117.536216\" xlink:href=\"#m54754fc7bb\" y=\"77.060112\"/>\n     <use style=\"fill:#1f77b4;stroke:#1f77b4;\" x=\"158.646025\" xlink:href=\"#m54754fc7bb\" y=\"98.31483\"/>\n     <use style=\"fill:#1f77b4;stroke:#1f77b4;\" x=\"135.07727\" xlink:href=\"#m54754fc7bb\" y=\"90.931177\"/>\n     <use style=\"fill:#1f77b4;stroke:#1f77b4;\" x=\"153.240034\" xlink:href=\"#m54754fc7bb\" y=\"94.343945\"/>\n     <use style=\"fill:#1f77b4;stroke:#1f77b4;\" x=\"142.521171\" xlink:href=\"#m54754fc7bb\" y=\"90.917901\"/>\n     <use style=\"fill:#1f77b4;stroke:#1f77b4;\" x=\"125.717076\" xlink:href=\"#m54754fc7bb\" y=\"62.083569\"/>\n     <use style=\"fill:#1f77b4;stroke:#1f77b4;\" x=\"141.236386\" xlink:href=\"#m54754fc7bb\" y=\"76.142788\"/>\n     <use style=\"fill:#1f77b4;stroke:#1f77b4;\" x=\"107.382866\" xlink:href=\"#m54754fc7bb\" y=\"61.984231\"/>\n     <use style=\"fill:#1f77b4;stroke:#1f77b4;\" x=\"144.779316\" xlink:href=\"#m54754fc7bb\" y=\"83.965386\"/>\n     <use style=\"fill:#1f77b4;stroke:#1f77b4;\" x=\"154.594824\" xlink:href=\"#m54754fc7bb\" y=\"99.585702\"/>\n     <use style=\"fill:#1f77b4;stroke:#1f77b4;\" x=\"101.960145\" xlink:href=\"#m54754fc7bb\" y=\"63.44794\"/>\n     <use style=\"fill:#1f77b4;stroke:#1f77b4;\" x=\"108.234847\" xlink:href=\"#m54754fc7bb\" y=\"64.375548\"/>\n     <use style=\"fill:#1f77b4;stroke:#1f77b4;\" x=\"107.015825\" xlink:href=\"#m54754fc7bb\" y=\"75.070669\"/>\n     <use style=\"fill:#1f77b4;stroke:#1f77b4;\" x=\"106.119304\" xlink:href=\"#m54754fc7bb\" y=\"48.743698\"/>\n     <use style=\"fill:#1f77b4;stroke:#1f77b4;\" x=\"126.647809\" xlink:href=\"#m54754fc7bb\" y=\"74.769853\"/>\n     <use style=\"fill:#1f77b4;stroke:#1f77b4;\" x=\"112.920215\" xlink:href=\"#m54754fc7bb\" y=\"55.865299\"/>\n     <use style=\"fill:#1f77b4;stroke:#1f77b4;\" x=\"144.371793\" xlink:href=\"#m54754fc7bb\" y=\"93.103285\"/>\n     <use style=\"fill:#1f77b4;stroke:#1f77b4;\" x=\"160.803459\" xlink:href=\"#m54754fc7bb\" y=\"109.515926\"/>\n     <use style=\"fill:#1f77b4;stroke:#1f77b4;\" x=\"129.280786\" xlink:href=\"#m54754fc7bb\" y=\"75.575421\"/>\n     <use style=\"fill:#1f77b4;stroke:#1f77b4;\" x=\"104.342139\" xlink:href=\"#m54754fc7bb\" y=\"54.348508\"/>\n     <use style=\"fill:#1f77b4;stroke:#1f77b4;\" x=\"125.225775\" xlink:href=\"#m54754fc7bb\" y=\"83.034001\"/>\n     <use style=\"fill:#1f77b4;stroke:#1f77b4;\" x=\"116.926175\" xlink:href=\"#m54754fc7bb\" y=\"70.63845\"/>\n     <use style=\"fill:#1f77b4;stroke:#1f77b4;\" x=\"164.8839\" xlink:href=\"#m54754fc7bb\" y=\"84.781041\"/>\n     <use style=\"fill:#1f77b4;stroke:#1f77b4;\" x=\"56.96233\" xlink:href=\"#m54754fc7bb\" y=\"23.343105\"/>\n     <use style=\"fill:#1f77b4;stroke:#1f77b4;\" x=\"125.869967\" xlink:href=\"#m54754fc7bb\" y=\"84.182664\"/>\n     <use style=\"fill:#1f77b4;stroke:#1f77b4;\" x=\"151.509131\" xlink:href=\"#m54754fc7bb\" y=\"87.30978\"/>\n     <use style=\"fill:#1f77b4;stroke:#1f77b4;\" x=\"140.045227\" xlink:href=\"#m54754fc7bb\" y=\"68.948388\"/>\n     <use style=\"fill:#1f77b4;stroke:#1f77b4;\" x=\"149.423235\" xlink:href=\"#m54754fc7bb\" y=\"97.826127\"/>\n     <use style=\"fill:#1f77b4;stroke:#1f77b4;\" x=\"136.988921\" xlink:href=\"#m54754fc7bb\" y=\"76.365101\"/>\n     <use style=\"fill:#1f77b4;stroke:#1f77b4;\" x=\"116.908556\" xlink:href=\"#m54754fc7bb\" y=\"61.630408\"/>\n     <use style=\"fill:#1f77b4;stroke:#1f77b4;\" x=\"200.782802\" xlink:href=\"#m54754fc7bb\" y=\"130.743297\"/>\n     <use style=\"fill:#1f77b4;stroke:#1f77b4;\" x=\"114.698437\" xlink:href=\"#m54754fc7bb\" y=\"68.027199\"/>\n     <use style=\"fill:#1f77b4;stroke:#1f77b4;\" x=\"153.418464\" xlink:href=\"#m54754fc7bb\" y=\"79.65533\"/>\n     <use style=\"fill:#1f77b4;stroke:#1f77b4;\" x=\"123.705536\" xlink:href=\"#m54754fc7bb\" y=\"70.467239\"/>\n     <use style=\"fill:#1f77b4;stroke:#1f77b4;\" x=\"96.251422\" xlink:href=\"#m54754fc7bb\" y=\"68.037447\"/>\n     <use style=\"fill:#1f77b4;stroke:#1f77b4;\" x=\"107.225062\" xlink:href=\"#m54754fc7bb\" y=\"55.149587\"/>\n     <use style=\"fill:#1f77b4;stroke:#1f77b4;\" x=\"128.227457\" xlink:href=\"#m54754fc7bb\" y=\"77.34379\"/>\n     <use style=\"fill:#1f77b4;stroke:#1f77b4;\" x=\"102.229371\" xlink:href=\"#m54754fc7bb\" y=\"66.840281\"/>\n     <use style=\"fill:#1f77b4;stroke:#1f77b4;\" x=\"129.362469\" xlink:href=\"#m54754fc7bb\" y=\"76.763096\"/>\n     <use style=\"fill:#1f77b4;stroke:#1f77b4;\" x=\"120.083143\" xlink:href=\"#m54754fc7bb\" y=\"63.050223\"/>\n     <use style=\"fill:#1f77b4;stroke:#1f77b4;\" x=\"148.739631\" xlink:href=\"#m54754fc7bb\" y=\"89.34125\"/>\n     <use style=\"fill:#1f77b4;stroke:#1f77b4;\" x=\"168.323761\" xlink:href=\"#m54754fc7bb\" y=\"92.599494\"/>\n     <use style=\"fill:#1f77b4;stroke:#1f77b4;\" x=\"146.956364\" xlink:href=\"#m54754fc7bb\" y=\"83.883932\"/>\n     <use style=\"fill:#1f77b4;stroke:#1f77b4;\" x=\"125.070775\" xlink:href=\"#m54754fc7bb\" y=\"81.576229\"/>\n     <use style=\"fill:#1f77b4;stroke:#1f77b4;\" x=\"69.079141\" xlink:href=\"#m54754fc7bb\" y=\"32.715673\"/>\n     <use style=\"fill:#1f77b4;stroke:#1f77b4;\" x=\"120.677993\" xlink:href=\"#m54754fc7bb\" y=\"57.067615\"/>\n     <use style=\"fill:#1f77b4;stroke:#1f77b4;\" x=\"154.722418\" xlink:href=\"#m54754fc7bb\" y=\"109.043333\"/>\n     <use style=\"fill:#1f77b4;stroke:#1f77b4;\" x=\"155.551756\" xlink:href=\"#m54754fc7bb\" y=\"88.692913\"/>\n     <use style=\"fill:#1f77b4;stroke:#1f77b4;\" x=\"175.528567\" xlink:href=\"#m54754fc7bb\" y=\"120.663139\"/>\n     <use style=\"fill:#1f77b4;stroke:#1f77b4;\" x=\"134.375588\" xlink:href=\"#m54754fc7bb\" y=\"88.137248\"/>\n     <use style=\"fill:#1f77b4;stroke:#1f77b4;\" x=\"168.058141\" xlink:href=\"#m54754fc7bb\" y=\"100.012446\"/>\n     <use style=\"fill:#1f77b4;stroke:#1f77b4;\" x=\"150.562327\" xlink:href=\"#m54754fc7bb\" y=\"106.122213\"/>\n     <use style=\"fill:#1f77b4;stroke:#1f77b4;\" x=\"126.472038\" xlink:href=\"#m54754fc7bb\" y=\"69.508209\"/>\n     <use style=\"fill:#1f77b4;stroke:#1f77b4;\" x=\"150.375931\" xlink:href=\"#m54754fc7bb\" y=\"83.447082\"/>\n     <use style=\"fill:#1f77b4;stroke:#1f77b4;\" x=\"133.16575\" xlink:href=\"#m54754fc7bb\" y=\"74.4653\"/>\n     <use style=\"fill:#1f77b4;stroke:#1f77b4;\" x=\"147.597091\" xlink:href=\"#m54754fc7bb\" y=\"75.686477\"/>\n     <use style=\"fill:#1f77b4;stroke:#1f77b4;\" x=\"126.248256\" xlink:href=\"#m54754fc7bb\" y=\"74.516529\"/>\n     <use style=\"fill:#1f77b4;stroke:#1f77b4;\" x=\"121.901124\" xlink:href=\"#m54754fc7bb\" y=\"71.966629\"/>\n     <use style=\"fill:#1f77b4;stroke:#1f77b4;\" x=\"161.187297\" xlink:href=\"#m54754fc7bb\" y=\"103.538854\"/>\n     <use style=\"fill:#1f77b4;stroke:#1f77b4;\" x=\"163.776164\" xlink:href=\"#m54754fc7bb\" y=\"104.812102\"/>\n     <use style=\"fill:#1f77b4;stroke:#1f77b4;\" x=\"119.21608\" xlink:href=\"#m54754fc7bb\" y=\"72.932307\"/>\n     <use style=\"fill:#1f77b4;stroke:#1f77b4;\" x=\"135.991818\" xlink:href=\"#m54754fc7bb\" y=\"79.820245\"/>\n     <use style=\"fill:#1f77b4;stroke:#1f77b4;\" x=\"135.013948\" xlink:href=\"#m54754fc7bb\" y=\"89.575689\"/>\n     <use style=\"fill:#1f77b4;stroke:#1f77b4;\" x=\"147.233323\" xlink:href=\"#m54754fc7bb\" y=\"86.080878\"/>\n     <use style=\"fill:#1f77b4;stroke:#1f77b4;\" x=\"137.199635\" xlink:href=\"#m54754fc7bb\" y=\"69.807035\"/>\n     <use style=\"fill:#1f77b4;stroke:#1f77b4;\" x=\"107.488374\" xlink:href=\"#m54754fc7bb\" y=\"73.079681\"/>\n     <use style=\"fill:#1f77b4;stroke:#1f77b4;\" x=\"130.611112\" xlink:href=\"#m54754fc7bb\" y=\"60.78807\"/>\n     <use style=\"fill:#1f77b4;stroke:#1f77b4;\" x=\"167.739964\" xlink:href=\"#m54754fc7bb\" y=\"91.232325\"/>\n     <use style=\"fill:#1f77b4;stroke:#1f77b4;\" x=\"139.539076\" xlink:href=\"#m54754fc7bb\" y=\"71.393986\"/>\n     <use style=\"fill:#1f77b4;stroke:#1f77b4;\" x=\"120.737899\" xlink:href=\"#m54754fc7bb\" y=\"61.189344\"/>\n     <use style=\"fill:#1f77b4;stroke:#1f77b4;\" x=\"167.412603\" xlink:href=\"#m54754fc7bb\" y=\"103.968182\"/>\n     <use style=\"fill:#1f77b4;stroke:#1f77b4;\" x=\"166.552296\" xlink:href=\"#m54754fc7bb\" y=\"105.26007\"/>\n     <use style=\"fill:#1f77b4;stroke:#1f77b4;\" x=\"139.861353\" xlink:href=\"#m54754fc7bb\" y=\"94.835461\"/>\n     <use style=\"fill:#1f77b4;stroke:#1f77b4;\" x=\"104.983496\" xlink:href=\"#m54754fc7bb\" y=\"62.898559\"/>\n     <use style=\"fill:#1f77b4;stroke:#1f77b4;\" x=\"95.30809\" xlink:href=\"#m54754fc7bb\" y=\"62.316176\"/>\n     <use style=\"fill:#1f77b4;stroke:#1f77b4;\" x=\"127.167637\" xlink:href=\"#m54754fc7bb\" y=\"59.00072\"/>\n     <use style=\"fill:#1f77b4;stroke:#1f77b4;\" x=\"138.406879\" xlink:href=\"#m54754fc7bb\" y=\"82.654465\"/>\n     <use style=\"fill:#1f77b4;stroke:#1f77b4;\" x=\"154.277779\" xlink:href=\"#m54754fc7bb\" y=\"92.965246\"/>\n     <use style=\"fill:#1f77b4;stroke:#1f77b4;\" x=\"103.158525\" xlink:href=\"#m54754fc7bb\" y=\"62.003037\"/>\n     <use style=\"fill:#1f77b4;stroke:#1f77b4;\" x=\"75.575082\" xlink:href=\"#m54754fc7bb\" y=\"37.968904\"/>\n     <use style=\"fill:#1f77b4;stroke:#1f77b4;\" x=\"130.911371\" xlink:href=\"#m54754fc7bb\" y=\"52.977033\"/>\n     <use style=\"fill:#1f77b4;stroke:#1f77b4;\" x=\"110.009115\" xlink:href=\"#m54754fc7bb\" y=\"46.546912\"/>\n     <use style=\"fill:#1f77b4;stroke:#1f77b4;\" x=\"146.901162\" xlink:href=\"#m54754fc7bb\" y=\"69.88324\"/>\n     <use style=\"fill:#1f77b4;stroke:#1f77b4;\" x=\"186.5916\" xlink:href=\"#m54754fc7bb\" y=\"113.249288\"/>\n     <use style=\"fill:#1f77b4;stroke:#1f77b4;\" x=\"136.470325\" xlink:href=\"#m54754fc7bb\" y=\"84.39284\"/>\n     <use style=\"fill:#1f77b4;stroke:#1f77b4;\" x=\"77.220699\" xlink:href=\"#m54754fc7bb\" y=\"57.497256\"/>\n     <use style=\"fill:#1f77b4;stroke:#1f77b4;\" x=\"126.465638\" xlink:href=\"#m54754fc7bb\" y=\"92.759078\"/>\n     <use style=\"fill:#1f77b4;stroke:#1f77b4;\" x=\"148.107269\" xlink:href=\"#m54754fc7bb\" y=\"100.528523\"/>\n     <use style=\"fill:#1f77b4;stroke:#1f77b4;\" x=\"121.95878\" xlink:href=\"#m54754fc7bb\" y=\"84.331554\"/>\n     <use style=\"fill:#1f77b4;stroke:#1f77b4;\" x=\"122.618066\" xlink:href=\"#m54754fc7bb\" y=\"74.029235\"/>\n     <use style=\"fill:#1f77b4;stroke:#1f77b4;\" x=\"143.458872\" xlink:href=\"#m54754fc7bb\" y=\"95.275419\"/>\n     <use style=\"fill:#1f77b4;stroke:#1f77b4;\" x=\"171.732429\" xlink:href=\"#m54754fc7bb\" y=\"101.500852\"/>\n     <use style=\"fill:#1f77b4;stroke:#1f77b4;\" x=\"138.385468\" xlink:href=\"#m54754fc7bb\" y=\"83.502115\"/>\n     <use style=\"fill:#1f77b4;stroke:#1f77b4;\" x=\"160.681545\" xlink:href=\"#m54754fc7bb\" y=\"102.090075\"/>\n     <use style=\"fill:#1f77b4;stroke:#1f77b4;\" x=\"140.839274\" xlink:href=\"#m54754fc7bb\" y=\"79.379396\"/>\n    </g>\n   </g>\n   <g id=\"matplotlib.axis_1\">\n    <g id=\"xtick_1\">\n     <g id=\"line2d_1\">\n      <defs>\n       <path d=\"M 0 0 \nL 0 3.5 \n\" id=\"mb90a833394\" style=\"stroke:#000000;stroke-width:0.8;\"/>\n      </defs>\n      <g>\n       <use style=\"stroke:#000000;stroke-width:0.8;\" x=\"78.765544\" xlink:href=\"#mb90a833394\" y=\"143.1\"/>\n      </g>\n     </g>\n     <g id=\"text_1\">\n      <!-- −2 -->\n      <g transform=\"translate(71.39445 157.698438)scale(0.1 -0.1)\">\n       <defs>\n        <path d=\"M 678 2272 \nL 4684 2272 \nL 4684 1741 \nL 678 1741 \nL 678 2272 \nz\n\" id=\"DejaVuSans-2212\" transform=\"scale(0.015625)\"/>\n        <path d=\"M 1228 531 \nL 3431 531 \nL 3431 0 \nL 469 0 \nL 469 531 \nQ 828 903 1448 1529 \nQ 2069 2156 2228 2338 \nQ 2531 2678 2651 2914 \nQ 2772 3150 2772 3378 \nQ 2772 3750 2511 3984 \nQ 2250 4219 1831 4219 \nQ 1534 4219 1204 4116 \nQ 875 4013 500 3803 \nL 500 4441 \nQ 881 4594 1212 4672 \nQ 1544 4750 1819 4750 \nQ 2544 4750 2975 4387 \nQ 3406 4025 3406 3419 \nQ 3406 3131 3298 2873 \nQ 3191 2616 2906 2266 \nQ 2828 2175 2409 1742 \nQ 1991 1309 1228 531 \nz\n\" id=\"DejaVuSans-32\" transform=\"scale(0.015625)\"/>\n       </defs>\n       <use xlink:href=\"#DejaVuSans-2212\"/>\n       <use x=\"83.789062\" xlink:href=\"#DejaVuSans-32\"/>\n      </g>\n     </g>\n    </g>\n    <g id=\"xtick_2\">\n     <g id=\"line2d_2\">\n      <g>\n       <use style=\"stroke:#000000;stroke-width:0.8;\" x=\"131.375938\" xlink:href=\"#mb90a833394\" y=\"143.1\"/>\n      </g>\n     </g>\n     <g id=\"text_2\">\n      <!-- 0 -->\n      <g transform=\"translate(128.194688 157.698438)scale(0.1 -0.1)\">\n       <defs>\n        <path d=\"M 2034 4250 \nQ 1547 4250 1301 3770 \nQ 1056 3291 1056 2328 \nQ 1056 1369 1301 889 \nQ 1547 409 2034 409 \nQ 2525 409 2770 889 \nQ 3016 1369 3016 2328 \nQ 3016 3291 2770 3770 \nQ 2525 4250 2034 4250 \nz\nM 2034 4750 \nQ 2819 4750 3233 4129 \nQ 3647 3509 3647 2328 \nQ 3647 1150 3233 529 \nQ 2819 -91 2034 -91 \nQ 1250 -91 836 529 \nQ 422 1150 422 2328 \nQ 422 3509 836 4129 \nQ 1250 4750 2034 4750 \nz\n\" id=\"DejaVuSans-30\" transform=\"scale(0.015625)\"/>\n       </defs>\n       <use xlink:href=\"#DejaVuSans-30\"/>\n      </g>\n     </g>\n    </g>\n    <g id=\"xtick_3\">\n     <g id=\"line2d_3\">\n      <g>\n       <use style=\"stroke:#000000;stroke-width:0.8;\" x=\"183.986332\" xlink:href=\"#mb90a833394\" y=\"143.1\"/>\n      </g>\n     </g>\n     <g id=\"text_3\">\n      <!-- 2 -->\n      <g transform=\"translate(180.805082 157.698438)scale(0.1 -0.1)\">\n       <use xlink:href=\"#DejaVuSans-32\"/>\n      </g>\n     </g>\n    </g>\n   </g>\n   <g id=\"matplotlib.axis_2\">\n    <g id=\"ytick_1\">\n     <g id=\"line2d_4\">\n      <defs>\n       <path d=\"M 0 0 \nL -3.5 0 \n\" id=\"m3d244748c9\" style=\"stroke:#000000;stroke-width:0.8;\"/>\n      </defs>\n      <g>\n       <use style=\"stroke:#000000;stroke-width:0.8;\" x=\"35.304688\" xlink:href=\"#m3d244748c9\" y=\"142.187198\"/>\n      </g>\n     </g>\n     <g id=\"text_4\">\n      <!-- −10 -->\n      <g transform=\"translate(7.2 145.986417)scale(0.1 -0.1)\">\n       <defs>\n        <path d=\"M 794 531 \nL 1825 531 \nL 1825 4091 \nL 703 3866 \nL 703 4441 \nL 1819 4666 \nL 2450 4666 \nL 2450 531 \nL 3481 531 \nL 3481 0 \nL 794 0 \nL 794 531 \nz\n\" id=\"DejaVuSans-31\" transform=\"scale(0.015625)\"/>\n       </defs>\n       <use xlink:href=\"#DejaVuSans-2212\"/>\n       <use x=\"83.789062\" xlink:href=\"#DejaVuSans-31\"/>\n       <use x=\"147.412109\" xlink:href=\"#DejaVuSans-30\"/>\n      </g>\n     </g>\n    </g>\n    <g id=\"ytick_2\">\n     <g id=\"line2d_5\">\n      <g>\n       <use style=\"stroke:#000000;stroke-width:0.8;\" x=\"35.304688\" xlink:href=\"#m3d244748c9\" y=\"119.187832\"/>\n      </g>\n     </g>\n     <g id=\"text_5\">\n      <!-- −5 -->\n      <g transform=\"translate(13.5625 122.987051)scale(0.1 -0.1)\">\n       <defs>\n        <path d=\"M 691 4666 \nL 3169 4666 \nL 3169 4134 \nL 1269 4134 \nL 1269 2991 \nQ 1406 3038 1543 3061 \nQ 1681 3084 1819 3084 \nQ 2600 3084 3056 2656 \nQ 3513 2228 3513 1497 \nQ 3513 744 3044 326 \nQ 2575 -91 1722 -91 \nQ 1428 -91 1123 -41 \nQ 819 9 494 109 \nL 494 744 \nQ 775 591 1075 516 \nQ 1375 441 1709 441 \nQ 2250 441 2565 725 \nQ 2881 1009 2881 1497 \nQ 2881 1984 2565 2268 \nQ 2250 2553 1709 2553 \nQ 1456 2553 1204 2497 \nQ 953 2441 691 2322 \nL 691 4666 \nz\n\" id=\"DejaVuSans-35\" transform=\"scale(0.015625)\"/>\n       </defs>\n       <use xlink:href=\"#DejaVuSans-2212\"/>\n       <use x=\"83.789062\" xlink:href=\"#DejaVuSans-35\"/>\n      </g>\n     </g>\n    </g>\n    <g id=\"ytick_3\">\n     <g id=\"line2d_6\">\n      <g>\n       <use style=\"stroke:#000000;stroke-width:0.8;\" x=\"35.304688\" xlink:href=\"#m3d244748c9\" y=\"96.188466\"/>\n      </g>\n     </g>\n     <g id=\"text_6\">\n      <!-- 0 -->\n      <g transform=\"translate(21.942187 99.987685)scale(0.1 -0.1)\">\n       <use xlink:href=\"#DejaVuSans-30\"/>\n      </g>\n     </g>\n    </g>\n    <g id=\"ytick_4\">\n     <g id=\"line2d_7\">\n      <g>\n       <use style=\"stroke:#000000;stroke-width:0.8;\" x=\"35.304688\" xlink:href=\"#m3d244748c9\" y=\"73.1891\"/>\n      </g>\n     </g>\n     <g id=\"text_7\">\n      <!-- 5 -->\n      <g transform=\"translate(21.942187 76.988319)scale(0.1 -0.1)\">\n       <use xlink:href=\"#DejaVuSans-35\"/>\n      </g>\n     </g>\n    </g>\n    <g id=\"ytick_5\">\n     <g id=\"line2d_8\">\n      <g>\n       <use style=\"stroke:#000000;stroke-width:0.8;\" x=\"35.304688\" xlink:href=\"#m3d244748c9\" y=\"50.189734\"/>\n      </g>\n     </g>\n     <g id=\"text_8\">\n      <!-- 10 -->\n      <g transform=\"translate(15.579687 53.988953)scale(0.1 -0.1)\">\n       <use xlink:href=\"#DejaVuSans-31\"/>\n       <use x=\"63.623047\" xlink:href=\"#DejaVuSans-30\"/>\n      </g>\n     </g>\n    </g>\n    <g id=\"ytick_6\">\n     <g id=\"line2d_9\">\n      <g>\n       <use style=\"stroke:#000000;stroke-width:0.8;\" x=\"35.304688\" xlink:href=\"#m3d244748c9\" y=\"27.190368\"/>\n      </g>\n     </g>\n     <g id=\"text_9\">\n      <!-- 15 -->\n      <g transform=\"translate(15.579687 30.989587)scale(0.1 -0.1)\">\n       <use xlink:href=\"#DejaVuSans-31\"/>\n       <use x=\"63.623047\" xlink:href=\"#DejaVuSans-35\"/>\n      </g>\n     </g>\n    </g>\n   </g>\n   <g id=\"patch_3\">\n    <path d=\"M 35.304688 143.1 \nL 35.304688 7.2 \n\" style=\"fill:none;stroke:#000000;stroke-linecap:square;stroke-linejoin:miter;stroke-width:0.8;\"/>\n   </g>\n   <g id=\"patch_4\">\n    <path d=\"M 230.604688 143.1 \nL 230.604688 7.2 \n\" style=\"fill:none;stroke:#000000;stroke-linecap:square;stroke-linejoin:miter;stroke-width:0.8;\"/>\n   </g>\n   <g id=\"patch_5\">\n    <path d=\"M 35.304687 143.1 \nL 230.604688 143.1 \n\" style=\"fill:none;stroke:#000000;stroke-linecap:square;stroke-linejoin:miter;stroke-width:0.8;\"/>\n   </g>\n   <g id=\"patch_6\">\n    <path d=\"M 35.304687 7.2 \nL 230.604688 7.2 \n\" style=\"fill:none;stroke:#000000;stroke-linecap:square;stroke-linejoin:miter;stroke-width:0.8;\"/>\n   </g>\n  </g>\n </g>\n <defs>\n  <clipPath id=\"pdcc2fc8739\">\n   <rect height=\"135.9\" width=\"195.3\" x=\"35.304688\" y=\"7.2\"/>\n  </clipPath>\n </defs>\n</svg>\n",
      "text/plain": [
       "<Figure size 252x180 with 1 Axes>"
      ]
     },
     "metadata": {
      "needs_background": "light"
     },
     "output_type": "display_data"
    }
   ],
   "source": [
    "def use_svg_display():\n",
    "    # 用矢量图显示\n",
    "    display.set_matplotlib_formats('svg')\n",
    "\n",
    "def set_figsize(figsize=(3.5, 2.5)):\n",
    "    use_svg_display()\n",
    "    # 设置图的尺寸\n",
    "    plt.rcParams['figure.figsize'] = figsize\n",
    "\n",
    "# # 在../d2lzh_pytorch里面添加上面两个函数后就可以这样导入\n",
    "# import sys\n",
    "# sys.path.append(\"..\")\n",
    "# from d2lzh_pytorch import *\n",
    "\n",
    "set_figsize()\n",
    "plt.scatter(features[:, 1].numpy(), labels.numpy(), 1);"
   ]
  },
  {
   "cell_type": "code",
   "execution_count": 33,
   "metadata": {
    "collapsed": false,
    "pycharm": {
     "name": "#%%\n"
    }
   },
   "outputs": [],
   "source": [
    "def data_iter(batch_size, features, labels):\n",
    "    num_examples = len(features)\n",
    "    indices = list(range(num_examples))\n",
    "    random.shuffle(indices)  # 样本的读取顺序是随机的\n",
    "    for i in range(0, num_examples, batch_size):\n",
    "        j = torch.LongTensor(indices[i: min(i + batch_size, num_examples)])\n",
    "        # 最后一次可能不足一个batch\n",
    "        yield  features.index_select(0, j), labels.index_select(0, j)"
   ]
  },
  {
   "cell_type": "code",
   "execution_count": 34,
   "metadata": {
    "collapsed": false,
    "pycharm": {
     "name": "#%%\n"
    }
   },
   "outputs": [
    {
     "name": "stdout",
     "output_type": "stream",
     "text": [
      "tensor([[ 0.9085, -0.6558],\n",
      "        [-1.8446, -0.4574],\n",
      "        [-0.6306,  0.7338],\n",
      "        [-1.3867, -0.7797],\n",
      "        [ 0.1014,  0.1764],\n",
      "        [-0.6549,  1.3422],\n",
      "        [ 0.1206,  0.0908],\n",
      "        [ 0.1697,  0.7654],\n",
      "        [ 0.7425,  1.0930],\n",
      "        [ 1.6905,  0.5108]]) tensor([ 8.2326,  2.0874,  0.4473,  4.0806,  3.7959, -1.6840,  4.1273,  1.9302,\n",
      "         1.9789,  5.8494])\n"
     ]
    }
   ],
   "source": [
    "batch_size = 10\n",
    "\n",
    "for X, y in data_iter(batch_size, features, labels):\n",
    "    print(X, y)\n",
    "    break"
   ]
  },
  {
   "cell_type": "code",
   "execution_count": 35,
   "metadata": {
    "collapsed": false,
    "pycharm": {
     "name": "#%%\n"
    }
   },
   "outputs": [],
   "source": [
    "w = torch.tensor(np.random.normal(0, 0.01, (num_inputs, 1)), dtype=torch.float32)\n",
    "b = torch.zeros(1, dtype=torch.float32)"
   ]
  },
  {
   "cell_type": "code",
   "execution_count": 36,
   "metadata": {
    "collapsed": false,
    "pycharm": {
     "name": "#%%\n"
    }
   },
   "outputs": [
    {
     "data": {
      "text/plain": [
       "tensor([0.], requires_grad=True)"
      ]
     },
     "execution_count": 36,
     "metadata": {},
     "output_type": "execute_result"
    }
   ],
   "source": [
    "w.requires_grad_(requires_grad=True)\n",
    "b.requires_grad_(requires_grad=True)"
   ]
  },
  {
   "cell_type": "code",
   "execution_count": 37,
   "metadata": {
    "collapsed": false,
    "pycharm": {
     "name": "#%%\n"
    }
   },
   "outputs": [],
   "source": [
    "def linreg(X, w, b):  # 本函数已保存在d2lzh_pytorch包中方便以后使用\n",
    "    return torch.mm(X, w) + b"
   ]
  },
  {
   "cell_type": "code",
   "execution_count": 38,
   "metadata": {
    "collapsed": false,
    "pycharm": {
     "name": "#%%\n"
    }
   },
   "outputs": [],
   "source": [
    "def squared_loss(y_hat, y):  # 本函数已保存在d2lzh_pytorch包中方便以后使用\n",
    "    # 注意这里返回的是向量, 另外, pytorch里的MSELoss并没有除以 2\n",
    "    return (y_hat - y.view(y_hat.size())) ** 2 / 2"
   ]
  },
  {
   "cell_type": "code",
   "execution_count": 39,
   "metadata": {
    "collapsed": false,
    "pycharm": {
     "name": "#%%\n"
    }
   },
   "outputs": [],
   "source": [
    "def sgd(params, lr, batch_size):  # 本函数已保存在d2lzh_pytorch包中方便以后使用\n",
    "    for param in params:\n",
    "        param.data -= lr * param.grad / batch_size\n",
    "        # 注意这里更改param时用的param.data"
   ]
  },
  {
   "cell_type": "code",
   "execution_count": 40,
   "metadata": {
    "collapsed": false,
    "pycharm": {
     "name": "#%%\n"
    }
   },
   "outputs": [
    {
     "name": "stdout",
     "output_type": "stream",
     "text": [
      "epoch 1, loss 0.036047\n",
      "epoch 2, loss 0.000134\n",
      "epoch 3, loss 0.000052\n",
      "[2, -3.4] \n",
      " tensor([[ 1.9993],\n",
      "        [-3.4002]], requires_grad=True)\n",
      "4.2 \n",
      " tensor([4.2008], requires_grad=True)\n"
     ]
    }
   ],
   "source": [
    "lr = 0.03\n",
    "num_epochs = 3\n",
    "net = linreg\n",
    "loss = squared_loss\n",
    "\n",
    "for epoch in range(num_epochs):  # 训练模型一共需要num_epochs个迭代周期\n",
    "    # 在每一个迭代周期中，会使用训练数据集中所有样本一次（假设样本数能够被批量大小整除）。X\n",
    "    # 和y分别是小批量样本的特征和标签\n",
    "    for X, y in data_iter(batch_size, features, labels):\n",
    "        l = loss(net(X, w, b), y).sum()  # l是有关小批量X和y的损失\n",
    "        l.backward()  # 小批量的损失对模型参数求梯度\n",
    "        sgd([w, b], lr, batch_size)  # 使用小批量随机梯度下降迭代模型参数\n",
    "\n",
    "        # 不要忘了梯度清零\n",
    "        w.grad.data.zero_()\n",
    "        b.grad.data.zero_()\n",
    "    train_l = loss(net(features, w, b), labels)\n",
    "    print('epoch %d, loss %f' % (epoch + 1, train_l.mean().item()))\n",
    "print(true_w,'\\n',w)\n",
    "print(true_b,'\\n',b)"
   ]
  },
  {
   "cell_type": "code",
   "execution_count": 41,
   "metadata": {
    "collapsed": false,
    "pycharm": {
     "name": "#%%\n"
    }
   },
   "outputs": [
    {
     "name": "stdout",
     "output_type": "stream",
     "text": [
      "tensor([[ 1.5175,  1.3278],\n",
      "        [ 2.6595, -0.6004],\n",
      "        [-1.0487,  0.4307],\n",
      "        [ 0.7550,  0.9152],\n",
      "        [ 0.8531, -0.2371],\n",
      "        [-0.8648,  0.2920],\n",
      "        [-1.5643, -0.6954],\n",
      "        [-0.3637, -0.5074],\n",
      "        [ 0.0429, -1.4884],\n",
      "        [ 0.3198,  0.3348]]) tensor([ 2.7314, 11.5681,  0.6394,  2.6018,  6.6821,  1.4866,  3.4317,  5.1903,\n",
      "         9.3511,  3.7039])\n"
     ]
    }
   ],
   "source": [
    "import torch.utils.data as Data\n",
    "import numpy as np\n",
    "num_inputs = 2\n",
    "num_examples = 1000\n",
    "true_w = [2,-3.4]\n",
    "true_b = 4.2\n",
    "features = torch.tensor(np.random.normal(0,1,(num_examples,num_inputs)),\n",
    "                        dtype=torch.float)\n",
    "labels = true_w[0] * features[:,0] + true_w[1] * features[:,1] + true_b\n",
    "labels += torch.tensor(np.random.normal(0,0.01,size=labels.size()),\n",
    "                       dtype=torch.float)\n",
    "batch_size = 10\n",
    "dataset = Data.TensorDataset(features,labels)\n",
    "data_iter = Data.DataLoader(dataset, batch_size, shuffle=True)\n",
    "\n",
    "for X,y in data_iter:\n",
    "    print(X,y)\n",
    "    break"
   ]
  },
  {
   "cell_type": "code",
   "execution_count": 42,
   "metadata": {
    "collapsed": false,
    "pycharm": {
     "name": "#%%\n"
    }
   },
   "outputs": [
    {
     "name": "stdout",
     "output_type": "stream",
     "text": [
      "torch.Size([1000, 2]) LinearNet(\n",
      "  (linear): Linear(in_features=2, out_features=1, bias=True)\n",
      ")\n"
     ]
    }
   ],
   "source": [
    "import torch.nn as nn\n",
    "class LinearNet(nn.Module):\n",
    "    def __init__(self, n_feature):\n",
    "        super(LinearNet,self).__init__()\n",
    "        self.linear = nn.Linear(n_feature,1)\n",
    "    def forward(self,x):\n",
    "        y = self.linear(x)\n",
    "        return y\n",
    "\n",
    "net = LinearNet(num_inputs)\n",
    "print(features.shape, net)"
   ]
  },
  {
   "cell_type": "code",
   "execution_count": 43,
   "metadata": {
    "collapsed": false,
    "pycharm": {
     "name": "#%%\n"
    }
   },
   "outputs": [
    {
     "name": "stdout",
     "output_type": "stream",
     "text": [
      "LinearNet(\n",
      "  (linear): Linear(in_features=2, out_features=1, bias=True)\n",
      ") \n",
      " Sequential(\n",
      "  (0): Linear(in_features=2, out_features=10, bias=True)\n",
      "  (1): Linear(in_features=10, out_features=1, bias=True)\n",
      ") \n",
      " Sequential(\n",
      "  (layer1): Linear(in_features=2, out_features=10, bias=True)\n",
      "  (layer2): Linear(in_features=10, out_features=1, bias=True)\n",
      ") \n",
      " Sequential(\n",
      "  (layer1): Linear(in_features=2, out_features=10, bias=True)\n",
      "  (layer2): Linear(in_features=10, out_features=1, bias=True)\n",
      ")\n"
     ]
    }
   ],
   "source": [
    "net_1 = nn.Sequential(\n",
    "    nn.Linear(num_inputs,10),\n",
    "    nn.Linear(10,1)\n",
    ")\n",
    "net_2 = nn.Sequential()\n",
    "net_2.add_module('layer1',nn.Linear(num_inputs,10))\n",
    "net_2.add_module('layer2',nn.Linear(10,1))\n",
    "from collections import OrderedDict\n",
    "net_3 = nn.Sequential(OrderedDict([\n",
    "    ('layer1',nn.Linear(num_inputs,10)),\n",
    "    ('layer2',nn.Linear(10,1))\n",
    "]))\n",
    "print(net,'\\n',net_1,'\\n',net_2,'\\n',net_3)"
   ]
  },
  {
   "cell_type": "code",
   "execution_count": 44,
   "metadata": {
    "collapsed": false,
    "pycharm": {
     "name": "#%%\n"
    }
   },
   "outputs": [
    {
     "name": "stdout",
     "output_type": "stream",
     "text": [
      "Parameter containing:\n",
      "tensor([[-0.1254,  0.1982]], requires_grad=True)\n",
      "Parameter containing:\n",
      "tensor([-0.4401], requires_grad=True)\n"
     ]
    }
   ],
   "source": [
    "for param in net.parameters():\n",
    "    print(param)"
   ]
  },
  {
   "cell_type": "code",
   "execution_count": 45,
   "metadata": {
    "collapsed": false,
    "pycharm": {
     "name": "#%%\n"
    }
   },
   "outputs": [
    {
     "name": "stdout",
     "output_type": "stream",
     "text": [
      "Parameter containing:\n",
      "tensor([[ 0.1626, -0.5042]], requires_grad=True) Parameter containing:\n",
      "tensor([-0.4967], requires_grad=True)\n",
      "Parameter containing:\n",
      "tensor([[-0.0128,  0.0049]], requires_grad=True) Parameter containing:\n",
      "tensor([0.], requires_grad=True)\n"
     ]
    }
   ],
   "source": [
    "from torch.nn import init\n",
    "net = nn.Sequential(nn.Linear(num_inputs,1))\n",
    "print(net[0].weight, net[0].bias)\n",
    "init.normal_(net[0].weight, mean=0, std=0.01)\n",
    "init.constant_(net[0].bias, val=0)\n",
    "print(net[0].weight, net[0].bias)"
   ]
  },
  {
   "cell_type": "code",
   "execution_count": 46,
   "metadata": {
    "collapsed": false,
    "pycharm": {
     "name": "#%%\n"
    }
   },
   "outputs": [
    {
     "name": "stdout",
     "output_type": "stream",
     "text": [
      "SGD (\n",
      "Parameter Group 0\n",
      "    dampening: 0\n",
      "    lr: 0.03\n",
      "    momentum: 0\n",
      "    nesterov: False\n",
      "    weight_decay: 0\n",
      ")\n"
     ]
    }
   ],
   "source": [
    "loss = nn.MSELoss()\n",
    "import torch.optim as optim\n",
    "optimizer = optim.SGD(net.parameters(),lr=0.03)\n",
    "print(optimizer)"
   ]
  },
  {
   "cell_type": "code",
   "execution_count": 47,
   "metadata": {
    "collapsed": false,
    "pycharm": {
     "name": "#%%\n"
    }
   },
   "outputs": [
    {
     "name": "stdout",
     "output_type": "stream",
     "text": [
      "Parameter containing:\n",
      "tensor([[-0.0128,  0.0049]], requires_grad=True)\n",
      "Parameter containing:\n",
      "tensor([0.], requires_grad=True)\n",
      "2.0001132488250732 -3.399900197982788\n",
      "4.1997880935668945\n"
     ]
    }
   ],
   "source": [
    "num_epochs = 3\n",
    "for param in net.parameters():\n",
    "    print(param)\n",
    "for epoch in range(1,num_epochs + 1):\n",
    "    for X, y in data_iter:\n",
    "        #print(X[0],y[0])\n",
    "        output = net(X)\n",
    "        l = loss(output, y.view(-1,1))\n",
    "        optimizer.zero_grad() # 梯度清零\n",
    "        l.backward()\n",
    "        optimizer.step()\n",
    "    #print('epoch %d loss %lf' %(epoch, l.item()))\n",
    "dense = net[0]\n",
    "print(dense.weight[0,0].item(),dense.weight[0,1].item())\n",
    "print(dense.bias.item())"
   ]
  },
  {
   "cell_type": "code",
   "execution_count": 48,
   "metadata": {
    "collapsed": false,
    "pycharm": {
     "name": "#%%\n"
    }
   },
   "outputs": [
    {
     "name": "stdout",
     "output_type": "stream",
     "text": [
      "<class 'torchvision.datasets.mnist.FashionMNIST'>\n",
      "60000 10000\n"
     ]
    }
   ],
   "source": [
    "import torch\n",
    "import torchvision\n",
    "import torchvision.transforms as transforms\n",
    "import matplotlib.pyplot as plt\n",
    "import time\n",
    "import  sys\n",
    "sys.path.append('..')\n",
    "\n",
    "mnist_train = torchvision.datasets.FashionMNIST(root='./Datasets/FashionMNIST',\n",
    "                                                train=True,\n",
    "                                                download=True,\n",
    "                                                transform=transforms.ToTensor())\n",
    "mnist_test = torchvision.datasets.FashionMNIST(root='./Datasets/FashionMNIST',\n",
    "                                               train=False,\n",
    "                                               download=True,\n",
    "                                               transform=transforms.ToTensor())\n",
    "\n",
    "print(type(mnist_train))\n",
    "print(len(mnist_train),len(mnist_test))"
   ]
  },
  {
   "cell_type": "code",
   "execution_count": 49,
   "metadata": {
    "collapsed": false,
    "pycharm": {
     "name": "#%%\n"
    }
   },
   "outputs": [
    {
     "name": "stdout",
     "output_type": "stream",
     "text": [
      "torch.Size([1, 28, 28]) 9\n"
     ]
    }
   ],
   "source": [
    "features, label = mnist_train[0]\n",
    "print(features.shape,label)"
   ]
  },
  {
   "cell_type": "code",
   "execution_count": 50,
   "metadata": {
    "collapsed": false,
    "pycharm": {
     "name": "#%%\n"
    }
   },
   "outputs": [],
   "source": [
    "# 本函数已保存在d2lzh包中方便以后使用\n",
    "def get_fashion_mnist_labels(labels):\n",
    "    text_labels = ['t-shirt', 'trouser', 'pullover', 'dress', 'coat',\n",
    "                   'sandal', 'shirt', 'sneaker', 'bag', 'ankle boot']\n",
    "    return [text_labels[int(i)] for i in labels]\n",
    "# 本函数已保存在d2lzh包中方便以后使用\n",
    "def show_fashion_mnist(images, labels):\n",
    "    #d2l.use_svg_display()\n",
    "    # 这里的_表示我们忽略（不使用）的变量\n",
    "    _, figs = plt.subplots(1, len(images), figsize=(12, 12))\n",
    "    for f, img, lbl in zip(figs, images, labels):\n",
    "        f.imshow(img.view((28, 28)).numpy())\n",
    "        f.set_title(lbl)\n",
    "        f.axes.get_xaxis().set_visible(False)\n",
    "        f.axes.get_yaxis().set_visible(False)\n",
    "    plt.show()\n",
    "X, y = [], []"
   ]
  },
  {
   "cell_type": "code",
   "execution_count": 51,
   "metadata": {
    "collapsed": false,
    "pycharm": {
     "name": "#%%\n"
    }
   },
   "outputs": [
    {
     "name": "stdout",
     "output_type": "stream",
     "text": [
      "1.28 sec\n"
     ]
    }
   ],
   "source": [
    "batch_size = 256\n",
    "train_iter = torch.utils.data.DataLoader(mnist_train,\n",
    "                                         batch_size=batch_size,\n",
    "                                         shuffle=True,\n",
    "                                         num_workers=8)\n",
    "test_iter = torch.utils.data.DataLoader(mnist_test,\n",
    "                                        batch_size=batch_size,\n",
    "                                        shuffle=True,\n",
    "                                        num_workers=8)\n",
    "start = time.time()\n",
    "for X,y in train_iter:\n",
    "    continue\n",
    "print('%.2lf sec' %(time.time()-start))"
   ]
  },
  {
   "cell_type": "code",
   "execution_count": 52,
   "metadata": {
    "collapsed": false,
    "pycharm": {
     "name": "#%%\n"
    }
   },
   "outputs": [],
   "source": [
    "import torch\n",
    "import torchvision\n",
    "import numpy as np\n",
    "\n",
    "def load_data_fashion_mnist(batch_size,\n",
    "                            resize=None,\n",
    "                            root='./Datasets/FashionMNIST'):\n",
    "    \"\"\"Download the fashion mnist dataset and then load into memory.\"\"\"\n",
    "    trans = []\n",
    "    if resize:\n",
    "        trans.append(torchvision.transforms.Resize(size=resize))\n",
    "    trans.append(torchvision.transforms.ToTensor())\n",
    "\n",
    "    transform = torchvision.transforms.Compose(trans)\n",
    "    mnist_train = torchvision.datasets.FashionMNIST(root=root,\n",
    "                                                    train=True,\n",
    "                                                    download=True,\n",
    "                                                    transform=transform)\n",
    "    mnist_test = torchvision.datasets.FashionMNIST(root=root,\n",
    "                                                   train=False,\n",
    "                                                   download=True,\n",
    "                                                   transform=transform)\n",
    "\n",
    "    train_iter = torch.utils.data.DataLoader(mnist_train,\n",
    "                                             batch_size=batch_size,\n",
    "                                             shuffle=True,\n",
    "                                             num_workers=4)\n",
    "    test_iter = torch.utils.data.DataLoader(mnist_test,\n",
    "                                            batch_size=batch_size,\n",
    "                                            shuffle=False,\n",
    "                                            num_workers=4)\n",
    "\n",
    "    return train_iter, test_iter\n",
    "\n",
    "batch_size = 256\n",
    "train_iter, test_iter = load_data_fashion_mnist(batch_size)\n",
    "\n",
    "num_inputs = 784\n",
    "num_outputs = 10\n",
    "W = torch.tensor(np.random.normal(0, 0.01, (num_inputs, num_outputs)),\n",
    "                 dtype=torch.float)\n",
    "b = torch.zeros(num_outputs, dtype=torch.float)\n",
    "\n",
    "W.requires_grad_(requires_grad=True)\n",
    "b.requires_grad_(requires_grad=True)\n",
    "\n",
    "def softmax(X):\n",
    "    X_exp = X.exp()\n",
    "    partition = X_exp.sum(dim=1, keepdim=True)\n",
    "    return X_exp / partition  # 这里应用了广播机制\n",
    "\n",
    "def net(X):\n",
    "    return softmax(torch.mm((X.view(-1,num_inputs)),W)+b)\n",
    "\n",
    "def cross_entropy(y_hat, y):\n",
    "    return - torch.log(y_hat.gather(1, y.view(-1,1)))\n",
    "\n",
    "def accuracy(y_hat,y):\n",
    "    return (y_hat.argmax(dim=1)==y).float().mean().item()\n",
    "\n",
    "# 本函数已保存在d2lzh_pytorch包中方便以后使用。\n",
    "def evaluate_accuracy(data_iter, net):\n",
    "    acc_sum, n = 0.0, 0\n",
    "    for X, y in data_iter:\n",
    "        acc_sum += (net(X).argmax(dim=1) == y).float().sum().item()\n",
    "        n += y.shape[0]\n",
    "    return acc_sum / n"
   ]
  },
  {
   "cell_type": "code",
   "execution_count": 53,
   "metadata": {
    "collapsed": false,
    "pycharm": {
     "name": "#%%\n"
    }
   },
   "outputs": [
    {
     "name": "stdout",
     "output_type": "stream",
     "text": [
      "tensor([[5, 7, 9]])\n",
      "tensor([[ 6],\n",
      "        [15]])\n",
      "tensor([[0.3054, 0.1324, 0.1491, 0.2365, 0.1765],\n",
      "        [0.1457, 0.2666, 0.1668, 0.2631, 0.1577]]) \n",
      " tensor([1., 1.])\n",
      "0.5\n",
      "<function net at 0x7f30f4d45670>\n",
      "0.0907\n"
     ]
    }
   ],
   "source": [
    "X = torch.tensor([[1, 2, 3], [4, 5, 6]])\n",
    "print(X.sum(dim=0, keepdim=True))\n",
    "print(X.sum(dim=1, keepdim=True))\n",
    "X = torch.rand((2,5))\n",
    "X_prob = softmax(X)\n",
    "print(X_prob,'\\n',X_prob.sum(dim=1))\n",
    "y_hat = torch.tensor([[0.1, 0.3, 0.6], [0.3, 0.2, 0.5]])\n",
    "y = torch.LongTensor([0, 2])\n",
    "y_hat.gather(1, y.view(-1, 1))\n",
    "print(accuracy(y_hat,y))\n",
    "print(net)\n",
    "print(evaluate_accuracy(test_iter, net))"
   ]
  },
  {
   "cell_type": "code",
   "execution_count": 54,
   "metadata": {
    "collapsed": false,
    "pycharm": {
     "name": "#%%\n"
    }
   },
   "outputs": [],
   "source": [
    "num_epochs, lr = 5, 0.1\n",
    "\n",
    "# 本函数已保存在d2lzh包中方便以后使用\n",
    "def train_ch3(net, train_iter, test_iter, loss, num_epochs, batch_size,\n",
    "              params=None, lr=None, optimizer=None):\n",
    "    for epoch in range(num_epochs):\n",
    "        train_l_sum, train_acc_sum, n = 0.0, 0.0, 0\n",
    "        for X, y in train_iter:\n",
    "            y_hat = net(X)\n",
    "            l = loss(y_hat, y).sum()\n",
    "            optimizer.zero_grad()\n",
    "            l.backward()\n",
    "            optimizer.step()\n",
    "            train_l_sum += l.item()\n",
    "            train_acc_sum += (y_hat.argmax(dim=1) == y).sum().item()\n",
    "            n += y.shape[0]\n",
    "        test_acc = evaluate_accuracy(test_iter, net)\n",
    "        print('epoch %d, loss %.4f, train acc %.3f, test acc %.3f'\n",
    "              % (epoch + 1, train_l_sum / n, train_acc_sum / n, test_acc))"
   ]
  },
  {
   "cell_type": "code",
   "execution_count": 55,
   "metadata": {
    "collapsed": false,
    "pycharm": {
     "name": "#%%\n"
    }
   },
   "outputs": [],
   "source": [
    "import torch\n",
    "from torch import nn\n",
    "from torch.nn import init\n",
    "import numpy as np\n",
    "\n",
    "batch_size = 256\n",
    "train_iter, test_iter = load_data_fashion_mnist(batch_size)\n",
    "\n",
    "num_inputs = 784\n",
    "num_outputs = 10\n",
    "\n",
    "class LinearNet(nn.Module):\n",
    "    def __init__(self, num_inputs, num_outputs):\n",
    "        super(LinearNet, self).__init__()\n",
    "        self.linear = nn.Linear(num_inputs, num_outputs)\n",
    "    def forward(self, x): # x shape: (batch, 1, 28, 28)\n",
    "        y = self.linear(x.view(x.shape[0], -1))\n",
    "        return y\n",
    "\n",
    "net = LinearNet(num_inputs, num_outputs)\n",
    "\n",
    "# 本函数已保存在d2lzh_pytorch包中方便以后使用\n",
    "class FlattenLayer(nn.Module):\n",
    "    def __init__(self):\n",
    "        super(FlattenLayer, self).__init__()\n",
    "    def forward(self, x): # x shape: (batch, *, *, ...)\n",
    "        return x.view(x.shape[0], -1)"
   ]
  },
  {
   "cell_type": "code",
   "execution_count": 56,
   "metadata": {
    "collapsed": false,
    "pycharm": {
     "name": "#%%\n"
    }
   },
   "outputs": [
    {
     "name": "stdout",
     "output_type": "stream",
     "text": [
      "epoch 1, loss 0.0031, train acc 0.749, test acc 0.772\n",
      "epoch 2, loss 0.0022, train acc 0.812, test acc 0.809\n",
      "epoch 3, loss 0.0021, train acc 0.825, test acc 0.822\n",
      "epoch 4, loss 0.0020, train acc 0.831, test acc 0.806\n",
      "epoch 5, loss 0.0019, train acc 0.838, test acc 0.808\n"
     ]
    }
   ],
   "source": [
    "from collections import OrderedDict\n",
    "\n",
    "net = nn.Sequential(\n",
    "    # FlattenLayer(),\n",
    "    # nn.Linear(num_inputs, num_outputs)\n",
    "    OrderedDict([\n",
    "        ('flatten', FlattenLayer()),\n",
    "        ('linear', nn.Linear(num_inputs, num_outputs))\n",
    "    ])\n",
    ")\n",
    "\n",
    "init.normal_(net[1].weight, mean=0, std=0.01)\n",
    "init.constant_(net[1].bias, val=0)\n",
    "\n",
    "loss = nn.CrossEntropyLoss()\n",
    "\n",
    "optimizer = torch.optim.SGD(net.parameters(), lr=0.1)\n",
    "\n",
    "num_epochs = 5\n",
    "train_ch3(net, train_iter, test_iter, loss, num_epochs, batch_size,\n",
    "          None, None, optimizer)"
   ]
  },
  {
   "cell_type": "code",
   "execution_count": 57,
   "metadata": {
    "collapsed": false,
    "pycharm": {
     "name": "#%%\n"
    }
   },
   "outputs": [],
   "source": [
    "import torch\n",
    "import numpy as np\n",
    "\n",
    "batch_size = 256\n",
    "train_iter, test_iter = load_data_fashion_mnist(batch_size)\n",
    "\n",
    "num_inputs, num_outputs, num_hiddens = 784, 10, 256\n",
    "\n",
    "W1 = torch.tensor(np.random.normal(0, 0.01, (num_inputs, num_hiddens)),\n",
    "                  dtype=torch.float)\n",
    "b1 = torch.zeros(num_hiddens, dtype=torch.float)\n",
    "W2 = torch.tensor(np.random.normal(0, 0.01, (num_hiddens, num_outputs)),\n",
    "                  dtype=torch.float)\n",
    "b2 = torch.zeros(num_outputs, dtype=torch.float)\n",
    "\n",
    "params = [W1, b1, W2, b2]\n",
    "for param in params: #设定梯度\n",
    "    param.requires_grad_(requires_grad=True)\n",
    "\n",
    "def relu(X):\n",
    "    return torch.max(input=X, other=torch.tensor(0.0))\n",
    "\n",
    "def net(X):\n",
    "    X = X.view((-1, num_inputs))\n",
    "    H = relu(torch.matmul(X, W1) + b1)\n",
    "    return torch.matmul(H, W2) + b2"
   ]
  },
  {
   "cell_type": "code",
   "execution_count": 58,
   "metadata": {
    "collapsed": false,
    "pycharm": {
     "name": "#%%\n"
    }
   },
   "outputs": [
    {
     "name": "stdout",
     "output_type": "stream",
     "text": [
      "epoch 1, loss 0.0031, train acc 0.699, test acc 0.765\n",
      "epoch 2, loss 0.0019, train acc 0.823, test acc 0.829\n",
      "epoch 3, loss 0.0016, train acc 0.844, test acc 0.810\n",
      "epoch 4, loss 0.0015, train acc 0.856, test acc 0.814\n",
      "epoch 5, loss 0.0014, train acc 0.862, test acc 0.830\n"
     ]
    }
   ],
   "source": [
    "import torch\n",
    "from torch import nn\n",
    "from torch.nn import init\n",
    "import numpy as np\n",
    "\n",
    "num_inputs, num_outputs, num_hiddens = 784, 10, 256\n",
    "\n",
    "net = nn.Sequential(\n",
    "    FlattenLayer(),\n",
    "    nn.Linear(num_inputs,num_hiddens),\n",
    "    nn.ReLU(),\n",
    "    nn.Linear(num_hiddens,num_outputs),\n",
    "    )\n",
    "\n",
    "for params in net.parameters():\n",
    "    #print(params)\n",
    "    init.normal_(params, mean=0, std=0.01)\n",
    "    #print(params)\n",
    "\n",
    "batch_size = 256\n",
    "train_iter, test_iter = load_data_fashion_mnist(batch_size)\n",
    "loss = torch.nn.CrossEntropyLoss()\n",
    "\n",
    "optimizer = torch.optim.SGD(net.parameters(), lr=0.5)\n",
    "\n",
    "num_epochs = 5\n",
    "train_ch3(net, train_iter, test_iter, loss, num_epochs, batch_size,\n",
    "          None, None, optimizer)"
   ]
  },
  {
   "cell_type": "code",
   "execution_count": 59,
   "metadata": {
    "collapsed": false,
    "pycharm": {
     "name": "#%%\n"
    }
   },
   "outputs": [],
   "source": [
    "%matplotlib inline\n",
    "import torch\n",
    "import torch.nn as nn\n",
    "import numpy as np\n",
    "\n",
    "n_train, n_test, num_inputs = 20, 100, 200\n",
    "true_w, true_b = torch.ones(num_inputs, 1) * 0.01, 0.05\n",
    "\n",
    "features = torch.randn((n_train + n_test, num_inputs))\n",
    "labels = torch.matmul(features, true_w) + true_b\n",
    "labels += torch.tensor(np.random.normal(0, 0.01, size=labels.size()),\n",
    "                       dtype=torch.float)\n",
    "train_features, test_features = features[:n_train, :], features[n_train:, :]\n",
    "train_labels, test_labels = labels[:n_train], labels[n_train:]"
   ]
  },
  {
   "cell_type": "code",
   "execution_count": 60,
   "metadata": {
    "collapsed": false,
    "pycharm": {
     "name": "#%%\n"
    }
   },
   "outputs": [],
   "source": [
    "def init_params():\n",
    "    w = torch.randn((num_inputs,1),requires_grad=True)\n",
    "    b = torch.zeros(1, requires_grad=True)\n",
    "    return [w, b]\n",
    "\n",
    "def l2_penalty(w):\n",
    "    return (w**2).sum()/2"
   ]
  },
  {
   "cell_type": "code",
   "execution_count": 61,
   "metadata": {
    "collapsed": false,
    "pycharm": {
     "name": "#%%\n"
    }
   },
   "outputs": [],
   "source": [
    "def fit_and_plot_pytorch(wd):\n",
    "    # 对权重参数衰减。权重名称一般是以weight结尾\n",
    "    net = nn.Linear(num_inputs, 1)\n",
    "    nn.init.normal_(net.weight, mean=0, std=1)\n",
    "    nn.init.normal_(net.bias, mean=0, std=1)\n",
    "    optimizer_w = torch.optim.SGD(params=[net.weight],\n",
    "                                  lr=lr,\n",
    "                                  weight_decay=wd) # 对权重参数衰减\n",
    "    optimizer_b = torch.optim.SGD(params=[net.bias],\n",
    "                                  lr=lr)  # 不对偏差参数衰减\n",
    "\n",
    "    train_ls, test_ls = [], []\n",
    "    for _ in range(num_epochs):\n",
    "        for X, y in train_iter:\n",
    "            l = loss(net(X), y).mean()\n",
    "            optimizer_w.zero_grad()\n",
    "            optimizer_b.zero_grad()\n",
    "\n",
    "            l.backward()\n",
    "\n",
    "            # 对两个optimizer实例分别调用step函数，从而分别更新权重和偏差\n",
    "            optimizer_w.step()\n",
    "            optimizer_b.step()\n",
    "        train_ls.append(loss(net(train_features), train_labels).mean().item())\n",
    "        test_ls.append(loss(net(test_features), test_labels).mean().item())\n",
    "\n",
    "    print('L2 norm of w:', net.weight.data.norm().item())"
   ]
  },
  {
   "cell_type": "code",
   "execution_count": 62,
   "metadata": {
    "collapsed": false,
    "pycharm": {
     "name": "#%%\n"
    }
   },
   "outputs": [
    {
     "name": "stdout",
     "output_type": "stream",
     "text": [
      "epoch 1, loss 0.0044, train acc 0.563, test acc 0.694\n",
      "epoch 2, loss 0.0021, train acc 0.797, test acc 0.791\n",
      "epoch 3, loss 0.0018, train acc 0.829, test acc 0.805\n",
      "epoch 4, loss 0.0016, train acc 0.845, test acc 0.841\n",
      "epoch 5, loss 0.0016, train acc 0.853, test acc 0.838\n"
     ]
    }
   ],
   "source": [
    "import torch\n",
    "import torch.nn as nn\n",
    "\n",
    "class FlattenLayer(nn.Module):\n",
    "    def __init__(self):\n",
    "        super(FlattenLayer, self).__init__()\n",
    "    def forward(self, x): # x shape: (batch, *, *, ...)\n",
    "        return x.view(x.shape[0], -1)\n",
    "\n",
    "num_epochs, lr, batch_size = 5, 100.0, 256\n",
    "loss = torch.nn.CrossEntropyLoss()\n",
    "train_iter, test_iter = load_data_fashion_mnist(batch_size)\n",
    "\n",
    "num_inputs, num_outputs, num_hiddens1, num_hiddens2 = 784, 10, 256, 256\n",
    "\n",
    "W1 = torch.tensor(np.random.normal(0, 0.01, size=(num_inputs, num_hiddens1)),\n",
    "                  dtype=torch.float, requires_grad=True)\n",
    "b1 = torch.zeros(num_hiddens1, requires_grad=True)\n",
    "W2 = torch.tensor(np.random.normal(0, 0.01, size=(num_hiddens1, num_hiddens2)),\n",
    "                  dtype=torch.float, requires_grad=True)\n",
    "b2 = torch.zeros(num_hiddens2, requires_grad=True)\n",
    "W3 = torch.tensor(np.random.normal(0, 0.01, size=(num_hiddens2, num_outputs)),\n",
    "                  dtype=torch.float, requires_grad=True)\n",
    "b3 = torch.zeros(num_outputs, requires_grad=True)\n",
    "\n",
    "params = [W1, b1, W2, b2, W3, b3]\n",
    "\n",
    "\n",
    "net = nn.Sequential(\n",
    "        FlattenLayer(),\n",
    "        nn.Linear(num_inputs, num_hiddens1),\n",
    "        nn.ReLU(),\n",
    "        nn.Dropout(0.1),\n",
    "        nn.Linear(num_hiddens1, num_hiddens2),\n",
    "        nn.ReLU(),\n",
    "        nn.Dropout(0.2),\n",
    "        nn.Linear(num_hiddens2, 10)\n",
    "        )\n",
    "\n",
    "for param in net.parameters():\n",
    "    nn.init.normal_(param, mean=0, std=0.01)\n",
    "optimizer = torch.optim.SGD(net.parameters(), lr=0.5)\n",
    "train_ch3(net, train_iter, test_iter, loss, num_epochs, batch_size,\n",
    "          None, None, optimizer)"
   ]
  }
 ],
 "metadata": {
  "interpreter": {
   "hash": "95c9ae3b46416e1662e851a5c9cf86ece70198dd36e4dabc554a415376d8c780"
  },
  "kernelspec": {
   "display_name": "Python 3",
   "language": "python",
   "name": "python3"
  },
  "language_info": {
   "codemirror_mode": {
    "name": "ipython",
    "version": 3
   },
   "file_extension": ".py",
   "mimetype": "text/x-python",
   "name": "python",
   "nbconvert_exporter": "python",
   "pygments_lexer": "ipython3",
   "version": "3.8.8"
  }
 },
 "nbformat": 4,
 "nbformat_minor": 0
}
